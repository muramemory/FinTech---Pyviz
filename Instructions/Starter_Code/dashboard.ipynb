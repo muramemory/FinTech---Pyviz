{
 "cells": [
  {
   "cell_type": "markdown",
   "metadata": {},
   "source": [
    "# Toronto Dwellings Analysis Dashboard\n",
    "\n",
    "In this notebook, you will compile the visualizations from the previous analysis into functions to create a Panel dashboard."
   ]
  },
  {
   "cell_type": "code",
   "execution_count": 109,
   "metadata": {},
   "outputs": [],
   "source": [
    "# imports\n",
    "import panel as pn\n",
    "pn.extension('plotly')\n",
    "import plotly.express as px\n",
    "import pandas as pd\n",
    "import hvplot.pandas\n",
    "import matplotlib.pyplot as plt\n",
    "import os\n",
    "from pathlib import Path\n",
    "from dotenv import load_dotenv"
   ]
  },
  {
   "cell_type": "code",
   "execution_count": 2,
   "metadata": {},
   "outputs": [],
   "source": [
    "# Initialize the Panel Extensions (for Plotly)\n",
    "import panel as pn\n",
    "pn.extension(\"plotly\")"
   ]
  },
  {
   "cell_type": "code",
   "execution_count": 3,
   "metadata": {},
   "outputs": [],
   "source": [
    "# Read the Mapbox API key\n",
    "load_dotenv()\n",
    "map_box_api = os.getenv(\"mapbox\")\n",
    "px.set_mapbox_access_token(map_box_api)"
   ]
  },
  {
   "cell_type": "markdown",
   "metadata": {},
   "source": [
    "# Import Data"
   ]
  },
  {
   "cell_type": "code",
   "execution_count": 4,
   "metadata": {},
   "outputs": [],
   "source": [
    "# Import the CSVs to Pandas DataFrames\n",
    "file_path = Path(\"Data/toronto_neighbourhoods_census_data.csv\")\n",
    "to_data = pd.read_csv(file_path, index_col=\"year\")\n",
    "\n",
    "file_path = Path(\"Data/toronto_neighbourhoods_coordinates.csv\")\n",
    "df_neighbourhood_locations = pd.read_csv(file_path,index_col='neighbourhood')\n",
    "\n",
    "file_path = Path(\"sum_dwelling.csv\")\n",
    "sum_dwelling = pd.read_csv(file_path, index_col=\"year\")"
   ]
  },
  {
   "cell_type": "markdown",
   "metadata": {},
   "source": [
    "- - -"
   ]
  },
  {
   "cell_type": "markdown",
   "metadata": {},
   "source": [
    "## Panel Visualizations\n",
    "\n",
    "In this section, you will copy the code for each plot type from your analysis notebook and place it into separate functions that Panel can use to create panes for the dashboard. \n",
    "\n",
    "These functions will convert the plot object to a Panel pane.\n",
    "\n",
    "Be sure to include any DataFrame transformation/manipulation code required along with the plotting code.\n",
    "\n",
    "Return a Panel pane object from each function that can be used to build the dashboard.\n",
    "\n",
    "Note: Remove any `.show()` lines from the code. We want to return the plots instead of showing them. The Panel dashboard will then display the plots."
   ]
  },
  {
   "cell_type": "markdown",
   "metadata": {},
   "source": [
    "### Global available data"
   ]
  },
  {
   "cell_type": "code",
   "execution_count": 5,
   "metadata": {},
   "outputs": [],
   "source": [
    "# Getting the data from the top 10 expensive neighbourhoods\n",
    "# YOUR CODE HERE!\n",
    "\n",
    "richest_neighbourhoods = to_data.groupby('neighbourhood').mean()\n",
    "richest_neighbourhoods_sorted = richest_neighbourhoods.sort_values('average_house_value', ascending=False)\n",
    "richest_neighbourhoods_sorted_top_10 = richest_neighbourhoods_sorted[0:10]\n",
    "richest_neighbourhoods_sorted_top_10_housevalue = richest_neighbourhoods_sorted_top_10['average_house_value']"
   ]
  },
  {
   "cell_type": "code",
   "execution_count": 6,
   "metadata": {},
   "outputs": [],
   "source": [
    "# Join the average values with the neighbourhood locations\n",
    "# YOUR CODE HERE!\n",
    "\n",
    "df_mean_neighbourhood_locations = pd.concat([richest_neighbourhoods, df_neighbourhood_locations], axis=1)"
   ]
  },
  {
   "cell_type": "code",
   "execution_count": 7,
   "metadata": {},
   "outputs": [],
   "source": [
    "# Calculate the mean number of dwelling types units per year\n",
    "# YOUR CODE HERE!\n",
    "\n",
    "to_data_reset_plot = to_data.groupby(['year', 'neighbourhood']).mean()"
   ]
  },
  {
   "cell_type": "code",
   "execution_count": 8,
   "metadata": {},
   "outputs": [],
   "source": [
    "# Calculate the average monthly shelter costs for owned and rented dwellings\n",
    "# YOUR CODE HERE!\n",
    "\n",
    "costs_mean = to_data_reset_plot[\n",
    "    ['shelter_costs_owned','shelter_costs_rented']\n",
    "]"
   ]
  },
  {
   "cell_type": "code",
   "execution_count": 9,
   "metadata": {},
   "outputs": [],
   "source": [
    "data_types = sum_dwelling[\n",
    "    ['single_detached_house', 'apartment_five_storeys_plus','movable_dwelling','semi_detached_house','row_house',\n",
    "    'duplex', 'apartment_five_storeys_less', 'other_house']\n",
    "]"
   ]
  },
  {
   "cell_type": "code",
   "execution_count": 10,
   "metadata": {},
   "outputs": [],
   "source": [
    "### Data organsining for plots\n",
    "df_mean = to_data[\n",
    "    ['neighbourhood', 'average_house_value']\n",
    "]"
   ]
  },
  {
   "cell_type": "code",
   "execution_count": 11,
   "metadata": {},
   "outputs": [],
   "source": [
    "## Data for Dwelling Type Units per year\n",
    "row = data_types.iloc[0]\n",
    "row1 = data_types.iloc[1]\n",
    "row2 = data_types.iloc[2]\n",
    "row3 = data_types.iloc[3]"
   ]
  },
  {
   "cell_type": "code",
   "execution_count": 12,
   "metadata": {},
   "outputs": [],
   "source": [
    "### Data for Sunburst Chart - Top 10 Expensive Neighbourhoods by Year\n",
    "df_mean_reset = to_data.reset_index()\n",
    "df_mean_reset_2001 = df_mean_reset.loc[df_mean_reset['year'] == 2001].sort_values('average_house_value', ascending=False)[0:10]\n",
    "df_mean_reset_2006 = df_mean_reset.loc[df_mean_reset['year'] == 2006].sort_values('average_house_value', ascending=False)[0:10]\n",
    "df_mean_reset_2011 = df_mean_reset.loc[df_mean_reset['year'] == 2011].sort_values('average_house_value', ascending=False)[0:10]\n",
    "df_mean_reset_2016 = df_mean_reset.loc[df_mean_reset['year'] == 2016].sort_values('average_house_value', ascending=False)[0:10]\n",
    "\n",
    "top10_richest_neighbourhoods_byyear = pd.concat([df_mean_reset_2001, df_mean_reset_2006, df_mean_reset_2011,df_mean_reset_2016])"
   ]
  },
  {
   "cell_type": "code",
   "execution_count": 13,
   "metadata": {},
   "outputs": [],
   "source": [
    "## Bar Chart with Facet Row Data Reorder\n",
    "avg_house_value_year = to_data[\n",
    "    ['neighbourhood','average_house_value']\n",
    "].reset_index()"
   ]
  },
  {
   "cell_type": "markdown",
   "metadata": {},
   "source": [
    "## Panel Visualization Functions"
   ]
  },
  {
   "cell_type": "code",
   "execution_count": 110,
   "metadata": {},
   "outputs": [],
   "source": [
    "\"\"\" Year 2001 Dwelling Types \"\"\"\n",
    "\n",
    "def dwelling_types_per_year(\n",
    "    row = row.hvplot(kind='bar',title='Year 2001 Dwelling Types', color='m',rot=20, yformatter='%.0f')\n",
    "):\n",
    "    return row"
   ]
  },
  {
   "cell_type": "code",
   "execution_count": 95,
   "metadata": {},
   "outputs": [],
   "source": [
    "\"\"\" Year 2006 Dwelling Types \"\"\"\n",
    "\n",
    "def dwelling_types_per_year_1(\n",
    "    row1 = row1.hvplot(kind='bar',title='Year 2006 Dwelling Types',figsize=(12,6), color='c',rot=20,yformatter='%.0f')\n",
    "):\n",
    "    return row1"
   ]
  },
  {
   "cell_type": "code",
   "execution_count": 96,
   "metadata": {},
   "outputs": [],
   "source": [
    "\"\"\" Year 2016 Dwelling Types \"\"\"\n",
    "\n",
    "def dwelling_types_per_year_2(\n",
    "    row2 = row2.hvplot(kind='bar',title='Year 2011 Dwelling Types',figsize=(12,6), color='y',rot=20,yformatter='%.0f')\n",
    "):\n",
    "    return row2"
   ]
  },
  {
   "cell_type": "code",
   "execution_count": 97,
   "metadata": {},
   "outputs": [],
   "source": [
    "\"\"\" Year 2016 Dwelling Types \"\"\"\n",
    "\n",
    "def dwelling_types_per_year_3(\n",
    "    row3 = row3.hvplot(kind='bar',title='Year 2016 Dwelling Types',figsize=(12,6), color='b',rot=20,yformatter='%.0f')\n",
    "):\n",
    "    return row3"
   ]
  },
  {
   "cell_type": "code",
   "execution_count": 100,
   "metadata": {},
   "outputs": [],
   "source": [
    "row_of_bar = pn.Row(dwelling_types_per_year,dwelling_types_per_year_1)\n",
    "row_of_bar2 = pn.Row(dwelling_types_per_year_2,dwelling_types_per_year_3)"
   ]
  },
  {
   "cell_type": "code",
   "execution_count": 99,
   "metadata": {},
   "outputs": [],
   "source": [
    "    \"\"\"Neighbourhood Map\"\"\"\n",
    "    \n",
    "# Define Panel visualization functions\n",
    "def neighbourhood_map(\n",
    "    \n",
    "    fig = px.scatter_mapbox(df_mean_neighbourhood_locations, lat=\"lat\", lon=\"lon\",   color=\"average_house_value\",\n",
    "                  color_continuous_scale=px.colors.cyclical.IceFire, size='average_house_value', zoom=10,mapbox_style='open-street-map', height=600, width=1200, title='Average House Value Scatterplot',\n",
    "                            hover_data=['single_detached_house','apartment_five_storeys_plus','movable_dwelling','semi_detached_house', 'row_house', 'duplex', 'apartment_five_storeys_less',\n",
    "                                                                      'other_house', 'shelter_costs_owned','shelter_costs_rented'])\n",
    "\n",
    "):\n",
    "        return fig"
   ]
  },
  {
   "cell_type": "code",
   "execution_count": 20,
   "metadata": {},
   "outputs": [],
   "source": [
    "\"\"\" Top 10 Richest Neighbourhoods in Toronto\"\"\"\n",
    "\n",
    "def top_10_richest_neighbourhoods(\n",
    "\n",
    "top_10_richest = richest_neighbourhoods_sorted_top_10_housevalue.hvplot.bar(width=750,height=600, rot=60, \n",
    "                                                           title='Top 10 Most Expensive Neighbourhoods In Toronto',\n",
    "                                                           ylabel='Price',\n",
    "                                                          xlabel='Price', fontscale=1.2,yformatter=\"%.0f\")\n",
    "):\n",
    "    return top_10_richest"
   ]
  },
  {
   "cell_type": "code",
   "execution_count": 21,
   "metadata": {},
   "outputs": [],
   "source": [
    "\"\"\"Average house values by neighbourhood.\"\"\"\n",
    "    \n",
    "    # YOUR CODE HERE!\n",
    "\n",
    "def neighbourhood_avg_house_value(\n",
    "    \n",
    "    avg_house_value = df_mean.hvplot(x='year', y='average_house_value', width=1050, height=500, color='red',\n",
    "                                                                  line_width= 5, groupby='neighbourhood', widget_location='top_left', yformatter='%.0f'\n",
    "                                                                  ,xlabel='Year',ylabel='Average House Value Price', title='Average House Value')\n",
    "    \n",
    "):\n",
    "        return avg_house_value"
   ]
  },
  {
   "cell_type": "code",
   "execution_count": 22,
   "metadata": {},
   "outputs": [],
   "source": [
    "    \"\"\"Average Shelter Owned and Rented Costs for all Toronto's neighbourhoods per year.\"\"\"\n",
    "\n",
    "    # YOUR CODE HERE!\n",
    "\n",
    "# Create two line charts, one to plot the monthly shelter costs for owned dwelleing and \n",
    "## other for rented dwellings per year\n",
    "\n",
    "def average_shelter_value(\n",
    "    costs_mean_plot = costs_mean.hvplot(x='year', y=['shelter_costs_owned','shelter_costs_rented'], width=800, height=500, \n",
    "                            line_width= 5, groupby='neighbourhood',widget_location='top_left', yformatter='%.0f',xlabel='Year',ylabel='Average House Value Price',\n",
    "                                       fontscale=1.5)\n",
    "    \n",
    "):\n",
    "        return costs_mean_plot"
   ]
  },
  {
   "cell_type": "code",
   "execution_count": 23,
   "metadata": {},
   "outputs": [],
   "source": [
    " \"\"\" Number of dwelling types per year\"\"\"\n",
    "    \n",
    "def number_dwelling_types(\n",
    "    \n",
    "    number_dwelling_types_plot = to_data_reset_plot.hvplot.bar(x='year', y=['single_detached_house','apartment_five_storeys_plus','movable_dwelling',\n",
    "                                               'semi_detached_house', 'row_house', 'duplex', 'apartment_five_storeys_less',\n",
    "                                               'other_house'],\n",
    "                                  stacked=False, width=900,height=600, rot=90,groupby='neighbourhood', widget_location='top_left',\n",
    "                                  yformatter='%.0f\"', xlabel= 'Year', ylabel = 'Dwelling Type Units', colormap='rainbow', fontscale=1.25)\n",
    "\n",
    "):\n",
    "    return number_dwelling_types_plot"
   ]
  },
  {
   "cell_type": "code",
   "execution_count": 24,
   "metadata": {},
   "outputs": [],
   "source": [
    "\"\"\" Bar Chart Facet Row\"\"\"\n",
    "\n",
    "def barchart_facet(\n",
    "    fig = px.bar(avg_house_value_year, x='neighbourhood', y='average_house_value', color='average_house_value', facet_row='year', height=800, width=1000)\n",
    "    \n",
    "):\n",
    "    return fig"
   ]
  },
  {
   "cell_type": "code",
   "execution_count": 25,
   "metadata": {},
   "outputs": [],
   "source": [
    "\"\"\" Sunburst Chart for average House Value\"\"\"\n",
    "    \n",
    "def sunburst_house_chart(\n",
    "    \n",
    "    sunburst_chart = px.sunburst(top10_richest_neighbourhoods_byyear, path=['year','neighbourhood'],values='average_house_value', \n",
    "                             color='average_house_value', hover_data=['single_detached_house','apartment_five_storeys_plus','movable_dwelling','semi_detached_house', 'row_house', 'duplex', 'apartment_five_storeys_less',\n",
    "                                                                      'other_house', 'shelter_costs_owned','shelter_costs_rented'],\n",
    "                                 width=900,height=900)\n",
    "):\n",
    "    return sunburst_chart"
   ]
  },
  {
   "cell_type": "markdown",
   "metadata": {},
   "source": [
    "## Panel Dashboard\n",
    "\n",
    "In this section, you will combine all of the plots into a single dashboard view using Panel. Be creative with your dashboard design!"
   ]
  },
  {
   "cell_type": "code",
   "execution_count": 108,
   "metadata": {},
   "outputs": [],
   "source": [
    "# Create a Title for the Dashboard\n",
    "# Define a welcome text\n",
    "# Create a tab layout for the dashboard\n",
    "# Create the main dashboard\n",
    "# YOUR CODE HERE!\n",
    "\n",
    "plot_as_column = pn.Column(\n",
    "    (\"# Average House Dashboard\"),\n",
    "    (\"Welcome to an interaction Real Estate Analysis of Toronto Dashboard.\"),\n",
    "    (\"This dashborad includes an analysis of the average house value per neighouhood, sheltter costs for owned and rented properties per neighbourhood and the types of dwelling units.\"),\n",
    "    (\"To see the data justs click through the tabs on the top of the dashboard and it will direct you to the relevant information. Enjoy!\")\n",
    "    , neighbourhood_map\n",
    ")\n",
    "\n",
    "plot_as_column_row = pn.Column(row_of_bar, row_of_bar2)\n",
    "\n",
    "plot_as_column_2 = pn.Column(\n",
    "    (\"# Shelter Costs Owned vs. Rented\"),\n",
    "    average_shelter_value\n",
    ")\n",
    "\n",
    "plot_as_column_3 = pn.Column(\n",
    "    (\"# Dwelling Type  Units\"),\n",
    "    (\"This graph includes all dwelling type units per neighbourhood for the years 2001, 2006, 2011 and 2016.\"),\n",
    "    number_dwelling_types, barchart_facet\n",
    ")\n",
    "\n",
    "plot_as_column_4 = pn.Column(\n",
    "    (\"# Average House Value\"),\n",
    " barchart_facet, sunburst_house_chart\n",
    ")\n",
    "\n",
    "plot_as_column_5 = pn.Column(\n",
    "    (\"# Top 10 Richest Neighbourhoods\"),\n",
    "    (\"Click year to enter that year data only. Hover over neighbourhoods to find the dwelling type units.\"),\n",
    "    sunburst_house_chart, top_10_richest_neighbourhoods\n",
    ")\n",
    "\n",
    "plot_as_column_6 = pn.Column(\"# Top 10 Richest Neighbourhoods\", \"Click year to enter that year data only. Hover over neighbourhoods to find all combined data.\"\n",
    "                      ,sunburst_house_chart,top_10_richest_neighbourhoods )\n",
    "\n",
    "\n",
    "tabs = pn.Tabs(\n",
    "    ## hello\n",
    "    (\"Welcome\", plot_as_column),\n",
    "    (\"Dwelling Types Per Year\", plot_as_column_row),\n",
    "    (\"Shelter Costs Owned vs. Rented\", plot_as_column_2),\n",
    "    (\"Neighbourhood Analysis\", plot_as_column_3),\n",
    "    (\"Top 10 Richest Neighbourhoods\",plot_as_column_6)\n",
    ")"
   ]
  },
  {
   "cell_type": "markdown",
   "metadata": {},
   "source": [
    "## Serve the Panel Dashboard"
   ]
  },
  {
   "cell_type": "code",
   "execution_count": 107,
   "metadata": {},
   "outputs": [
    {
     "data": {},
     "metadata": {},
     "output_type": "display_data"
    },
    {
     "data": {},
     "metadata": {},
     "output_type": "display_data"
    },
    {
     "data": {
      "application/vnd.holoviews_exec.v0+json": "",
      "text/html": [
       "<div id='14026'>\n",
       "\n",
       "\n",
       "\n",
       "\n",
       "\n",
       "  <div class=\"bk-root\" id=\"46725e0e-350b-4ead-87ed-7fde5ce71c48\" data-root-id=\"14026\"></div>\n",
       "</div>\n",
       "<script type=\"application/javascript\">(function(root) {\n",
       "  function embed_document(root) {\n",
       "    var docs_json = {\"1cc4acbc-fa73-4ecb-88bc-d76babcfccd7\":{\"defs\":[{\"extends\":null,\"module\":null,\"name\":\"ReactiveHTML1\",\"overrides\":[],\"properties\":[]},{\"extends\":null,\"module\":null,\"name\":\"FlexBox1\",\"overrides\":[],\"properties\":[{\"default\":\"flex-start\",\"kind\":null,\"name\":\"align_content\"},{\"default\":\"flex-start\",\"kind\":null,\"name\":\"align_items\"},{\"default\":\"row\",\"kind\":null,\"name\":\"flex_direction\"},{\"default\":\"wrap\",\"kind\":null,\"name\":\"flex_wrap\"},{\"default\":\"flex-start\",\"kind\":null,\"name\":\"justify_content\"}]},{\"extends\":null,\"module\":null,\"name\":\"TemplateActions1\",\"overrides\":[],\"properties\":[{\"default\":0,\"kind\":null,\"name\":\"open_modal\"},{\"default\":0,\"kind\":null,\"name\":\"close_modal\"}]},{\"extends\":null,\"module\":null,\"name\":\"MaterialTemplateActions1\",\"overrides\":[],\"properties\":[{\"default\":0,\"kind\":null,\"name\":\"open_modal\"},{\"default\":0,\"kind\":null,\"name\":\"close_modal\"}]}],\"roots\":{\"references\":[{\"attributes\":{\"children\":[{\"id\":\"14046\"}],\"margin\":[0,0,0,0],\"name\":\"Row10053\"},\"id\":\"14042\",\"type\":\"Row\"},{\"attributes\":{},\"id\":\"14066\",\"type\":\"ResetTool\"},{\"attributes\":{\"children\":[{\"id\":\"14036\"}],\"margin\":[0,0,0,0],\"name\":\"Row14739\"},\"id\":\"14034\",\"type\":\"Row\"},{\"attributes\":{\"overlay\":{\"id\":\"14067\"}},\"id\":\"14065\",\"type\":\"BoxZoomTool\"},{\"attributes\":{\"data\":[{\"hovertemplate\":\"average_house_value=%{marker.color}<br>lat=%{lat}<br>lon=%{lon}<br>single_detached_house=%{customdata[0]}<br>apartment_five_storeys_plus=%{customdata[1]}<br>movable_dwelling=%{customdata[2]}<br>semi_detached_house=%{customdata[3]}<br>row_house=%{customdata[4]}<br>duplex=%{customdata[5]}<br>apartment_five_storeys_less=%{customdata[6]}<br>other_house=%{customdata[7]}<br>shelter_costs_owned=%{customdata[8]}<br>shelter_costs_rented=%{customdata[9]}<extra></extra>\",\"legendgroup\":\"\",\"marker\":{\"coloraxis\":\"coloraxis\",\"sizemode\":\"area\",\"sizeref\":3816.214375},\"mode\":\"markers\",\"name\":\"\",\"showlegend\":false,\"subplot\":\"mapbox\",\"type\":\"scattermapbox\"}],\"data_sources\":[{\"id\":\"14035\"}],\"layout\":{\"coloraxis\":{\"colorbar\":{\"title\":{\"text\":\"average_house_value\"}},\"colorscale\":[[0.0,\"#000000\"],[0.0625,\"#001f4d\"],[0.125,\"#003786\"],[0.1875,\"#0e58a8\"],[0.25,\"#217eb8\"],[0.3125,\"#30a4ca\"],[0.375,\"#54c8df\"],[0.4375,\"#9be4ef\"],[0.5,\"#e1e9d1\"],[0.5625,\"#f3d573\"],[0.625,\"#e7b000\"],[0.6875,\"#da8200\"],[0.75,\"#c65400\"],[0.8125,\"#ac2301\"],[0.875,\"#820000\"],[0.9375,\"#4c0000\"],[1.0,\"#000000\"]]},\"height\":600,\"legend\":{\"itemsizing\":\"constant\",\"tracegroupgap\":0},\"mapbox\":{\"center\":{\"lat\":43.708840577642846,\"lon\":-79.4001855035},\"domain\":{\"x\":[0.0,1.0],\"y\":[0.0,1.0]},\"style\":\"open-street-map\",\"zoom\":10},\"template\":{\"data\":{\"bar\":[{\"error_x\":{\"color\":\"#2a3f5f\"},\"error_y\":{\"color\":\"#2a3f5f\"},\"marker\":{\"line\":{\"color\":\"#E5ECF6\",\"width\":0.5},\"pattern\":{\"fillmode\":\"overlay\",\"size\":10,\"solidity\":0.2}},\"type\":\"bar\"}],\"barpolar\":[{\"marker\":{\"line\":{\"color\":\"#E5ECF6\",\"width\":0.5},\"pattern\":{\"fillmode\":\"overlay\",\"size\":10,\"solidity\":0.2}},\"type\":\"barpolar\"}],\"carpet\":[{\"aaxis\":{\"endlinecolor\":\"#2a3f5f\",\"gridcolor\":\"white\",\"linecolor\":\"white\",\"minorgridcolor\":\"white\",\"startlinecolor\":\"#2a3f5f\"},\"baxis\":{\"endlinecolor\":\"#2a3f5f\",\"gridcolor\":\"white\",\"linecolor\":\"white\",\"minorgridcolor\":\"white\",\"startlinecolor\":\"#2a3f5f\"},\"type\":\"carpet\"}],\"choropleth\":[{\"colorbar\":{\"outlinewidth\":0,\"ticks\":\"\"},\"type\":\"choropleth\"}],\"contour\":[{\"colorbar\":{\"outlinewidth\":0,\"ticks\":\"\"},\"colorscale\":[[0.0,\"#0d0887\"],[0.1111111111111111,\"#46039f\"],[0.2222222222222222,\"#7201a8\"],[0.3333333333333333,\"#9c179e\"],[0.4444444444444444,\"#bd3786\"],[0.5555555555555556,\"#d8576b\"],[0.6666666666666666,\"#ed7953\"],[0.7777777777777778,\"#fb9f3a\"],[0.8888888888888888,\"#fdca26\"],[1.0,\"#f0f921\"]],\"type\":\"contour\"}],\"contourcarpet\":[{\"colorbar\":{\"outlinewidth\":0,\"ticks\":\"\"},\"type\":\"contourcarpet\"}],\"heatmap\":[{\"colorbar\":{\"outlinewidth\":0,\"ticks\":\"\"},\"colorscale\":[[0.0,\"#0d0887\"],[0.1111111111111111,\"#46039f\"],[0.2222222222222222,\"#7201a8\"],[0.3333333333333333,\"#9c179e\"],[0.4444444444444444,\"#bd3786\"],[0.5555555555555556,\"#d8576b\"],[0.6666666666666666,\"#ed7953\"],[0.7777777777777778,\"#fb9f3a\"],[0.8888888888888888,\"#fdca26\"],[1.0,\"#f0f921\"]],\"type\":\"heatmap\"}],\"heatmapgl\":[{\"colorbar\":{\"outlinewidth\":0,\"ticks\":\"\"},\"colorscale\":[[0.0,\"#0d0887\"],[0.1111111111111111,\"#46039f\"],[0.2222222222222222,\"#7201a8\"],[0.3333333333333333,\"#9c179e\"],[0.4444444444444444,\"#bd3786\"],[0.5555555555555556,\"#d8576b\"],[0.6666666666666666,\"#ed7953\"],[0.7777777777777778,\"#fb9f3a\"],[0.8888888888888888,\"#fdca26\"],[1.0,\"#f0f921\"]],\"type\":\"heatmapgl\"}],\"histogram\":[{\"marker\":{\"pattern\":{\"fillmode\":\"overlay\",\"size\":10,\"solidity\":0.2}},\"type\":\"histogram\"}],\"histogram2d\":[{\"colorbar\":{\"outlinewidth\":0,\"ticks\":\"\"},\"colorscale\":[[0.0,\"#0d0887\"],[0.1111111111111111,\"#46039f\"],[0.2222222222222222,\"#7201a8\"],[0.3333333333333333,\"#9c179e\"],[0.4444444444444444,\"#bd3786\"],[0.5555555555555556,\"#d8576b\"],[0.6666666666666666,\"#ed7953\"],[0.7777777777777778,\"#fb9f3a\"],[0.8888888888888888,\"#fdca26\"],[1.0,\"#f0f921\"]],\"type\":\"histogram2d\"}],\"histogram2dcontour\":[{\"colorbar\":{\"outlinewidth\":0,\"ticks\":\"\"},\"colorscale\":[[0.0,\"#0d0887\"],[0.1111111111111111,\"#46039f\"],[0.2222222222222222,\"#7201a8\"],[0.3333333333333333,\"#9c179e\"],[0.4444444444444444,\"#bd3786\"],[0.5555555555555556,\"#d8576b\"],[0.6666666666666666,\"#ed7953\"],[0.7777777777777778,\"#fb9f3a\"],[0.8888888888888888,\"#fdca26\"],[1.0,\"#f0f921\"]],\"type\":\"histogram2dcontour\"}],\"mesh3d\":[{\"colorbar\":{\"outlinewidth\":0,\"ticks\":\"\"},\"type\":\"mesh3d\"}],\"parcoords\":[{\"line\":{\"colorbar\":{\"outlinewidth\":0,\"ticks\":\"\"}},\"type\":\"parcoords\"}],\"pie\":[{\"automargin\":true,\"type\":\"pie\"}],\"scatter\":[{\"marker\":{\"colorbar\":{\"outlinewidth\":0,\"ticks\":\"\"}},\"type\":\"scatter\"}],\"scatter3d\":[{\"line\":{\"colorbar\":{\"outlinewidth\":0,\"ticks\":\"\"}},\"marker\":{\"colorbar\":{\"outlinewidth\":0,\"ticks\":\"\"}},\"type\":\"scatter3d\"}],\"scattercarpet\":[{\"marker\":{\"colorbar\":{\"outlinewidth\":0,\"ticks\":\"\"}},\"type\":\"scattercarpet\"}],\"scattergeo\":[{\"marker\":{\"colorbar\":{\"outlinewidth\":0,\"ticks\":\"\"}},\"type\":\"scattergeo\"}],\"scattergl\":[{\"marker\":{\"colorbar\":{\"outlinewidth\":0,\"ticks\":\"\"}},\"type\":\"scattergl\"}],\"scattermapbox\":[{\"marker\":{\"colorbar\":{\"outlinewidth\":0,\"ticks\":\"\"}},\"type\":\"scattermapbox\"}],\"scatterpolar\":[{\"marker\":{\"colorbar\":{\"outlinewidth\":0,\"ticks\":\"\"}},\"type\":\"scatterpolar\"}],\"scatterpolargl\":[{\"marker\":{\"colorbar\":{\"outlinewidth\":0,\"ticks\":\"\"}},\"type\":\"scatterpolargl\"}],\"scatterternary\":[{\"marker\":{\"colorbar\":{\"outlinewidth\":0,\"ticks\":\"\"}},\"type\":\"scatterternary\"}],\"surface\":[{\"colorbar\":{\"outlinewidth\":0,\"ticks\":\"\"},\"colorscale\":[[0.0,\"#0d0887\"],[0.1111111111111111,\"#46039f\"],[0.2222222222222222,\"#7201a8\"],[0.3333333333333333,\"#9c179e\"],[0.4444444444444444,\"#bd3786\"],[0.5555555555555556,\"#d8576b\"],[0.6666666666666666,\"#ed7953\"],[0.7777777777777778,\"#fb9f3a\"],[0.8888888888888888,\"#fdca26\"],[1.0,\"#f0f921\"]],\"type\":\"surface\"}],\"table\":[{\"cells\":{\"fill\":{\"color\":\"#EBF0F8\"},\"line\":{\"color\":\"white\"}},\"header\":{\"fill\":{\"color\":\"#C8D4E3\"},\"line\":{\"color\":\"white\"}},\"type\":\"table\"}]},\"layout\":{\"annotationdefaults\":{\"arrowcolor\":\"#2a3f5f\",\"arrowhead\":0,\"arrowwidth\":1},\"autotypenumbers\":\"strict\",\"coloraxis\":{\"colorbar\":{\"outlinewidth\":0,\"ticks\":\"\"}},\"colorscale\":{\"diverging\":[[0,\"#8e0152\"],[0.1,\"#c51b7d\"],[0.2,\"#de77ae\"],[0.3,\"#f1b6da\"],[0.4,\"#fde0ef\"],[0.5,\"#f7f7f7\"],[0.6,\"#e6f5d0\"],[0.7,\"#b8e186\"],[0.8,\"#7fbc41\"],[0.9,\"#4d9221\"],[1,\"#276419\"]],\"sequential\":[[0.0,\"#0d0887\"],[0.1111111111111111,\"#46039f\"],[0.2222222222222222,\"#7201a8\"],[0.3333333333333333,\"#9c179e\"],[0.4444444444444444,\"#bd3786\"],[0.5555555555555556,\"#d8576b\"],[0.6666666666666666,\"#ed7953\"],[0.7777777777777778,\"#fb9f3a\"],[0.8888888888888888,\"#fdca26\"],[1.0,\"#f0f921\"]],\"sequentialminus\":[[0.0,\"#0d0887\"],[0.1111111111111111,\"#46039f\"],[0.2222222222222222,\"#7201a8\"],[0.3333333333333333,\"#9c179e\"],[0.4444444444444444,\"#bd3786\"],[0.5555555555555556,\"#d8576b\"],[0.6666666666666666,\"#ed7953\"],[0.7777777777777778,\"#fb9f3a\"],[0.8888888888888888,\"#fdca26\"],[1.0,\"#f0f921\"]]},\"colorway\":[\"#636efa\",\"#EF553B\",\"#00cc96\",\"#ab63fa\",\"#FFA15A\",\"#19d3f3\",\"#FF6692\",\"#B6E880\",\"#FF97FF\",\"#FECB52\"],\"font\":{\"color\":\"#2a3f5f\"},\"geo\":{\"bgcolor\":\"white\",\"lakecolor\":\"white\",\"landcolor\":\"#E5ECF6\",\"showlakes\":true,\"showland\":true,\"subunitcolor\":\"white\"},\"hoverlabel\":{\"align\":\"left\"},\"hovermode\":\"closest\",\"mapbox\":{\"style\":\"light\"},\"paper_bgcolor\":\"white\",\"plot_bgcolor\":\"#E5ECF6\",\"polar\":{\"angularaxis\":{\"gridcolor\":\"white\",\"linecolor\":\"white\",\"ticks\":\"\"},\"bgcolor\":\"#E5ECF6\",\"radialaxis\":{\"gridcolor\":\"white\",\"linecolor\":\"white\",\"ticks\":\"\"}},\"scene\":{\"xaxis\":{\"backgroundcolor\":\"#E5ECF6\",\"gridcolor\":\"white\",\"gridwidth\":2,\"linecolor\":\"white\",\"showbackground\":true,\"ticks\":\"\",\"zerolinecolor\":\"white\"},\"yaxis\":{\"backgroundcolor\":\"#E5ECF6\",\"gridcolor\":\"white\",\"gridwidth\":2,\"linecolor\":\"white\",\"showbackground\":true,\"ticks\":\"\",\"zerolinecolor\":\"white\"},\"zaxis\":{\"backgroundcolor\":\"#E5ECF6\",\"gridcolor\":\"white\",\"gridwidth\":2,\"linecolor\":\"white\",\"showbackground\":true,\"ticks\":\"\",\"zerolinecolor\":\"white\"}},\"shapedefaults\":{\"line\":{\"color\":\"#2a3f5f\"}},\"ternary\":{\"aaxis\":{\"gridcolor\":\"white\",\"linecolor\":\"white\",\"ticks\":\"\"},\"baxis\":{\"gridcolor\":\"white\",\"linecolor\":\"white\",\"ticks\":\"\"},\"bgcolor\":\"#E5ECF6\",\"caxis\":{\"gridcolor\":\"white\",\"linecolor\":\"white\",\"ticks\":\"\"}},\"title\":{\"x\":0.05},\"xaxis\":{\"automargin\":true,\"gridcolor\":\"white\",\"linecolor\":\"white\",\"ticks\":\"\",\"title\":{\"standoff\":15},\"zerolinecolor\":\"white\",\"zerolinewidth\":2},\"yaxis\":{\"automargin\":true,\"gridcolor\":\"white\",\"linecolor\":\"white\",\"ticks\":\"\",\"title\":{\"standoff\":15},\"zerolinecolor\":\"white\",\"zerolinewidth\":2}}},\"title\":{\"text\":\"Average House Value Scatterplot\"},\"width\":1200},\"margin\":[5,5,5,5],\"name\":\"interactive14734\",\"viewport_update_throttle\":200},\"id\":\"14036\",\"type\":\"panel.models.plotly.PlotlyPlot\"},{\"attributes\":{\"fill_alpha\":{\"value\":0.2},\"fill_color\":{\"value\":\"#bf00bf\"},\"hatch_alpha\":{\"value\":0.2},\"hatch_color\":{\"value\":\"#bf00bf\"},\"line_alpha\":{\"value\":0.2},\"top\":{\"field\":\"A_2001\"},\"width\":{\"value\":0.8},\"x\":{\"field\":\"index\"}},\"id\":\"14080\",\"type\":\"VBar\"},{\"attributes\":{\"coordinates\":null,\"data_source\":{\"id\":\"14379\"},\"glyph\":{\"id\":\"14382\"},\"group\":null,\"hover_glyph\":null,\"muted_glyph\":{\"id\":\"14384\"},\"nonselection_glyph\":{\"id\":\"14383\"},\"selection_glyph\":{\"id\":\"14398\"},\"view\":{\"id\":\"14386\"}},\"id\":\"14385\",\"type\":\"GlyphRenderer\"},{\"attributes\":{},\"id\":\"14304\",\"type\":\"AllLabels\"},{\"attributes\":{\"coordinates\":null,\"data_source\":{\"id\":\"14399\"},\"glyph\":{\"id\":\"14402\"},\"group\":null,\"hover_glyph\":null,\"muted_glyph\":{\"id\":\"14404\"},\"nonselection_glyph\":{\"id\":\"14403\"},\"selection_glyph\":{\"id\":\"14419\"},\"view\":{\"id\":\"14406\"}},\"id\":\"14405\",\"type\":\"GlyphRenderer\"},{\"attributes\":{\"children\":[{\"id\":\"14184\"},{\"id\":\"14185\"}],\"margin\":[0,0,0,0],\"name\":\"Column10067\"},\"id\":\"14183\",\"type\":\"Column\"},{\"attributes\":{},\"id\":\"14415\",\"type\":\"UnionRenderers\"},{\"attributes\":{\"children\":[{\"id\":\"14039\"},{\"id\":\"14182\"}],\"margin\":[0,0,0,0],\"name\":\"Column14742\"},\"id\":\"14038\",\"type\":\"Column\"},{\"attributes\":{\"tools\":[{\"id\":\"14045\"},{\"id\":\"14062\"},{\"id\":\"14063\"},{\"id\":\"14064\"},{\"id\":\"14065\"},{\"id\":\"14066\"}]},\"id\":\"14068\",\"type\":\"Toolbar\"},{\"attributes\":{\"children\":[{\"id\":\"14527\"},{\"id\":\"14528\"},{\"id\":\"14529\"},{\"id\":\"14612\"}],\"margin\":[0,0,0,0],\"name\":\"Column14767\"},\"id\":\"14526\",\"type\":\"Column\"},{\"attributes\":{\"line_color\":\"#fc4f30\",\"line_width\":5,\"x\":{\"field\":\"year\"},\"y\":{\"field\":\"value\"}},\"id\":\"14402\",\"type\":\"Line\"},{\"attributes\":{},\"id\":\"14170\",\"type\":\"UnionRenderers\"},{\"attributes\":{\"line_color\":\"#30a2da\",\"line_width\":5,\"x\":{\"field\":\"year\"},\"y\":{\"field\":\"value\"}},\"id\":\"14382\",\"type\":\"Line\"},{\"attributes\":{\"source\":{\"id\":\"14399\"}},\"id\":\"14406\",\"type\":\"CDSView\"},{\"attributes\":{\"bottom_units\":\"screen\",\"coordinates\":null,\"fill_alpha\":0.5,\"fill_color\":\"lightgrey\",\"group\":null,\"left_units\":\"screen\",\"level\":\"overlay\",\"line_alpha\":1.0,\"line_color\":\"black\",\"line_dash\":[4,4],\"line_width\":2,\"right_units\":\"screen\",\"syncable\":false,\"top_units\":\"screen\"},\"id\":\"14067\",\"type\":\"BoxAnnotation\"},{\"attributes\":{\"source\":{\"id\":\"14379\"}},\"id\":\"14386\",\"type\":\"CDSView\"},{\"attributes\":{\"line_alpha\":0.2,\"line_color\":\"#fc4f30\",\"line_width\":5,\"x\":{\"field\":\"year\"},\"y\":{\"field\":\"value\"}},\"id\":\"14404\",\"type\":\"Line\"},{\"attributes\":{\"line_alpha\":0.2,\"line_color\":\"#30a2da\",\"line_width\":5,\"x\":{\"field\":\"year\"},\"y\":{\"field\":\"value\"}},\"id\":\"14384\",\"type\":\"Line\"},{\"attributes\":{\"data\":{\"Variable\":[\"shelter_costs_rented\",\"shelter_costs_rented\",\"shelter_costs_rented\",\"shelter_costs_rented\"],\"value\":{\"__ndarray__\":\"AAAAAACIlUAAAAAAAIiRQAAAAAAAVJNAAAAAAADQl0A=\",\"dtype\":\"float64\",\"order\":\"little\",\"shape\":[4]},\"year\":[2001,2006,2011,2016]},\"selected\":{\"id\":\"14400\"},\"selection_policy\":{\"id\":\"14415\"}},\"id\":\"14399\",\"type\":\"ColumnDataSource\"},{\"attributes\":{\"data\":{\"marker.color\":[[366667,371534,475742,830450,680433,557627,470996,599520,628597,1034387,412378,334773,486184,289990,568589,406371,1697067,492919,390160,549326,402135,1090696,455664,451500,394176,613197,464068,466857,519123,468801,442487,291278,483276,424038,508723,531476,885132,299023,298328,632514,442233,343988,231020,946854,1329642,364206,430308,410650,411300,592002,648124,476760,439166,499342,391427,355519,774983,319834,502160,481686,358844,319331,489709,376154,937464,722978,374234,681742,844253,1216283,896593,600558,428946,285586,503876,493588,383540,437462,316863,455212,291621,281475,753065,520500,453384,622104,512036,411339,781629,457435,331652,469444,490506,492964,691720,505459,450737,721368,415099,851317,436448,401340,384287,565810,1215852,418336,613776,479264,366694,497483,505868,1110755,418033,611942,393477,266168,740764,417866,283790,594191,687412,391483,418977,316456,381612,388356,342427,391115,387243,521460,518224,516160,331863,495153,411256,629223,900233,904096,340083,479009]],\"x\":[[\"Agincourt North\",\"Agincourt South-Malvern West\",\"Alderwood\",\"Annex\",\"Banbury-Don Mills\",\"Bathurst Manor\",\"Bay Street Corridor\",\"Bayview Village\",\"Bayview Woods-Steeles\",\"Bedford Park-Nortown\",\"Beechborough-Greenbrook\",\"Bendale\",\"Birchcliffe-Cliffside\",\"Black Creek\",\"Blake-Jones\",\"Briar Hill-Belgravia\",\"Bridle Path-Sunnybrook-York Mills\",\"Broadview North\",\"Brookhaven-Amesbury\",\"Cabbagetown-South St.James Town\",\"Caledonia-Fairbank\",\"Casa Loma\",\"Centennial Scarborough\",\"Church-Yonge Corridor\",\"Clairlea-Birchmount\",\"Clanton Park\",\"Cliffcrest\",\"Corso Italia-Davenport\",\"Danforth\",\"Danforth-East York\",\"Don Valley Village\",\"Dorset Park\",\"Dovercourt-Wallace Emerson-Juncti\",\"Downsview-Roding-CFB\",\"Dufferin Grove\",\"East End-Danforth\",\"Edenbridge-Humber Valley\",\"Eglinton East\",\"Elms-Old Rexdale\",\"Englemount-Lawrence\",\"Eringate-Centennial-West Deane\",\"Etobicoke West Mall\",\"Flemingdon Park\",\"Forest Hill North\",\"Forest Hill South\",\"Glenfield-Jane Heights\",\"Greenwood-Coxwell\",\"Guildwood\",\"Henry Farm\",\"High Park North\",\"High Park-Swansea\",\"Highland Creek\",\"Hillcrest Village\",\"Humber Heights-Westmount\",\"Humber Summit\",\"Humbermede\",\"Humewood-Cedarvale\",\"Ionview\",\"Islington-City Centre West\",\"Junction Area\",\"Keelesdale-Eglinton West\",\"Kennedy Park\",\"Kensington-Chinatown\",\"Kingsview Village-The Westway\",\"Kingsway South\",\"L'Amoreaux\",\"Lambton Baby Point\",\"Lansing-Westgate\",\"Lawrence Park North\",\"Lawrence Park South\",\"Leaside-Bennington\",\"Little Portugal\",\"Long Branch\",\"Malvern\",\"Maple Leaf\",\"Markland Wood\",\"Milliken\",\"Mimico\",\"Morningside\",\"Moss Park\",\"Mount Dennis\",\"Mount Olive-Silverstone-Jamestown\",\"Mount Pleasant East\",\"Mount Pleasant West\",\"New Toronto\",\"Newtonbrook East\",\"Newtonbrook West\",\"Niagara\",\"North Riverdale\",\"North St.James Town\",\"O'Connor-Parkview\",\"Oakridge\",\"Oakwood Village\",\"Old East York\",\"Palmerston-Little Italy\",\"Parkwoods-Donalda\",\"Pelmo Park-Humberlea\",\"Playter Estates-Danforth\",\"Pleasant View\",\"Princess-Rosethorn\",\"Regent Park\",\"Rexdale-Kipling\",\"Rockcliffe-Smythe\",\"Roncesvalles\",\"Rosedale-Moore Park\",\"Rouge\",\"Runnymede-Bloor West Village\",\"Rustic\",\"Scarborough Village\",\"South Parkdale\",\"South Riverdale\",\"St.Andrew-Windfields\",\"Steeles\",\"Stonegate-Queensway\",\"Tam O'Shanter-Sullivan\",\"Taylor-Massey\",\"The Beaches\",\"Thistletown-Beaumond Heights\",\"Thorncliffe Park\",\"Trinity-Bellwoods\",\"University\",\"Victoria Village\",\"Waterfront Communities-The Island\",\"West Hill\",\"West Humber-Clairville\",\"Westminster-Branson\",\"Weston\",\"Weston-Pellam Park\",\"Wexford/Maryvale\",\"Willowdale East\",\"Willowdale West\",\"Willowridge-Martingrove-Richview\",\"Woburn\",\"Woodbine Corridor\",\"Woodbine-Lumsden\",\"Wychwood\",\"Yonge-Eglinton\",\"Yonge-St.Clair\",\"York University Heights\",\"Yorkdale-Glen Park\"]],\"y\":[[366667,371534,475742,830450,680433,557627,470996,599520,628597,1034387,412378,334773,486184,289990,568589,406371,1697067,492919,390160,549326,402135,1090696,455664,451500,394176,613197,464068,466857,519123,468801,442487,291278,483276,424038,508723,531476,885132,299023,298328,632514,442233,343988,231020,946854,1329642,364206,430308,410650,411300,592002,648124,476760,439166,499342,391427,355519,774983,319834,502160,481686,358844,319331,489709,376154,937464,722978,374234,681742,844253,1216283,896593,600558,428946,285586,503876,493588,383540,437462,316863,455212,291621,281475,753065,520500,453384,622104,512036,411339,781629,457435,331652,469444,490506,492964,691720,505459,450737,721368,415099,851317,436448,401340,384287,565810,1215852,418336,613776,479264,366694,497483,505868,1110755,418033,611942,393477,266168,740764,417866,283790,594191,687412,391483,418977,316456,381612,388356,342427,391115,387243,521460,518224,516160,331863,495153,411256,629223,900233,904096,340083,479009]]},\"selected\":{\"id\":\"14715\"},\"selection_policy\":{\"id\":\"14714\"}},\"id\":\"14617\",\"type\":\"ColumnDataSource\"},{\"attributes\":{\"end\":1597812.3,\"reset_end\":1597812.3,\"reset_start\":0.0,\"tags\":[[[\"average_house_value\",\"average_house_value\",null]]]},\"id\":\"14633\",\"type\":\"Range1d\"},{\"attributes\":{\"line_alpha\":0.1,\"line_color\":\"#fc4f30\",\"line_width\":5,\"x\":{\"field\":\"year\"},\"y\":{\"field\":\"value\"}},\"id\":\"14403\",\"type\":\"Line\"},{\"attributes\":{\"line_alpha\":0.1,\"line_color\":\"#30a2da\",\"line_width\":5,\"x\":{\"field\":\"year\"},\"y\":{\"field\":\"value\"}},\"id\":\"14383\",\"type\":\"Line\"},{\"attributes\":{\"css_classes\":[\"markdown\"],\"margin\":[5,5,5,5],\"name\":\"Markdown14809\",\"text\":\"&lt;p&gt;Click year to enter that year data only. Hover over neighbourhoods to find the dwelling type units.&lt;/p&gt;\"},\"id\":\"14623\",\"type\":\"panel.models.markup.HTML\"},{\"attributes\":{\"fill_alpha\":{\"value\":0.1},\"fill_color\":{\"value\":\"#bf00bf\"},\"hatch_alpha\":{\"value\":0.1},\"hatch_color\":{\"value\":\"#bf00bf\"},\"line_alpha\":{\"value\":0.1},\"top\":{\"field\":\"A_2001\"},\"width\":{\"value\":0.8},\"x\":{\"field\":\"index\"}},\"id\":\"14079\",\"type\":\"VBar\"},{\"attributes\":{\"source\":{\"id\":\"14075\"}},\"id\":\"14082\",\"type\":\"CDSView\"},{\"attributes\":{\"margin\":[0,0,0,0],\"name\":\"Column14766\"},\"id\":\"14613\",\"type\":\"Column\"},{\"attributes\":{\"coordinates\":null,\"data_source\":{\"id\":\"14075\"},\"glyph\":{\"id\":\"14078\"},\"group\":null,\"hover_glyph\":null,\"muted_glyph\":{\"id\":\"14080\"},\"nonselection_glyph\":{\"id\":\"14079\"},\"selection_glyph\":{\"id\":\"14083\"},\"view\":{\"id\":\"14082\"}},\"id\":\"14081\",\"type\":\"GlyphRenderer\"},{\"attributes\":{\"css_classes\":[\"markdown\"],\"margin\":[5,5,5,5],\"name\":\"Markdown14753\",\"text\":\"&lt;p&gt;This graph includes all dwelling type units per neighbourhood for the years 2001, 2006, 2011 and 2016.&lt;/p&gt;\"},\"id\":\"14528\",\"type\":\"panel.models.markup.HTML\"},{\"attributes\":{\"format\":\"%.0f\"},\"id\":\"14084\",\"type\":\"PrintfTickFormatter\"},{\"attributes\":{\"end\":417323.5,\"reset_end\":417323.5,\"reset_start\":0.0,\"tags\":[[[\"2006\",\"2006\",null]]]},\"id\":\"14115\",\"type\":\"Range1d\"},{\"attributes\":{\"children\":[{\"id\":\"14533\"},{\"id\":\"14540\"}],\"margin\":[0,0,0,0],\"name\":\"Column02203\"},\"id\":\"14532\",\"type\":\"Column\"},{\"attributes\":{\"fill_color\":{\"value\":\"#00bfbf\"},\"hatch_color\":{\"value\":\"#00bfbf\"},\"top\":{\"field\":\"A_2006\"},\"width\":{\"value\":0.8},\"x\":{\"field\":\"index\"}},\"id\":\"14149\",\"type\":\"VBar\"},{\"attributes\":{\"callback\":null,\"renderers\":[{\"id\":\"14670\"}],\"tags\":[\"hv_created\"],\"tooltips\":[[\"neighbourhood\",\"@{neighbourhood}\"],[\"average_house_value\",\"@{average_house_value}\"]]},\"id\":\"14634\",\"type\":\"HoverTool\"},{\"attributes\":{},\"id\":\"14087\",\"type\":\"AllLabels\"},{\"attributes\":{\"factors\":[\"Bridle Path-Sunnybrook-York Mills\",\"Forest Hill South\",\"Lawrence Park South\",\"Rosedale-Moore Park\",\"St.Andrew-Windfields\",\"Casa Loma\",\"Bedford Park-Nortown\",\"Forest Hill North\",\"Kingsway South\",\"Yonge-St.Clair\"],\"tags\":[[[\"neighbourhood\",\"neighbourhood\",null]]]},\"id\":\"14632\",\"type\":\"FactorRange\"},{\"attributes\":{},\"id\":\"14086\",\"type\":\"CategoricalTickFormatter\"},{\"attributes\":{\"fill_alpha\":{\"value\":0.1},\"fill_color\":{\"value\":\"#30a2da\"},\"hatch_alpha\":{\"value\":0.1},\"hatch_color\":{\"value\":\"#30a2da\"},\"line_alpha\":{\"value\":0.1},\"top\":{\"field\":\"average_house_value\"},\"width\":{\"value\":0.8},\"x\":{\"field\":\"neighbourhood\"}},\"id\":\"14668\",\"type\":\"VBar\"},{\"attributes\":{\"fill_alpha\":{\"value\":0.1},\"fill_color\":{\"value\":\"#00bfbf\"},\"hatch_alpha\":{\"value\":0.1},\"hatch_color\":{\"value\":\"#00bfbf\"},\"line_alpha\":{\"value\":0.1},\"top\":{\"field\":\"A_2006\"},\"width\":{\"value\":0.8},\"x\":{\"field\":\"index\"}},\"id\":\"14150\",\"type\":\"VBar\"},{\"attributes\":{\"data\":{\"A_2011\":[274940,429220,100,72480,60355,44750,163895,2165],\"index\":[\"single_detached_house\",\"apartment_five_storeys_plus\",\"movable_dwelling\",\"semi_detached_house\",\"row_house\",\"duplex\",\"apartment_five_storeys_less\",\"other_house\"]},\"selected\":{\"id\":\"14219\"},\"selection_policy\":{\"id\":\"14242\"}},\"id\":\"14218\",\"type\":\"ColumnDataSource\"},{\"attributes\":{},\"id\":\"14229\",\"type\":\"CategoricalTickFormatter\"},{\"attributes\":{},\"id\":\"14147\",\"type\":\"Selection\"},{\"attributes\":{},\"id\":\"14665\",\"type\":\"Selection\"},{\"attributes\":{\"callback\":null,\"renderers\":[{\"id\":\"14295\"}],\"tags\":[\"hv_created\"],\"tooltips\":[[\"index\",\"@{index}\"],[\"2016\",\"@{A_2016}\"]]},\"id\":\"14259\",\"type\":\"HoverTool\"},{\"attributes\":{},\"id\":\"14676\",\"type\":\"AllLabels\"},{\"attributes\":{},\"id\":\"14090\",\"type\":\"AllLabels\"},{\"attributes\":{\"child\":{\"id\":\"14526\"},\"name\":\"Column14767\",\"title\":\"Neighbourhood Analysis\"},\"id\":\"14620\",\"type\":\"Panel\"},{\"attributes\":{\"axis_label\":\"\",\"coordinates\":null,\"formatter\":{\"id\":\"14157\"},\"group\":null,\"major_label_orientation\":0.3490658503988659,\"major_label_policy\":{\"id\":\"14158\"},\"ticker\":{\"id\":\"14127\"}},\"id\":\"14126\",\"type\":\"CategoricalAxis\"},{\"attributes\":{\"data\":{\"A_2006\":[266860,379400,165,69430,54690,44095,162850,1335],\"index\":[\"single_detached_house\",\"apartment_five_storeys_plus\",\"movable_dwelling\",\"semi_detached_house\",\"row_house\",\"duplex\",\"apartment_five_storeys_less\",\"other_house\"]},\"selected\":{\"id\":\"14147\"},\"selection_policy\":{\"id\":\"14170\"}},\"id\":\"14146\",\"type\":\"ColumnDataSource\"},{\"attributes\":{},\"id\":\"14640\",\"type\":\"CategoricalScale\"},{\"attributes\":{},\"id\":\"14157\",\"type\":\"CategoricalTickFormatter\"},{\"attributes\":{},\"id\":\"14393\",\"type\":\"UnionRenderers\"},{\"attributes\":{\"below\":[{\"id\":\"14644\"}],\"center\":[{\"id\":\"14646\"},{\"id\":\"14650\"}],\"left\":[{\"id\":\"14647\"}],\"margin\":[5,5,5,5],\"min_border_bottom\":10,\"min_border_left\":10,\"min_border_right\":10,\"min_border_top\":10,\"renderers\":[{\"id\":\"14670\"}],\"sizing_mode\":\"fixed\",\"title\":{\"id\":\"14636\"},\"toolbar\":{\"id\":\"14657\"},\"width\":750,\"x_range\":{\"id\":\"14632\"},\"x_scale\":{\"id\":\"14640\"},\"y_range\":{\"id\":\"14633\"},\"y_scale\":{\"id\":\"14642\"}},\"id\":\"14635\",\"subtype\":\"Figure\",\"type\":\"Plot\"},{\"attributes\":{},\"id\":\"14158\",\"type\":\"AllLabels\"},{\"attributes\":{\"callback\":null,\"renderers\":[{\"id\":\"14224\"}],\"tags\":[\"hv_created\"],\"tooltips\":[[\"index\",\"@{index}\"],[\"2011\",\"@{A_2011}\"]]},\"id\":\"14188\",\"type\":\"HoverTool\"},{\"attributes\":{\"label\":{\"value\":\"shelter_costs_owned\"},\"renderers\":[{\"id\":\"14385\"}]},\"id\":\"14397\",\"type\":\"LegendItem\"},{\"attributes\":{\"child\":{\"id\":\"14621\"},\"name\":\"Column14828\",\"title\":\"Top 10 Richest Neighbourhoods\"},\"id\":\"14700\",\"type\":\"Panel\"},{\"attributes\":{\"label\":{\"value\":\"shelter_costs_rented\"},\"renderers\":[{\"id\":\"14405\"}]},\"id\":\"14418\",\"type\":\"LegendItem\"},{\"attributes\":{},\"id\":\"14124\",\"type\":\"LinearScale\"},{\"attributes\":{\"line_color\":\"#fc4f30\",\"line_width\":5,\"x\":{\"field\":\"year\"},\"y\":{\"field\":\"value\"}},\"id\":\"14419\",\"type\":\"Line\"},{\"attributes\":{\"css_classes\":[\"markdown\"],\"margin\":[5,5,5,5],\"name\":\"Markdown14743\",\"text\":\"&lt;h1&gt;Shelter Costs Owned vs. Rented&lt;/h1&gt;\"},\"id\":\"14327\",\"type\":\"panel.models.markup.HTML\"},{\"attributes\":{},\"id\":\"14642\",\"type\":\"LinearScale\"},{\"attributes\":{},\"id\":\"14122\",\"type\":\"CategoricalScale\"},{\"attributes\":{},\"id\":\"14290\",\"type\":\"Selection\"},{\"attributes\":{\"children\":[{\"id\":\"14255\"},{\"id\":\"14256\"}],\"margin\":[0,0,0,0],\"name\":\"Column10077\"},\"id\":\"14254\",\"type\":\"Column\"},{\"attributes\":{\"coordinates\":null,\"group\":null,\"text\":\"Year 2006 Dwelling Types\",\"text_color\":\"black\",\"text_font_size\":\"12pt\"},\"id\":\"14118\",\"type\":\"Title\"},{\"attributes\":{\"factors\":[\"single_detached_house\",\"apartment_five_storeys_plus\",\"movable_dwelling\",\"semi_detached_house\",\"row_house\",\"duplex\",\"apartment_five_storeys_less\",\"other_house\"],\"palette\":[\"#7f00ff\",\"#376df8\",\"#12c7e5\",\"#5af8c7\",\"#a4f89e\",\"#ecc76e\",\"#ff6d38\",\"#ff0000\"]},\"id\":\"14569\",\"type\":\"CategoricalColorMapper\"},{\"attributes\":{\"click_policy\":\"mute\",\"coordinates\":null,\"group\":null,\"items\":[{\"id\":\"14397\"},{\"id\":\"14418\"}],\"label_text_font_size\":\"19.5px\",\"location\":[0,0],\"title\":\"Variable\",\"title_text_font_size\":\"19.5px\"},\"id\":\"14396\",\"type\":\"Legend\"},{\"attributes\":{\"line_color\":\"#30a2da\",\"line_width\":5,\"x\":{\"field\":\"year\"},\"y\":{\"field\":\"value\"}},\"id\":\"14398\",\"type\":\"Line\"},{\"attributes\":{\"coordinates\":null,\"data_source\":{\"id\":\"14146\"},\"glyph\":{\"id\":\"14149\"},\"group\":null,\"hover_glyph\":null,\"muted_glyph\":{\"id\":\"14151\"},\"nonselection_glyph\":{\"id\":\"14150\"},\"selection_glyph\":{\"id\":\"14154\"},\"view\":{\"id\":\"14153\"}},\"id\":\"14152\",\"type\":\"GlyphRenderer\"},{\"attributes\":{\"margin\":[0,0,0,0],\"name\":\"Column14740\"},\"id\":\"14033\",\"type\":\"Column\"},{\"attributes\":{\"axis\":{\"id\":\"14126\"},\"coordinates\":null,\"grid_line_color\":null,\"group\":null,\"ticker\":null},\"id\":\"14128\",\"type\":\"Grid\"},{\"attributes\":{},\"id\":\"14354\",\"type\":\"BasicTicker\"},{\"attributes\":{},\"id\":\"14130\",\"type\":\"BasicTicker\"},{\"attributes\":{},\"id\":\"14127\",\"type\":\"CategoricalTicker\"},{\"attributes\":{\"end\":542587.5,\"reset_end\":542587.5,\"reset_start\":0.0,\"tags\":[[[\"2016\",\"2016\",null]]]},\"id\":\"14258\",\"type\":\"Range1d\"},{\"attributes\":{\"data\":{\"average_house_value\":{\"__ndarray__\":\"AAAAwNVKN0EAAACA2D8yQQAAAMCLsTBBAAAAAAiwMEEAAAAAhn0uQQAAAICQ8C1BAAAAgN5kLEEAAAAAwf0pQQAAAIDEuylBAAAAgEjRKEE=\",\"dtype\":\"float64\",\"order\":\"little\",\"shape\":[10]},\"neighbourhood\":[\"Bridle Path-Sunnybrook-York Mills\",\"Forest Hill South\",\"Lawrence Park South\",\"Rosedale-Moore Park\",\"St.Andrew-Windfields\",\"Casa Loma\",\"Bedford Park-Nortown\",\"Forest Hill North\",\"Kingsway South\",\"Yonge-St.Clair\"]},\"selected\":{\"id\":\"14665\"},\"selection_policy\":{\"id\":\"14688\"}},\"id\":\"14664\",\"type\":\"ColumnDataSource\"},{\"attributes\":{\"axis_label\":\"\",\"coordinates\":null,\"formatter\":{\"id\":\"14155\"},\"group\":null,\"major_label_policy\":{\"id\":\"14161\"},\"ticker\":{\"id\":\"14130\"}},\"id\":\"14129\",\"type\":\"LinearAxis\"},{\"attributes\":{\"below\":[{\"id\":\"14126\"}],\"center\":[{\"id\":\"14128\"},{\"id\":\"14132\"}],\"height\":300,\"left\":[{\"id\":\"14129\"}],\"margin\":[5,5,5,5],\"min_border_bottom\":10,\"min_border_left\":10,\"min_border_right\":10,\"min_border_top\":10,\"renderers\":[{\"id\":\"14152\"}],\"sizing_mode\":\"fixed\",\"title\":{\"id\":\"14118\"},\"toolbar\":{\"id\":\"14139\"},\"width\":700,\"x_range\":{\"id\":\"14043\"},\"x_scale\":{\"id\":\"14122\"},\"y_range\":{\"id\":\"14115\"},\"y_scale\":{\"id\":\"14124\"}},\"id\":\"14117\",\"subtype\":\"Figure\",\"type\":\"Plot\"},{\"attributes\":{\"axis\":{\"id\":\"14129\"},\"coordinates\":null,\"dimension\":1,\"grid_line_color\":null,\"group\":null,\"ticker\":null},\"id\":\"14132\",\"type\":\"Grid\"},{\"attributes\":{\"margin\":[0,0,0,0],\"name\":\"Column10085\"},\"id\":\"14255\",\"type\":\"Column\"},{\"attributes\":{},\"id\":\"14099\",\"type\":\"UnionRenderers\"},{\"attributes\":{\"fill_alpha\":{\"value\":0.2},\"fill_color\":{\"value\":\"#00bfbf\"},\"hatch_alpha\":{\"value\":0.2},\"hatch_color\":{\"value\":\"#00bfbf\"},\"line_alpha\":{\"value\":0.2},\"top\":{\"field\":\"A_2006\"},\"width\":{\"value\":0.8},\"x\":{\"field\":\"index\"}},\"id\":\"14151\",\"type\":\"VBar\"},{\"attributes\":{},\"id\":\"14345\",\"type\":\"LinearScale\"},{\"attributes\":{\"children\":[{\"id\":\"14530\"},{\"id\":\"14531\"}],\"margin\":[0,0,0,0],\"name\":\"Column14756\"},\"id\":\"14529\",\"type\":\"Column\"},{\"attributes\":{\"children\":[{\"id\":\"14327\"},{\"id\":\"14328\"}],\"margin\":[0,0,0,0],\"name\":\"Column14750\"},\"id\":\"14326\",\"type\":\"Column\"},{\"attributes\":{\"format\":\"%.0f\"},\"id\":\"14155\",\"type\":\"PrintfTickFormatter\"},{\"attributes\":{},\"id\":\"14373\",\"type\":\"AllLabels\"},{\"attributes\":{\"tools\":[{\"id\":\"14116\"},{\"id\":\"14133\"},{\"id\":\"14134\"},{\"id\":\"14135\"},{\"id\":\"14136\"},{\"id\":\"14137\"}]},\"id\":\"14139\",\"type\":\"Toolbar\"},{\"attributes\":{\"margin\":[0,0,0,0],\"name\":\"Column14827\"},\"id\":\"14630\",\"type\":\"Column\"},{\"attributes\":{\"bottom_units\":\"screen\",\"coordinates\":null,\"fill_alpha\":0.5,\"fill_color\":\"lightgrey\",\"group\":null,\"left_units\":\"screen\",\"level\":\"overlay\",\"line_alpha\":1.0,\"line_color\":\"black\",\"line_dash\":[4,4],\"line_width\":2,\"right_units\":\"screen\",\"syncable\":false,\"top_units\":\"screen\"},\"id\":\"14138\",\"type\":\"BoxAnnotation\"},{\"attributes\":{},\"id\":\"14350\",\"type\":\"BasicTicker\"},{\"attributes\":{},\"id\":\"14133\",\"type\":\"SaveTool\"},{\"attributes\":{\"children\":[{\"id\":\"14619\"}],\"margin\":[0,0,0,0],\"name\":\"Row14765\"},\"id\":\"14614\",\"type\":\"Row\"},{\"attributes\":{},\"id\":\"14134\",\"type\":\"PanTool\"},{\"attributes\":{\"coordinates\":null,\"group\":null,\"text\":\"neighbourhood: Annex\",\"text_color\":\"black\",\"text_font_size\":\"18pt\"},\"id\":\"14341\",\"type\":\"Title\"},{\"attributes\":{},\"id\":\"14137\",\"type\":\"ResetTool\"},{\"attributes\":{},\"id\":\"14135\",\"type\":\"WheelZoomTool\"},{\"attributes\":{\"callback\":null,\"renderers\":[{\"id\":\"14385\"},{\"id\":\"14405\"}],\"tags\":[\"hv_created\"],\"tooltips\":[[\"Variable\",\"@{Variable}\"],[\"year\",\"@{year}\"],[\"value\",\"@{value}\"]]},\"id\":\"14338\",\"type\":\"HoverTool\"},{\"attributes\":{},\"id\":\"14313\",\"type\":\"UnionRenderers\"},{\"attributes\":{\"overlay\":{\"id\":\"14138\"}},\"id\":\"14136\",\"type\":\"BoxZoomTool\"},{\"attributes\":{},\"id\":\"14376\",\"type\":\"AllLabels\"},{\"attributes\":{\"tools\":[{\"id\":\"14634\"},{\"id\":\"14651\"},{\"id\":\"14652\"},{\"id\":\"14653\"},{\"id\":\"14654\"},{\"id\":\"14655\"}]},\"id\":\"14657\",\"type\":\"Toolbar\"},{\"attributes\":{\"children\":[{\"id\":\"14635\"}],\"margin\":[0,0,0,0],\"name\":\"Row14826\"},\"id\":\"14631\",\"type\":\"Row\"},{\"attributes\":{},\"id\":\"14679\",\"type\":\"AllLabels\"},{\"attributes\":{},\"id\":\"14711\",\"type\":\"Selection\"},{\"attributes\":{\"axis\":{\"id\":\"14349\"},\"coordinates\":null,\"grid_line_color\":null,\"group\":null,\"ticker\":null},\"id\":\"14352\",\"type\":\"Grid\"},{\"attributes\":{\"source\":{\"id\":\"14146\"}},\"id\":\"14153\",\"type\":\"CDSView\"},{\"attributes\":{},\"id\":\"14347\",\"type\":\"LinearScale\"},{\"attributes\":{\"margin\":[0,0,0,0],\"name\":\"Column14759\"},\"id\":\"14530\",\"type\":\"Column\"},{\"attributes\":{\"axis_label\":\"Average House Value Price\",\"axis_label_text_font_size\":\"19.5px\",\"coordinates\":null,\"formatter\":{\"id\":\"14370\"},\"group\":null,\"major_label_policy\":{\"id\":\"14376\"},\"major_label_text_font_size\":\"16.5px\",\"ticker\":{\"id\":\"14354\"}},\"id\":\"14353\",\"type\":\"LinearAxis\"},{\"attributes\":{\"axis_label\":\"Year\",\"axis_label_text_font_size\":\"19.5px\",\"coordinates\":null,\"formatter\":{\"id\":\"14372\"},\"group\":null,\"major_label_policy\":{\"id\":\"14373\"},\"major_label_text_font_size\":\"16.5px\",\"ticker\":{\"id\":\"14350\"}},\"id\":\"14349\",\"type\":\"LinearAxis\"},{\"attributes\":{\"data\":{\"marker.color\":[[459051,465144,595608,1039687,851872,698124,589666,750572,786976,1295007,516279,419121,608681,363055,711848,508759,2124653,617113,488463,687732,503455,1365503,570471,565258,493491,767695,580993,584484,649919,586918,553974,364667,605040,530877,636899,665384,1108146,374364,373493,791880,553656,430658,289227,1185419,1664653,455970,538727,514116,514929,741161,811423,596883,549816,625154,490049,445094,970245,400418,628682,603050,449257,399789,613094,470928,1173663,905137,468524,853511,1056967,1522732,1122495,751872,537021,357541,630831,617950,480175,547683,396699,569905,365097,352394,942804,651643,567617,778847,641047,514978,978565,572689,415214,587723,614092,617169,866003,632812,564303,903121,519686,1065811,546413,502460,481110,708369,1522193,523738,768420,600017,459085,622827,633325,1390616,523359,766124,492616,333230,927404,523150,355293,743901,860610,490119,524540,396189,477762,486204,428703,489659,484811,652845,648794,646210,415478,619910,514874,787760,1127052,1131888,425769,599698]],\"x\":[[\"Agincourt North\",\"Agincourt South-Malvern West\",\"Alderwood\",\"Annex\",\"Banbury-Don Mills\",\"Bathurst Manor\",\"Bay Street Corridor\",\"Bayview Village\",\"Bayview Woods-Steeles\",\"Bedford Park-Nortown\",\"Beechborough-Greenbrook\",\"Bendale\",\"Birchcliffe-Cliffside\",\"Black Creek\",\"Blake-Jones\",\"Briar Hill-Belgravia\",\"Bridle Path-Sunnybrook-York Mills\",\"Broadview North\",\"Brookhaven-Amesbury\",\"Cabbagetown-South St.James Town\",\"Caledonia-Fairbank\",\"Casa Loma\",\"Centennial Scarborough\",\"Church-Yonge Corridor\",\"Clairlea-Birchmount\",\"Clanton Park\",\"Cliffcrest\",\"Corso Italia-Davenport\",\"Danforth\",\"Danforth-East York\",\"Don Valley Village\",\"Dorset Park\",\"Dovercourt-Wallace Emerson-Juncti\",\"Downsview-Roding-CFB\",\"Dufferin Grove\",\"East End-Danforth\",\"Edenbridge-Humber Valley\",\"Eglinton East\",\"Elms-Old Rexdale\",\"Englemount-Lawrence\",\"Eringate-Centennial-West Deane\",\"Etobicoke West Mall\",\"Flemingdon Park\",\"Forest Hill North\",\"Forest Hill South\",\"Glenfield-Jane Heights\",\"Greenwood-Coxwell\",\"Guildwood\",\"Henry Farm\",\"High Park North\",\"High Park-Swansea\",\"Highland Creek\",\"Hillcrest Village\",\"Humber Heights-Westmount\",\"Humber Summit\",\"Humbermede\",\"Humewood-Cedarvale\",\"Ionview\",\"Islington-City Centre West\",\"Junction Area\",\"Keelesdale-Eglinton West\",\"Kennedy Park\",\"Kensington-Chinatown\",\"Kingsview Village-The Westway\",\"Kingsway South\",\"L'Amoreaux\",\"Lambton Baby Point\",\"Lansing-Westgate\",\"Lawrence Park North\",\"Lawrence Park South\",\"Leaside-Bennington\",\"Little Portugal\",\"Long Branch\",\"Malvern\",\"Maple Leaf\",\"Markland Wood\",\"Milliken\",\"Mimico\",\"Morningside\",\"Moss Park\",\"Mount Dennis\",\"Mount Olive-Silverstone-Jamestown\",\"Mount Pleasant East\",\"Mount Pleasant West\",\"New Toronto\",\"Newtonbrook East\",\"Newtonbrook West\",\"Niagara\",\"North Riverdale\",\"North St.James Town\",\"O'Connor-Parkview\",\"Oakridge\",\"Oakwood Village\",\"Old East York\",\"Palmerston-Little Italy\",\"Parkwoods-Donalda\",\"Pelmo Park-Humberlea\",\"Playter Estates-Danforth\",\"Pleasant View\",\"Princess-Rosethorn\",\"Regent Park\",\"Rexdale-Kipling\",\"Rockcliffe-Smythe\",\"Roncesvalles\",\"Rosedale-Moore Park\",\"Rouge\",\"Runnymede-Bloor West Village\",\"Rustic\",\"Scarborough Village\",\"South Parkdale\",\"South Riverdale\",\"St.Andrew-Windfields\",\"Steeles\",\"Stonegate-Queensway\",\"Tam O'Shanter-Sullivan\",\"Taylor-Massey\",\"The Beaches\",\"Thistletown-Beaumond Heights\",\"Thorncliffe Park\",\"Trinity-Bellwoods\",\"University\",\"Victoria Village\",\"Waterfront Communities-The Island\",\"West Hill\",\"West Humber-Clairville\",\"Westminster-Branson\",\"Weston\",\"Weston-Pellam Park\",\"Wexford/Maryvale\",\"Willowdale East\",\"Willowdale West\",\"Willowridge-Martingrove-Richview\",\"Woburn\",\"Woodbine Corridor\",\"Woodbine-Lumsden\",\"Wychwood\",\"Yonge-Eglinton\",\"Yonge-St.Clair\",\"York University Heights\",\"Yorkdale-Glen Park\"]],\"y\":[[459051,465144,595608,1039687,851872,698124,589666,750572,786976,1295007,516279,419121,608681,363055,711848,508759,2124653,617113,488463,687732,503455,1365503,570471,565258,493491,767695,580993,584484,649919,586918,553974,364667,605040,530877,636899,665384,1108146,374364,373493,791880,553656,430658,289227,1185419,1664653,455970,538727,514116,514929,741161,811423,596883,549816,625154,490049,445094,970245,400418,628682,603050,449257,399789,613094,470928,1173663,905137,468524,853511,1056967,1522732,1122495,751872,537021,357541,630831,617950,480175,547683,396699,569905,365097,352394,942804,651643,567617,778847,641047,514978,978565,572689,415214,587723,614092,617169,866003,632812,564303,903121,519686,1065811,546413,502460,481110,708369,1522193,523738,768420,600017,459085,622827,633325,1390616,523359,766124,492616,333230,927404,523150,355293,743901,860610,490119,524540,396189,477762,486204,428703,489659,484811,652845,648794,646210,415478,619910,514874,787760,1127052,1131888,425769,599698]]},\"selected\":{\"id\":\"14717\"},\"selection_policy\":{\"id\":\"14716\"}},\"id\":\"14618\",\"type\":\"ColumnDataSource\"},{\"attributes\":{\"axis\":{\"id\":\"14353\"},\"coordinates\":null,\"dimension\":1,\"grid_line_color\":null,\"group\":null,\"ticker\":null},\"id\":\"14356\",\"type\":\"Grid\"},{\"attributes\":{\"factors\":[\"single_detached_house\",\"apartment_five_storeys_plus\",\"movable_dwelling\",\"semi_detached_house\",\"row_house\",\"duplex\",\"apartment_five_storeys_less\",\"other_house\"],\"tags\":[[[\"index\",\"index\",null]]]},\"id\":\"14043\",\"type\":\"FactorRange\"},{\"attributes\":{\"args\":{\"model\":{\"id\":\"14628\"}},\"code\":\"try { model.visibility = (cb_obj.active == 4); } catch { }\",\"tags\":[\"plotly_tab_fix14628\"]},\"id\":\"15387\",\"type\":\"CustomJS\"},{\"attributes\":{\"bottom\":{\"value\":0},\"fill_alpha\":{\"value\":1.0},\"fill_color\":{\"value\":\"#00bfbf\"},\"hatch_alpha\":{\"value\":1.0},\"hatch_color\":{\"value\":\"#00bfbf\"},\"hatch_scale\":{\"value\":12.0},\"hatch_weight\":{\"value\":1.0},\"line_alpha\":{\"value\":1.0},\"line_cap\":{\"value\":\"butt\"},\"line_color\":{\"value\":\"black\"},\"line_dash\":{\"value\":[]},\"line_dash_offset\":{\"value\":0},\"line_join\":{\"value\":\"bevel\"},\"line_width\":{\"value\":1},\"top\":{\"field\":\"A_2006\"},\"width\":{\"value\":0.8},\"x\":{\"field\":\"index\"}},\"id\":\"14154\",\"type\":\"VBar\"},{\"attributes\":{\"bottom_units\":\"screen\",\"coordinates\":null,\"fill_alpha\":0.5,\"fill_color\":\"lightgrey\",\"group\":null,\"left_units\":\"screen\",\"level\":\"overlay\",\"line_alpha\":1.0,\"line_color\":\"black\",\"line_dash\":[4,4],\"line_width\":2,\"right_units\":\"screen\",\"syncable\":false,\"top_units\":\"screen\"},\"id\":\"14362\",\"type\":\"BoxAnnotation\"},{\"attributes\":{\"format\":\"%.0f\"},\"id\":\"14673\",\"type\":\"PrintfTickFormatter\"},{\"attributes\":{},\"id\":\"14161\",\"type\":\"AllLabels\"},{\"attributes\":{},\"id\":\"14357\",\"type\":\"SaveTool\"},{\"attributes\":{},\"id\":\"14358\",\"type\":\"PanTool\"},{\"attributes\":{},\"id\":\"14361\",\"type\":\"ResetTool\"},{\"attributes\":{},\"id\":\"14359\",\"type\":\"WheelZoomTool\"},{\"attributes\":{\"children\":[{\"id\":\"14329\"},{\"id\":\"14330\"}],\"margin\":[0,0,0,0],\"name\":\"Column14746\"},\"id\":\"14328\",\"type\":\"Column\"},{\"attributes\":{\"overlay\":{\"id\":\"14362\"}},\"id\":\"14360\",\"type\":\"BoxZoomTool\"},{\"attributes\":{\"children\":[{\"id\":\"14532\"}],\"margin\":[0,0,0,0],\"name\":\"Row14758\"},\"id\":\"14531\",\"type\":\"Row\"},{\"attributes\":{\"margin\":[0,0,0,0],\"name\":\"Column14749\"},\"id\":\"14329\",\"type\":\"Column\"},{\"attributes\":{\"data\":{\"A_2016\":[269680,493270,95,71200,61565,48585,165575,2845],\"index\":[\"single_detached_house\",\"apartment_five_storeys_plus\",\"movable_dwelling\",\"semi_detached_house\",\"row_house\",\"duplex\",\"apartment_five_storeys_less\",\"other_house\"]},\"selected\":{\"id\":\"14290\"},\"selection_policy\":{\"id\":\"14313\"}},\"id\":\"14289\",\"type\":\"ColumnDataSource\"},{\"attributes\":{\"tools\":[{\"id\":\"14338\"},{\"id\":\"14357\"},{\"id\":\"14358\"},{\"id\":\"14359\"},{\"id\":\"14360\"},{\"id\":\"14361\"}]},\"id\":\"14363\",\"type\":\"Toolbar\"},{\"attributes\":{\"axis\":{\"id\":\"14549\"},\"coordinates\":null,\"grid_line_color\":null,\"group\":null,\"ticker\":null},\"id\":\"14551\",\"type\":\"Grid\"},{\"attributes\":{\"data\":{\"Variable\":[\"single_detached_house\",\"single_detached_house\",\"single_detached_house\",\"single_detached_house\",\"apartment_five_storeys_plus\",\"apartment_five_storeys_plus\",\"apartment_five_storeys_plus\",\"apartment_five_storeys_plus\",\"movable_dwelling\",\"movable_dwelling\",\"movable_dwelling\",\"movable_dwelling\",\"semi_detached_house\",\"semi_detached_house\",\"semi_detached_house\",\"semi_detached_house\",\"row_house\",\"row_house\",\"row_house\",\"row_house\",\"duplex\",\"duplex\",\"duplex\",\"duplex\",\"apartment_five_storeys_less\",\"apartment_five_storeys_less\",\"apartment_five_storeys_less\",\"apartment_five_storeys_less\",\"other_house\",\"other_house\",\"other_house\",\"other_house\"],\"value\":{\"__ndarray__\":\"AAAAAAAGrUAAAAAAAL6pQAAAAAAAcqpAAAAAAAAiqkAAAAAAACCXQAAAAAAAGKBAAAAAAACkoEAAAAAAAJCgQAAAAAAAAAAAAAAAAAAAAAAAAAAAAAAUQAAAAAAAABRAAAAAAAB8kEAAAAAAADiIQAAAAAAAoIlAAAAAAAAoiUAAAAAAADyUQAAAAAAARJZAAAAAAADklkAAAAAAAICWQAAAAAAAYGhAAAAAAADAgkAAAAAAABCDQAAAAAAAKIRAAAAAAAAgZ0AAAAAAAKiBQAAAAAAACIZAAAAAAAD4hkAAAAAAAAAUQAAAAAAAAAAAAAAAAAAANEAAAAAAAAAuQA==\",\"dtype\":\"float64\",\"order\":\"little\",\"shape\":[32]},\"xoffsets\":[[\"2001\",\"single_detached_house\"],[\"2006\",\"single_detached_house\"],[\"2011\",\"single_detached_house\"],[\"2016\",\"single_detached_house\"],[\"2001\",\"apartment_five_storeys_plus\"],[\"2006\",\"apartment_five_storeys_plus\"],[\"2011\",\"apartment_five_storeys_plus\"],[\"2016\",\"apartment_five_storeys_plus\"],[\"2001\",\"movable_dwelling\"],[\"2006\",\"movable_dwelling\"],[\"2011\",\"movable_dwelling\"],[\"2016\",\"movable_dwelling\"],[\"2001\",\"semi_detached_house\"],[\"2006\",\"semi_detached_house\"],[\"2011\",\"semi_detached_house\"],[\"2016\",\"semi_detached_house\"],[\"2001\",\"row_house\"],[\"2006\",\"row_house\"],[\"2011\",\"row_house\"],[\"2016\",\"row_house\"],[\"2001\",\"duplex\"],[\"2006\",\"duplex\"],[\"2011\",\"duplex\"],[\"2016\",\"duplex\"],[\"2001\",\"apartment_five_storeys_less\"],[\"2006\",\"apartment_five_storeys_less\"],[\"2011\",\"apartment_five_storeys_less\"],[\"2016\",\"apartment_five_storeys_less\"],[\"2001\",\"other_house\"],[\"2006\",\"other_house\"],[\"2011\",\"other_house\"],[\"2016\",\"other_house\"]],\"year\":[\"2001\",\"2006\",\"2011\",\"2016\",\"2001\",\"2006\",\"2011\",\"2016\",\"2001\",\"2006\",\"2011\",\"2016\",\"2001\",\"2006\",\"2011\",\"2016\",\"2001\",\"2006\",\"2011\",\"2016\",\"2001\",\"2006\",\"2011\",\"2016\",\"2001\",\"2006\",\"2011\",\"2016\",\"2001\",\"2006\",\"2011\",\"2016\"]},\"selected\":{\"id\":\"14571\"},\"selection_policy\":{\"id\":\"14600\"}},\"id\":\"14570\",\"type\":\"ColumnDataSource\"},{\"attributes\":{},\"id\":\"14202\",\"type\":\"BasicTicker\"},{\"attributes\":{\"axis_label\":\"Year\",\"axis_label_text_font_size\":\"16.25px\",\"coordinates\":null,\"formatter\":{\"id\":\"14581\"},\"group\":null,\"group_text_font_size\":\"13.75px\",\"major_label_orientation\":1.5707963267948966,\"major_label_policy\":{\"id\":\"14582\"},\"major_label_text_font_size\":\"13.75px\",\"ticker\":{\"id\":\"14550\"}},\"id\":\"14549\",\"type\":\"CategoricalAxis\"},{\"attributes\":{},\"id\":\"14280\",\"type\":\"ResetTool\"},{\"attributes\":{\"axis\":{\"id\":\"14201\"},\"coordinates\":null,\"dimension\":1,\"grid_line_color\":null,\"group\":null,\"ticker\":null},\"id\":\"14204\",\"type\":\"Grid\"},{\"attributes\":{\"source\":{\"id\":\"14570\"}},\"id\":\"14577\",\"type\":\"CDSView\"},{\"attributes\":{},\"id\":\"14713\",\"type\":\"Selection\"},{\"attributes\":{\"coordinates\":null,\"group\":null,\"text\":\"neighbourhood: Agincourt North\",\"text_color\":\"black\",\"text_font_size\":\"15pt\"},\"id\":\"14541\",\"type\":\"Title\"},{\"attributes\":{},\"id\":\"14400\",\"type\":\"Selection\"},{\"attributes\":{},\"id\":\"14712\",\"type\":\"UnionRenderers\"},{\"attributes\":{\"children\":[{\"id\":\"14033\"},{\"id\":\"14034\"}],\"margin\":[0,0,0,0],\"name\":\"Column14735\"},\"id\":\"14032\",\"type\":\"Column\"},{\"attributes\":{},\"id\":\"14715\",\"type\":\"Selection\"},{\"attributes\":{},\"id\":\"14553\",\"type\":\"BasicTicker\"},{\"attributes\":{\"bottom_units\":\"screen\",\"coordinates\":null,\"fill_alpha\":0.5,\"fill_color\":\"lightgrey\",\"group\":null,\"left_units\":\"screen\",\"level\":\"overlay\",\"line_alpha\":1.0,\"line_color\":\"black\",\"line_dash\":[4,4],\"line_width\":2,\"right_units\":\"screen\",\"syncable\":false,\"top_units\":\"screen\"},\"id\":\"14281\",\"type\":\"BoxAnnotation\"},{\"attributes\":{},\"id\":\"14550\",\"type\":\"CategoricalTicker\"},{\"attributes\":{\"children\":[{\"id\":\"14117\"}],\"margin\":[0,0,0,0],\"name\":\"Row10063\"},\"id\":\"14113\",\"type\":\"Row\"},{\"attributes\":{\"source\":{\"id\":\"14218\"}},\"id\":\"14225\",\"type\":\"CDSView\"},{\"attributes\":{},\"id\":\"14714\",\"type\":\"UnionRenderers\"},{\"attributes\":{\"axis_label\":\"Dwelling Type Units\",\"axis_label_text_font_size\":\"16.25px\",\"coordinates\":null,\"formatter\":{\"id\":\"14579\"},\"group\":null,\"major_label_policy\":{\"id\":\"14585\"},\"major_label_text_font_size\":\"13.75px\",\"ticker\":{\"id\":\"14553\"}},\"id\":\"14552\",\"type\":\"LinearAxis\"},{\"attributes\":{},\"id\":\"14273\",\"type\":\"BasicTicker\"},{\"attributes\":{\"fill_alpha\":{\"value\":0.2},\"fill_color\":{\"field\":\"Variable\",\"transform\":{\"id\":\"14569\"}},\"hatch_alpha\":{\"value\":0.2},\"hatch_color\":{\"field\":\"Variable\",\"transform\":{\"id\":\"14569\"}},\"line_alpha\":{\"value\":0.2},\"top\":{\"field\":\"value\"},\"width\":{\"value\":0.8},\"x\":{\"field\":\"xoffsets\"}},\"id\":\"14575\",\"type\":\"VBar\"},{\"attributes\":{\"children\":[{\"id\":\"14041\"},{\"id\":\"14042\"}],\"margin\":[0,0,0,0],\"name\":\"Column10046\"},\"id\":\"14040\",\"type\":\"Column\"},{\"attributes\":{\"tools\":[{\"id\":\"14188\"},{\"id\":\"14205\"},{\"id\":\"14206\"},{\"id\":\"14207\"},{\"id\":\"14208\"},{\"id\":\"14209\"}]},\"id\":\"14211\",\"type\":\"Toolbar\"},{\"attributes\":{\"bottom_units\":\"screen\",\"coordinates\":null,\"fill_alpha\":0.5,\"fill_color\":\"lightgrey\",\"group\":null,\"left_units\":\"screen\",\"level\":\"overlay\",\"line_alpha\":1.0,\"line_color\":\"black\",\"line_dash\":[4,4],\"line_width\":2,\"right_units\":\"screen\",\"syncable\":false,\"top_units\":\"screen\"},\"id\":\"14210\",\"type\":\"BoxAnnotation\"},{\"attributes\":{\"axis\":{\"id\":\"14552\"},\"coordinates\":null,\"dimension\":1,\"grid_line_color\":null,\"group\":null,\"ticker\":null},\"id\":\"14555\",\"type\":\"Grid\"},{\"attributes\":{},\"id\":\"14205\",\"type\":\"SaveTool\"},{\"attributes\":{\"tools\":[{\"id\":\"14259\"},{\"id\":\"14276\"},{\"id\":\"14277\"},{\"id\":\"14278\"},{\"id\":\"14279\"},{\"id\":\"14280\"}]},\"id\":\"14282\",\"type\":\"Toolbar\"},{\"attributes\":{},\"id\":\"14206\",\"type\":\"PanTool\"},{\"attributes\":{},\"id\":\"14717\",\"type\":\"Selection\"},{\"attributes\":{},\"id\":\"14209\",\"type\":\"ResetTool\"},{\"attributes\":{},\"id\":\"14207\",\"type\":\"WheelZoomTool\"},{\"attributes\":{},\"id\":\"14716\",\"type\":\"UnionRenderers\"},{\"attributes\":{\"overlay\":{\"id\":\"14210\"}},\"id\":\"14208\",\"type\":\"BoxZoomTool\"},{\"attributes\":{\"fill_color\":{\"value\":\"#30a2da\"},\"hatch_color\":{\"value\":\"#30a2da\"},\"top\":{\"field\":\"average_house_value\"},\"width\":{\"value\":0.8},\"x\":{\"field\":\"neighbourhood\"}},\"id\":\"14667\",\"type\":\"VBar\"},{\"attributes\":{},\"id\":\"14719\",\"type\":\"Selection\"},{\"attributes\":{\"tools\":[{\"id\":\"14539\"},{\"id\":\"14556\"},{\"id\":\"14557\"},{\"id\":\"14558\"},{\"id\":\"14559\"},{\"id\":\"14560\"}]},\"id\":\"14562\",\"type\":\"Toolbar\"},{\"attributes\":{\"fill_alpha\":{\"value\":0.2},\"fill_color\":{\"value\":\"#0000ff\"},\"hatch_alpha\":{\"value\":0.2},\"hatch_color\":{\"value\":\"#0000ff\"},\"line_alpha\":{\"value\":0.2},\"top\":{\"field\":\"A_2016\"},\"width\":{\"value\":0.8},\"x\":{\"field\":\"index\"}},\"id\":\"14294\",\"type\":\"VBar\"},{\"attributes\":{\"source\":{\"id\":\"14289\"}},\"id\":\"14296\",\"type\":\"CDSView\"},{\"attributes\":{},\"id\":\"14301\",\"type\":\"AllLabels\"},{\"attributes\":{\"bottom_units\":\"screen\",\"coordinates\":null,\"fill_alpha\":0.5,\"fill_color\":\"lightgrey\",\"group\":null,\"left_units\":\"screen\",\"level\":\"overlay\",\"line_alpha\":1.0,\"line_color\":\"black\",\"line_dash\":[4,4],\"line_width\":2,\"right_units\":\"screen\",\"syncable\":false,\"top_units\":\"screen\"},\"id\":\"14561\",\"type\":\"BoxAnnotation\"},{\"attributes\":{},\"id\":\"14270\",\"type\":\"CategoricalTicker\"},{\"attributes\":{},\"id\":\"14556\",\"type\":\"SaveTool\"},{\"attributes\":{\"fill_alpha\":{\"value\":0.2},\"fill_color\":{\"value\":\"#bfbf00\"},\"hatch_alpha\":{\"value\":0.2},\"hatch_color\":{\"value\":\"#bfbf00\"},\"line_alpha\":{\"value\":0.2},\"top\":{\"field\":\"A_2011\"},\"width\":{\"value\":0.8},\"x\":{\"field\":\"index\"}},\"id\":\"14223\",\"type\":\"VBar\"},{\"attributes\":{},\"id\":\"14718\",\"type\":\"UnionRenderers\"},{\"attributes\":{\"axis_label\":\"\",\"coordinates\":null,\"formatter\":{\"id\":\"14300\"},\"group\":null,\"major_label_orientation\":0.3490658503988659,\"major_label_policy\":{\"id\":\"14301\"},\"ticker\":{\"id\":\"14270\"}},\"id\":\"14269\",\"type\":\"CategoricalAxis\"},{\"attributes\":{},\"id\":\"14557\",\"type\":\"PanTool\"},{\"attributes\":{},\"id\":\"14560\",\"type\":\"ResetTool\"},{\"attributes\":{},\"id\":\"14558\",\"type\":\"WheelZoomTool\"},{\"attributes\":{\"coordinates\":null,\"data_source\":{\"id\":\"14218\"},\"glyph\":{\"id\":\"14221\"},\"group\":null,\"hover_glyph\":null,\"muted_glyph\":{\"id\":\"14223\"},\"nonselection_glyph\":{\"id\":\"14222\"},\"selection_glyph\":{\"id\":\"14226\"},\"view\":{\"id\":\"14225\"}},\"id\":\"14224\",\"type\":\"GlyphRenderer\"},{\"attributes\":{\"coordinates\":null,\"data_source\":{\"id\":\"14289\"},\"glyph\":{\"id\":\"14292\"},\"group\":null,\"hover_glyph\":null,\"muted_glyph\":{\"id\":\"14294\"},\"nonselection_glyph\":{\"id\":\"14293\"},\"selection_glyph\":{\"id\":\"14297\"},\"view\":{\"id\":\"14296\"}},\"id\":\"14295\",\"type\":\"GlyphRenderer\"},{\"attributes\":{\"children\":[{\"id\":\"14625\"},{\"id\":\"14626\"}],\"margin\":[0,0,0,0],\"name\":\"Column14812\"},\"id\":\"14624\",\"type\":\"Column\"},{\"attributes\":{\"coordinates\":null,\"group\":null,\"text\":\"Year 2016 Dwelling Types\",\"text_color\":\"black\",\"text_font_size\":\"12pt\"},\"id\":\"14261\",\"type\":\"Title\"},{\"attributes\":{\"overlay\":{\"id\":\"14561\"}},\"id\":\"14559\",\"type\":\"BoxZoomTool\"},{\"attributes\":{},\"id\":\"14267\",\"type\":\"LinearScale\"},{\"attributes\":{},\"id\":\"14300\",\"type\":\"CategoricalTickFormatter\"},{\"attributes\":{\"css_classes\":[\"markdown\"],\"margin\":[5,5,5,5],\"name\":\"Markdown14730\",\"text\":\"&lt;p&gt;This dashborad includes an analysis of the average house value per neighouhood, sheltter costs for owned and rented properties per neighbourhood and the types of dwelling units.&lt;/p&gt;\"},\"id\":\"14030\",\"type\":\"panel.models.markup.HTML\"},{\"attributes\":{\"coordinates\":null,\"data_source\":{\"id\":\"14570\"},\"glyph\":{\"id\":\"14573\"},\"group\":null,\"hover_glyph\":null,\"muted_glyph\":{\"id\":\"14575\"},\"nonselection_glyph\":{\"id\":\"14574\"},\"selection_glyph\":{\"id\":\"14578\"},\"view\":{\"id\":\"14577\"}},\"id\":\"14576\",\"type\":\"GlyphRenderer\"},{\"attributes\":{\"format\":\"%.0f\"},\"id\":\"14298\",\"type\":\"PrintfTickFormatter\"},{\"attributes\":{\"margin\":[0,0,0,0],\"name\":\"Column14817\"},\"id\":\"14625\",\"type\":\"Column\"},{\"attributes\":{\"format\":\"%.0f\"},\"id\":\"14227\",\"type\":\"PrintfTickFormatter\"},{\"attributes\":{\"fill_color\":{\"field\":\"Variable\",\"transform\":{\"id\":\"14569\"}},\"hatch_color\":{\"field\":\"Variable\",\"transform\":{\"id\":\"14569\"}},\"top\":{\"field\":\"value\"},\"width\":{\"value\":0.8},\"x\":{\"field\":\"xoffsets\"}},\"id\":\"14573\",\"type\":\"VBar\"},{\"attributes\":{\"bottom\":{\"value\":0},\"fill_alpha\":{\"value\":1.0},\"fill_color\":{\"value\":\"#bfbf00\"},\"hatch_alpha\":{\"value\":1.0},\"hatch_color\":{\"value\":\"#bfbf00\"},\"hatch_scale\":{\"value\":12.0},\"hatch_weight\":{\"value\":1.0},\"line_alpha\":{\"value\":1.0},\"line_cap\":{\"value\":\"butt\"},\"line_color\":{\"value\":\"black\"},\"line_dash\":{\"value\":[]},\"line_dash_offset\":{\"value\":0},\"line_join\":{\"value\":\"bevel\"},\"line_width\":{\"value\":1},\"top\":{\"field\":\"A_2011\"},\"width\":{\"value\":0.8},\"x\":{\"field\":\"index\"}},\"id\":\"14226\",\"type\":\"VBar\"},{\"attributes\":{\"axis\":{\"id\":\"14269\"},\"coordinates\":null,\"grid_line_color\":null,\"group\":null,\"ticker\":null},\"id\":\"14271\",\"type\":\"Grid\"},{\"attributes\":{\"bottom\":{\"value\":0},\"fill_alpha\":{\"value\":1.0},\"fill_color\":{\"field\":\"Variable\",\"transform\":{\"id\":\"14569\"}},\"hatch_alpha\":{\"value\":1.0},\"hatch_color\":{\"field\":\"Variable\",\"transform\":{\"id\":\"14569\"}},\"hatch_scale\":{\"value\":12.0},\"hatch_weight\":{\"value\":1.0},\"line_alpha\":{\"value\":1.0},\"line_cap\":{\"value\":\"butt\"},\"line_color\":{\"value\":\"black\"},\"line_dash\":{\"value\":[]},\"line_dash_offset\":{\"value\":0},\"line_join\":{\"value\":\"bevel\"},\"line_width\":{\"value\":1},\"top\":{\"field\":\"value\"},\"width\":{\"value\":0.8},\"x\":{\"field\":\"xoffsets\"}},\"id\":\"14578\",\"type\":\"VBar\"},{\"attributes\":{},\"id\":\"14380\",\"type\":\"Selection\"},{\"attributes\":{},\"id\":\"14581\",\"type\":\"CategoricalTickFormatter\"},{\"attributes\":{\"bottom\":{\"value\":0},\"fill_alpha\":{\"value\":1.0},\"fill_color\":{\"value\":\"#0000ff\"},\"hatch_alpha\":{\"value\":1.0},\"hatch_color\":{\"value\":\"#0000ff\"},\"hatch_scale\":{\"value\":12.0},\"hatch_weight\":{\"value\":1.0},\"line_alpha\":{\"value\":1.0},\"line_cap\":{\"value\":\"butt\"},\"line_color\":{\"value\":\"black\"},\"line_dash\":{\"value\":[]},\"line_dash_offset\":{\"value\":0},\"line_join\":{\"value\":\"bevel\"},\"line_width\":{\"value\":1},\"top\":{\"field\":\"A_2016\"},\"width\":{\"value\":0.8},\"x\":{\"field\":\"index\"}},\"id\":\"14297\",\"type\":\"VBar\"},{\"attributes\":{\"axis_label\":\"\",\"coordinates\":null,\"formatter\":{\"id\":\"14298\"},\"group\":null,\"major_label_policy\":{\"id\":\"14304\"},\"ticker\":{\"id\":\"14273\"}},\"id\":\"14272\",\"type\":\"LinearAxis\"},{\"attributes\":{\"css_classes\":[\"markdown\"],\"margin\":[5,5,5,5],\"name\":\"Markdown14751\",\"text\":\"&lt;h1&gt;Dwelling Type  Units&lt;/h1&gt;\"},\"id\":\"14527\",\"type\":\"panel.models.markup.HTML\"},{\"attributes\":{\"axis\":{\"id\":\"14272\"},\"coordinates\":null,\"dimension\":1,\"grid_line_color\":null,\"group\":null,\"ticker\":null},\"id\":\"14275\",\"type\":\"Grid\"},{\"attributes\":{},\"id\":\"14582\",\"type\":\"AllLabels\"},{\"attributes\":{\"fill_color\":{\"value\":\"#0000ff\"},\"hatch_color\":{\"value\":\"#0000ff\"},\"top\":{\"field\":\"A_2016\"},\"width\":{\"value\":0.8},\"x\":{\"field\":\"index\"}},\"id\":\"14292\",\"type\":\"VBar\"},{\"attributes\":{\"children\":[{\"id\":\"14112\"},{\"id\":\"14113\"}],\"margin\":[0,0,0,0],\"name\":\"Column10056\"},\"id\":\"14111\",\"type\":\"Column\"},{\"attributes\":{},\"id\":\"14233\",\"type\":\"AllLabels\"},{\"attributes\":{\"child\":{\"id\":\"14326\"},\"name\":\"Column14750\",\"title\":\"Shelter Costs Owned vs. Rented\"},\"id\":\"14525\",\"type\":\"Panel\"},{\"attributes\":{\"client_comm_id\":\"a82d58fb11904df5881423b35e232aac\",\"comm_id\":\"52bda1b3517c4d2d9bfe2f10d92a27ee\",\"plot_id\":\"14026\"},\"id\":\"15542\",\"type\":\"panel.models.comm_manager.CommManager\"},{\"attributes\":{\"fill_alpha\":{\"value\":0.1},\"fill_color\":{\"value\":\"#0000ff\"},\"hatch_alpha\":{\"value\":0.1},\"hatch_color\":{\"value\":\"#0000ff\"},\"line_alpha\":{\"value\":0.1},\"top\":{\"field\":\"A_2016\"},\"width\":{\"value\":0.8},\"x\":{\"field\":\"index\"}},\"id\":\"14293\",\"type\":\"VBar\"},{\"attributes\":{\"children\":[{\"id\":\"14628\"}],\"margin\":[0,0,0,0],\"name\":\"Row14816\"},\"id\":\"14626\",\"type\":\"Row\"},{\"attributes\":{\"fill_alpha\":{\"value\":0.1},\"fill_color\":{\"field\":\"Variable\",\"transform\":{\"id\":\"14569\"}},\"hatch_alpha\":{\"value\":0.1},\"hatch_color\":{\"field\":\"Variable\",\"transform\":{\"id\":\"14569\"}},\"line_alpha\":{\"value\":0.1},\"top\":{\"field\":\"value\"},\"width\":{\"value\":0.8},\"x\":{\"field\":\"xoffsets\"}},\"id\":\"14574\",\"type\":\"VBar\"},{\"attributes\":{},\"id\":\"14276\",\"type\":\"SaveTool\"},{\"attributes\":{},\"id\":\"14277\",\"type\":\"PanTool\"},{\"attributes\":{\"children\":[{\"id\":\"14622\"},{\"id\":\"14623\"},{\"id\":\"14624\"},{\"id\":\"14629\"}],\"margin\":[0,0,0,0],\"name\":\"Column14828\"},\"id\":\"14621\",\"type\":\"Column\"},{\"attributes\":{},\"id\":\"14278\",\"type\":\"WheelZoomTool\"},{\"attributes\":{\"children\":[{\"id\":\"14630\"},{\"id\":\"14631\"}],\"margin\":[0,0,0,0],\"name\":\"Column14819\"},\"id\":\"14629\",\"type\":\"Column\"},{\"attributes\":{\"children\":[{\"id\":\"14534\"},{\"id\":\"14536\"}],\"margin\":[0,0,0,0],\"name\":\"Row02202\"},\"id\":\"14533\",\"type\":\"Row\"},{\"attributes\":{\"overlay\":{\"id\":\"14281\"}},\"id\":\"14279\",\"type\":\"BoxZoomTool\"},{\"attributes\":{\"children\":[{\"id\":\"14613\"},{\"id\":\"14614\"}],\"margin\":[0,0,0,0],\"name\":\"Column14761\"},\"id\":\"14612\",\"type\":\"Column\"},{\"attributes\":{},\"id\":\"14571\",\"type\":\"Selection\"},{\"attributes\":{},\"id\":\"14265\",\"type\":\"CategoricalScale\"},{\"attributes\":{},\"id\":\"14600\",\"type\":\"UnionRenderers\"},{\"attributes\":{\"child\":{\"id\":\"14038\"},\"name\":\"Column14742\",\"title\":\"Dwelling Types Per Year\"},\"id\":\"14325\",\"type\":\"Panel\"},{\"attributes\":{\"coordinates\":null,\"group\":null,\"text\":\"Top 10 Most Expensive Neighbourhoods In Toronto\",\"text_color\":\"black\",\"text_font_size\":\"14.4pt\"},\"id\":\"14636\",\"type\":\"Title\"},{\"attributes\":{\"margin\":[0,0,0,0],\"name\":\"Column10075\"},\"id\":\"14184\",\"type\":\"Column\"},{\"attributes\":{\"axis_label\":\"Price\",\"axis_label_text_font_size\":\"15.6px\",\"coordinates\":null,\"formatter\":{\"id\":\"14675\"},\"group\":null,\"group_text_font_size\":\"13.2px\",\"major_label_orientation\":1.0471975511965976,\"major_label_policy\":{\"id\":\"14676\"},\"major_label_text_font_size\":\"13.2px\",\"ticker\":{\"id\":\"14645\"}},\"id\":\"14644\",\"type\":\"CategoricalAxis\"},{\"attributes\":{\"fill_alpha\":{\"value\":0.2},\"fill_color\":{\"value\":\"#30a2da\"},\"hatch_alpha\":{\"value\":0.2},\"hatch_color\":{\"value\":\"#30a2da\"},\"line_alpha\":{\"value\":0.2},\"top\":{\"field\":\"average_house_value\"},\"width\":{\"value\":0.8},\"x\":{\"field\":\"neighbourhood\"}},\"id\":\"14669\",\"type\":\"VBar\"},{\"attributes\":{\"margin\":[0,0,0,0],\"name\":\"Column10054\"},\"id\":\"14041\",\"type\":\"Column\"},{\"attributes\":{\"axis\":{\"id\":\"14644\"},\"coordinates\":null,\"grid_line_color\":null,\"group\":null,\"ticker\":null},\"id\":\"14646\",\"type\":\"Grid\"},{\"attributes\":{\"margin\":[0,0,0,0],\"name\":\"Column10064\"},\"id\":\"14112\",\"type\":\"Column\"},{\"attributes\":{\"children\":[{\"id\":\"14332\"},{\"id\":\"14340\"}],\"margin\":[0,0,0,0],\"name\":\"Column02161\"},\"id\":\"14331\",\"type\":\"Column\"},{\"attributes\":{\"css_classes\":[\"markdown\"],\"margin\":[5,5,5,5],\"name\":\"Markdown14732\",\"text\":\"&lt;p&gt;To see the data justs click through the tabs on the top of the dashboard and it will direct you to the relevant information. Enjoy!&lt;/p&gt;\"},\"id\":\"14031\",\"type\":\"panel.models.markup.HTML\"},{\"attributes\":{\"end\":390509.0,\"reset_end\":390509.0,\"reset_start\":0.0,\"tags\":[[[\"2001\",\"2001\",null]]]},\"id\":\"14044\",\"type\":\"Range1d\"},{\"attributes\":{\"children\":[{\"id\":\"14028\"},{\"id\":\"14029\"},{\"id\":\"14030\"},{\"id\":\"14031\"},{\"id\":\"14032\"}],\"margin\":[0,0,0,0],\"name\":\"Column14741\"},\"id\":\"14027\",\"type\":\"Column\"},{\"attributes\":{},\"id\":\"14645\",\"type\":\"CategoricalTicker\"},{\"attributes\":{\"below\":[{\"id\":\"14549\"}],\"center\":[{\"id\":\"14551\"},{\"id\":\"14555\"}],\"left\":[{\"id\":\"14552\"}],\"margin\":[5,5,5,5],\"min_border_bottom\":10,\"min_border_left\":10,\"min_border_right\":10,\"min_border_top\":10,\"renderers\":[{\"id\":\"14576\"}],\"sizing_mode\":\"fixed\",\"title\":{\"id\":\"14541\"},\"toolbar\":{\"id\":\"14562\"},\"width\":900,\"x_range\":{\"id\":\"14537\"},\"x_scale\":{\"id\":\"14545\"},\"y_range\":{\"id\":\"14337\"},\"y_scale\":{\"id\":\"14547\"}},\"id\":\"14540\",\"subtype\":\"Figure\",\"type\":\"Plot\"},{\"attributes\":{\"axis\":{\"id\":\"14647\"},\"coordinates\":null,\"dimension\":1,\"grid_line_color\":null,\"group\":null,\"ticker\":null},\"id\":\"14650\",\"type\":\"Grid\"},{\"attributes\":{\"children\":[{\"id\":\"14260\"}],\"margin\":[0,0,0,0],\"name\":\"Row10084\"},\"id\":\"14256\",\"type\":\"Row\"},{\"attributes\":{\"margin\":[20,20,20,20],\"min_width\":250,\"options\":[\"Agincourt North\",\"Agincourt South-Malvern West\",\"Alderwood\",\"Annex\",\"Banbury-Don Mills\",\"Bathurst Manor\",\"Bay Street Corridor\",\"Bayview Village\",\"Bayview Woods-Steeles\",\"Bedford Park-Nortown\",\"Beechborough-Greenbrook\",\"Bendale\",\"Birchcliffe-Cliffside\",\"Black Creek\",\"Blake-Jones\",\"Briar Hill-Belgravia\",\"Bridle Path-Sunnybrook-York Mills\",\"Broadview North\",\"Brookhaven-Amesbury\",\"Cabbagetown-South St.James Town\",\"Caledonia-Fairbank\",\"Casa Loma\",\"Centennial Scarborough\",\"Church-Yonge Corridor\",\"Clairlea-Birchmount\",\"Clanton Park\",\"Cliffcrest\",\"Corso Italia-Davenport\",\"Danforth\",\"Danforth-East York\",\"Don Valley Village\",\"Dorset Park\",\"Dovercourt-Wallace Emerson-Juncti\",\"Downsview-Roding-CFB\",\"Dufferin Grove\",\"East End-Danforth\",\"Edenbridge-Humber Valley\",\"Eglinton East\",\"Elms-Old Rexdale\",\"Englemount-Lawrence\",\"Eringate-Centennial-West Deane\",\"Etobicoke West Mall\",\"Flemingdon Park\",\"Forest Hill North\",\"Forest Hill South\",\"Glenfield-Jane Heights\",\"Greenwood-Coxwell\",\"Guildwood\",\"Henry Farm\",\"High Park North\",\"High Park-Swansea\",\"Highland Creek\",\"Hillcrest Village\",\"Humber Heights-Westmount\",\"Humber Summit\",\"Humbermede\",\"Humewood-Cedarvale\",\"Ionview\",\"Islington-City Centre West\",\"Junction Area\",\"Keelesdale-Eglinton West\",\"Kennedy Park\",\"Kensington-Chinatown\",\"Kingsview Village-The Westway\",\"Kingsway South\",\"L'Amoreaux\",\"Lambton Baby Point\",\"Lansing-Westgate\",\"Lawrence Park North\",\"Lawrence Park South\",\"Leaside-Bennington\",\"Little Portugal\",\"Long Branch\",\"Malvern\",\"Maple Leaf\",\"Markland Wood\",\"Milliken\",\"Mimico\",\"Morningside\",\"Moss Park\",\"Mount Dennis\",\"Mount Olive-Silverstone-Jamestown\",\"Mount Pleasant East\",\"Mount Pleasant West\",\"New Toronto\",\"Newtonbrook East\",\"Newtonbrook West\",\"Niagara\",\"North Riverdale\",\"North St.James Town\",\"O'Connor-Parkview\",\"Oakridge\",\"Oakwood Village\",\"Old East York\",\"Palmerston-Little Italy\",\"Parkwoods-Donalda\",\"Pelmo Park-Humberlea\",\"Playter Estates-Danforth\",\"Pleasant View\",\"Princess-Rosethorn\",\"Regent Park\",\"Rexdale-Kipling\",\"Rockcliffe-Smythe\",\"Roncesvalles\",\"Rosedale-Moore Park\",\"Rouge\",\"Runnymede-Bloor West Village\",\"Rustic\",\"Scarborough Village\",\"South Parkdale\",\"South Riverdale\",\"St.Andrew-Windfields\",\"Steeles\",\"Stonegate-Queensway\",\"Tam O'Shanter-Sullivan\",\"Taylor-Massey\",\"The Beaches\",\"Thistletown-Beaumond Heights\",\"Thorncliffe Park\",\"Trinity-Bellwoods\",\"University\",\"Victoria Village\",\"Waterfront Communities-The Island\",\"West Hill\",\"West Humber-Clairville\",\"Westminster-Branson\",\"Weston\",\"Weston-Pellam Park\",\"Wexford/Maryvale\",\"Willowdale East\",\"Willowdale West\",\"Willowridge-Martingrove-Richview\",\"Woburn\",\"Woodbine Corridor\",\"Woodbine-Lumsden\",\"Wychwood\",\"Yonge-Eglinton\",\"Yonge-St.Clair\",\"York University Heights\",\"Yorkdale-Glen Park\"],\"title\":\"neighbourhood\",\"value\":\"Agincourt North\",\"width\":250},\"id\":\"14535\",\"type\":\"Select\"},{\"attributes\":{\"css_classes\":[\"markdown\"],\"margin\":[5,5,5,5],\"name\":\"Markdown14807\",\"text\":\"&lt;h1&gt;Top 10 Richest Neighbourhoods&lt;/h1&gt;\"},\"id\":\"14622\",\"type\":\"panel.models.markup.HTML\"},{\"attributes\":{\"children\":[{\"id\":\"14189\"}],\"margin\":[0,0,0,0],\"name\":\"Row10074\"},\"id\":\"14185\",\"type\":\"Row\"},{\"attributes\":{},\"id\":\"14648\",\"type\":\"BasicTicker\"},{\"attributes\":{\"data\":{\"customdata\":[[[4985,2080,0,45,40,210,1235,15,933,1491,565304.0],[4785,1890,0,45,60,290,1285,110,1808,1020,826963.0],[4870,1960,0,40,65,335,1320,115,1988,1124,1034387.0],[4820,1995,0,45,65,315,1260,115,2418,1385,1295007.0],[2275,110,0,25,15,10,20,0,1983,1790,927466.0],[2205,145,0,35,15,30,10,0,2170,2167,1356757.0],[2285,480,0,45,100,30,50,0,2387,2388,1697067.0],[2275,590,0,40,230,30,80,0,2903,2942,2124653.0],[1035,1700,0,415,190,185,1090,5,1241,1500,596077.0],[875,2230,0,230,195,170,1240,5,1819,1356,871981.0],[880,2630,0,245,220,140,1215,0,2001,1494,1090696.0],[875,2680,0,265,200,155,1225,0,2434,1841,1365503.0],[1565,3380,0,10,0,0,485,5,940,1428,517466.0],[1450,3410,0,10,10,115,375,0,1731,1027,756983.0],[1470,3350,0,15,25,105,365,0,1904,1132,946854.0],[1470,3430,0,15,30,110,385,0,2316,1395,1185419.0],[1815,2440,5,65,45,85,1010,15,1001,1469,726664.0],[1740,1835,0,50,50,70,1015,0,1781,1094,1063011.0],[1730,1825,0,65,45,75,1035,0,1959,1206,1329642.0],[1685,2025,0,65,40,70,1050,0,2383,1486,1664653.0],[2370,260,0,65,45,0,340,10,1362,1340,512334.0],[2275,560,0,60,50,25,335,0,1625,1488,749476.0],[2350,695,0,70,50,25,335,0,1787,1640,937464.0],[2310,790,0,70,50,30,335,0,2173,2020,1173663.0],[3590,570,0,170,70,190,845,40,1021,1630,664712.0],[3415,745,0,110,25,250,1025,10,1977,1116,972384.0],[3465,855,0,115,25,230,980,10,2174,1230,1216283.0],[3420,925,0,110,35,230,1015,5,2644,1515,1522732.0],[2610,3880,0,520,225,290,1735,0,1219,1540,664476.0],[2450,4790,0,445,245,330,1685,5,1868,1332,972039.0],[2485,4905,0,495,250,345,1550,0,2054,1468,1215852.0],[2450,4990,0,485,260,345,1505,5,2498,1809,1522193.0],[3275,1455,0,220,555,45,525,5,1055,1551,607040.0],[3095,1740,0,165,560,105,645,0,1881,1152,888017.0],[3285,1740,0,180,555,120,580,10,2069,1270,1110755.0],[3245,1745,0,175,540,120,595,5,2516,1565,1390616.0],[670,3625,0,410,200,280,1020,25,1091,1351,494098.0],[540,3785,0,390,210,145,1465,0,1638,1192,722799.0],[530,4070,0,450,220,135,1380,0,1802,1314,904096.0],[520,4315,0,450,220,130,1370,0,2192,1619,1131888.0],[\"(?)\",\"(?)\",\"(?)\",\"(?)\",\"(?)\",\"(?)\",\"(?)\",\"(?)\",\"(?)\",\"(?)\",651625.9837579834],[\"(?)\",\"(?)\",0,\"(?)\",\"(?)\",\"(?)\",\"(?)\",\"(?)\",\"(?)\",\"(?)\",953240.7806875728],[\"(?)\",\"(?)\",0,\"(?)\",\"(?)\",\"(?)\",\"(?)\",\"(?)\",\"(?)\",\"(?)\",1192338.407576145],[\"(?)\",\"(?)\",0,\"(?)\",\"(?)\",\"(?)\",\"(?)\",\"(?)\",\"(?)\",\"(?)\",1492754.8722339857]]],\"ids\":[[\"2001/Bedford Park-Nortown\",\"2006/Bedford Park-Nortown\",\"2011/Bedford Park-Nortown\",\"2016/Bedford Park-Nortown\",\"2001/Bridle Path-Sunnybrook-York Mills\",\"2006/Bridle Path-Sunnybrook-York Mills\",\"2011/Bridle Path-Sunnybrook-York Mills\",\"2016/Bridle Path-Sunnybrook-York Mills\",\"2001/Casa Loma\",\"2006/Casa Loma\",\"2011/Casa Loma\",\"2016/Casa Loma\",\"2001/Forest Hill North\",\"2006/Forest Hill North\",\"2011/Forest Hill North\",\"2016/Forest Hill North\",\"2001/Forest Hill South\",\"2006/Forest Hill South\",\"2011/Forest Hill South\",\"2016/Forest Hill South\",\"2001/Kingsway South\",\"2006/Kingsway South\",\"2011/Kingsway South\",\"2016/Kingsway South\",\"2001/Lawrence Park South\",\"2006/Lawrence Park South\",\"2011/Lawrence Park South\",\"2016/Lawrence Park South\",\"2001/Rosedale-Moore Park\",\"2006/Rosedale-Moore Park\",\"2011/Rosedale-Moore Park\",\"2016/Rosedale-Moore Park\",\"2001/St.Andrew-Windfields\",\"2006/St.Andrew-Windfields\",\"2011/St.Andrew-Windfields\",\"2016/St.Andrew-Windfields\",\"2001/Yonge-St.Clair\",\"2006/Yonge-St.Clair\",\"2011/Yonge-St.Clair\",\"2016/Yonge-St.Clair\",\"2001\",\"2006\",\"2011\",\"2016\"]],\"labels\":[[\"Bedford Park-Nortown\",\"Bedford Park-Nortown\",\"Bedford Park-Nortown\",\"Bedford Park-Nortown\",\"Bridle Path-Sunnybrook-York Mills\",\"Bridle Path-Sunnybrook-York Mills\",\"Bridle Path-Sunnybrook-York Mills\",\"Bridle Path-Sunnybrook-York Mills\",\"Casa Loma\",\"Casa Loma\",\"Casa Loma\",\"Casa Loma\",\"Forest Hill North\",\"Forest Hill North\",\"Forest Hill North\",\"Forest Hill North\",\"Forest Hill South\",\"Forest Hill South\",\"Forest Hill South\",\"Forest Hill South\",\"Kingsway South\",\"Kingsway South\",\"Kingsway South\",\"Kingsway South\",\"Lawrence Park South\",\"Lawrence Park South\",\"Lawrence Park South\",\"Lawrence Park South\",\"Rosedale-Moore Park\",\"Rosedale-Moore Park\",\"Rosedale-Moore Park\",\"Rosedale-Moore Park\",\"St.Andrew-Windfields\",\"St.Andrew-Windfields\",\"St.Andrew-Windfields\",\"St.Andrew-Windfields\",\"Yonge-St.Clair\",\"Yonge-St.Clair\",\"Yonge-St.Clair\",\"Yonge-St.Clair\",\"2001\",\"2006\",\"2011\",\"2016\"]],\"marker.colors\":[{\"__ndarray__\":\"AAAAAHBAIUEAAAAApjwpQQAAAAAmkS9BAAAAAJ/CM0EAAAAA1E0sQQAAAADVszRBAAAAACvlOUEAAACAtjVAQQAAAADaMCJBAAAAAFqcKkEAAAAAiKQwQQAAAAD/1TRBAAAAAGiVH0EAAAAA7hknQQAAAABM5SxBAAAAAIsWMkEAAAAAEC0mQQAAAABjODBBAAAAAOpJNEEAAAAAjWY5QQAAAAA4RR9BAAAAAEjfJkEAAAAA8JssQQAAAACf6DFBAAAAABBJJEEAAAAAwKwtQQAAAAAbjzJBAAAAACw8N0EAAAAAOEckQQAAAAAOqi1BAAAAAGyNMkEAAAAAETo3QQAAAACAhiJBAAAAAKIZK0EAAAAA4/IwQQAAAAAYODVBAAAAAEgoHkEAAAAA3g4mQQAAAABAlytBAAAAAHBFMUFcIK/30+IjQRNIto8xFy1BBelWaJIxMkH7uUrfEsc2QQ==\",\"dtype\":\"float64\",\"order\":\"little\",\"shape\":[44]}],\"parents\":[[\"2001\",\"2006\",\"2011\",\"2016\",\"2001\",\"2006\",\"2011\",\"2016\",\"2001\",\"2006\",\"2011\",\"2016\",\"2001\",\"2006\",\"2011\",\"2016\",\"2001\",\"2006\",\"2011\",\"2016\",\"2001\",\"2006\",\"2011\",\"2016\",\"2001\",\"2006\",\"2011\",\"2016\",\"2001\",\"2006\",\"2011\",\"2016\",\"2001\",\"2006\",\"2011\",\"2016\",\"2001\",\"2006\",\"2011\",\"2016\",\"\",\"\",\"\",\"\"]],\"values\":[[565304,826963,1034387,1295007,927466,1356757,1697067,2124653,596077,871981,1090696,1365503,517466,756983,946854,1185419,726664,1063011,1329642,1664653,512334,749476,937464,1173663,664712,972384,1216283,1522732,664476,972039,1215852,1522193,607040,888017,1110755,1390616,494098,722799,904096,1131888,6275637,9180410,11483096,14376327]]},\"selected\":{\"id\":\"14719\"},\"selection_policy\":{\"id\":\"14718\"}},\"id\":\"14627\",\"type\":\"ColumnDataSource\"},{\"attributes\":{\"axis_label\":\"Price\",\"axis_label_text_font_size\":\"15.6px\",\"coordinates\":null,\"formatter\":{\"id\":\"14673\"},\"group\":null,\"major_label_policy\":{\"id\":\"14679\"},\"major_label_text_font_size\":\"13.2px\",\"ticker\":{\"id\":\"14648\"}},\"id\":\"14647\",\"type\":\"LinearAxis\"},{\"attributes\":{\"callback\":null,\"renderers\":[{\"id\":\"14081\"}],\"tags\":[\"hv_created\"],\"tooltips\":[[\"index\",\"@{index}\"],[\"2001\",\"@{A_2001}\"]]},\"id\":\"14045\",\"type\":\"HoverTool\"},{\"attributes\":{\"js_property_callbacks\":{\"change:active\":[{\"id\":\"15088\"},{\"id\":\"15232\"},{\"id\":\"15387\"}]},\"margin\":[0,0,0,0],\"tabs\":[{\"id\":\"14037\"},{\"id\":\"14325\"},{\"id\":\"14525\"},{\"id\":\"14620\"},{\"id\":\"14700\"}]},\"id\":\"14026\",\"type\":\"Tabs\"},{\"attributes\":{\"child\":{\"id\":\"14027\"},\"name\":\"Column14741\",\"title\":\"Welcome\"},\"id\":\"14037\",\"type\":\"Panel\"},{\"attributes\":{\"data\":{\"marker.color\":[[293140,297031,380342,663921,543987,445807,376548,479299,502546,826963,329685,267642,388690,231839,454571,324882,1356757,394075,311922,439171,321496,871981,364291,360962,315133,490234,371009,373239,415024,374793,353756,232869,386366,339006,406710,424900,707638,239060,238505,505677,353553,275009,184694,756983,1063011,291172,344019,328303,328823,473289,518157,381156,351101,399210,312935,284227,619577,255698,401463,385094,286886,255296,391509,300725,749476,578001,299190,545034,674957,972384,716801,480129,342930,228318,402835,394610,306629,349739,253323,363929,233143,225031,602054,416125,362468,497355,409358,328854,624890,365706,265146,375307,392146,394111,553011,404100,360352,576713,331860,680604,348928,320860,307227,452349,972039,334448,490697,383158,293162,397724,404427,888017,334206,489230,314574,212794,592220,334072,226882,475039,549567,312980,334960,252998,305088,310480,273761,312685,309590,416893,414306,412655,265315,395861,328788,503046,719711,722799,271887,382954]],\"x\":[[\"Agincourt North\",\"Agincourt South-Malvern West\",\"Alderwood\",\"Annex\",\"Banbury-Don Mills\",\"Bathurst Manor\",\"Bay Street Corridor\",\"Bayview Village\",\"Bayview Woods-Steeles\",\"Bedford Park-Nortown\",\"Beechborough-Greenbrook\",\"Bendale\",\"Birchcliffe-Cliffside\",\"Black Creek\",\"Blake-Jones\",\"Briar Hill-Belgravia\",\"Bridle Path-Sunnybrook-York Mills\",\"Broadview North\",\"Brookhaven-Amesbury\",\"Cabbagetown-South St.James Town\",\"Caledonia-Fairbank\",\"Casa Loma\",\"Centennial Scarborough\",\"Church-Yonge Corridor\",\"Clairlea-Birchmount\",\"Clanton Park\",\"Cliffcrest\",\"Corso Italia-Davenport\",\"Danforth\",\"Danforth-East York\",\"Don Valley Village\",\"Dorset Park\",\"Dovercourt-Wallace Emerson-Juncti\",\"Downsview-Roding-CFB\",\"Dufferin Grove\",\"East End-Danforth\",\"Edenbridge-Humber Valley\",\"Eglinton East\",\"Elms-Old Rexdale\",\"Englemount-Lawrence\",\"Eringate-Centennial-West Deane\",\"Etobicoke West Mall\",\"Flemingdon Park\",\"Forest Hill North\",\"Forest Hill South\",\"Glenfield-Jane Heights\",\"Greenwood-Coxwell\",\"Guildwood\",\"Henry Farm\",\"High Park North\",\"High Park-Swansea\",\"Highland Creek\",\"Hillcrest Village\",\"Humber Heights-Westmount\",\"Humber Summit\",\"Humbermede\",\"Humewood-Cedarvale\",\"Ionview\",\"Islington-City Centre West\",\"Junction Area\",\"Keelesdale-Eglinton West\",\"Kennedy Park\",\"Kensington-Chinatown\",\"Kingsview Village-The Westway\",\"Kingsway South\",\"L'Amoreaux\",\"Lambton Baby Point\",\"Lansing-Westgate\",\"Lawrence Park North\",\"Lawrence Park South\",\"Leaside-Bennington\",\"Little Portugal\",\"Long Branch\",\"Malvern\",\"Maple Leaf\",\"Markland Wood\",\"Milliken\",\"Mimico\",\"Morningside\",\"Moss Park\",\"Mount Dennis\",\"Mount Olive-Silverstone-Jamestown\",\"Mount Pleasant East\",\"Mount Pleasant West\",\"New Toronto\",\"Newtonbrook East\",\"Newtonbrook West\",\"Niagara\",\"North Riverdale\",\"North St.James Town\",\"O'Connor-Parkview\",\"Oakridge\",\"Oakwood Village\",\"Old East York\",\"Palmerston-Little Italy\",\"Parkwoods-Donalda\",\"Pelmo Park-Humberlea\",\"Playter Estates-Danforth\",\"Pleasant View\",\"Princess-Rosethorn\",\"Regent Park\",\"Rexdale-Kipling\",\"Rockcliffe-Smythe\",\"Roncesvalles\",\"Rosedale-Moore Park\",\"Rouge\",\"Runnymede-Bloor West Village\",\"Rustic\",\"Scarborough Village\",\"South Parkdale\",\"South Riverdale\",\"St.Andrew-Windfields\",\"Steeles\",\"Stonegate-Queensway\",\"Tam O'Shanter-Sullivan\",\"Taylor-Massey\",\"The Beaches\",\"Thistletown-Beaumond Heights\",\"Thorncliffe Park\",\"Trinity-Bellwoods\",\"University\",\"Victoria Village\",\"Waterfront Communities-The Island\",\"West Hill\",\"West Humber-Clairville\",\"Westminster-Branson\",\"Weston\",\"Weston-Pellam Park\",\"Wexford/Maryvale\",\"Willowdale East\",\"Willowdale West\",\"Willowridge-Martingrove-Richview\",\"Woburn\",\"Woodbine Corridor\",\"Woodbine-Lumsden\",\"Wychwood\",\"Yonge-Eglinton\",\"Yonge-St.Clair\",\"York University Heights\",\"Yorkdale-Glen Park\"]],\"y\":[[293140,297031,380342,663921,543987,445807,376548,479299,502546,826963,329685,267642,388690,231839,454571,324882,1356757,394075,311922,439171,321496,871981,364291,360962,315133,490234,371009,373239,415024,374793,353756,232869,386366,339006,406710,424900,707638,239060,238505,505677,353553,275009,184694,756983,1063011,291172,344019,328303,328823,473289,518157,381156,351101,399210,312935,284227,619577,255698,401463,385094,286886,255296,391509,300725,749476,578001,299190,545034,674957,972384,716801,480129,342930,228318,402835,394610,306629,349739,253323,363929,233143,225031,602054,416125,362468,497355,409358,328854,624890,365706,265146,375307,392146,394111,553011,404100,360352,576713,331860,680604,348928,320860,307227,452349,972039,334448,490697,383158,293162,397724,404427,888017,334206,489230,314574,212794,592220,334072,226882,475039,549567,312980,334960,252998,305088,310480,273761,312685,309590,416893,414306,412655,265315,395861,328788,503046,719711,722799,271887,382954]]},\"selected\":{\"id\":\"14713\"},\"selection_policy\":{\"id\":\"14712\"}},\"id\":\"14616\",\"type\":\"ColumnDataSource\"},{\"attributes\":{\"children\":[{\"id\":\"14331\"}],\"margin\":[0,0,0,0],\"name\":\"Row14748\"},\"id\":\"14330\",\"type\":\"Row\"},{\"attributes\":{\"below\":[{\"id\":\"14198\"}],\"center\":[{\"id\":\"14200\"},{\"id\":\"14204\"}],\"height\":300,\"left\":[{\"id\":\"14201\"}],\"margin\":[5,5,5,5],\"min_border_bottom\":10,\"min_border_left\":10,\"min_border_right\":10,\"min_border_top\":10,\"renderers\":[{\"id\":\"14224\"}],\"sizing_mode\":\"fixed\",\"title\":{\"id\":\"14190\"},\"toolbar\":{\"id\":\"14211\"},\"width\":700,\"x_range\":{\"id\":\"14043\"},\"x_scale\":{\"id\":\"14194\"},\"y_range\":{\"id\":\"14187\"},\"y_scale\":{\"id\":\"14196\"}},\"id\":\"14189\",\"subtype\":\"Figure\",\"type\":\"Plot\"},{\"attributes\":{},\"id\":\"14076\",\"type\":\"Selection\"},{\"attributes\":{\"axis\":{\"id\":\"14055\"},\"coordinates\":null,\"grid_line_color\":null,\"group\":null,\"ticker\":null},\"id\":\"14057\",\"type\":\"Grid\"},{\"attributes\":{\"children\":[{\"id\":\"14333\"},{\"id\":\"14335\"}],\"margin\":[0,0,0,0],\"name\":\"Row02160\"},\"id\":\"14332\",\"type\":\"Row\"},{\"attributes\":{\"below\":[{\"id\":\"14055\"}],\"center\":[{\"id\":\"14057\"},{\"id\":\"14061\"}],\"height\":300,\"left\":[{\"id\":\"14058\"}],\"margin\":[5,5,5,5],\"min_border_bottom\":10,\"min_border_left\":10,\"min_border_right\":10,\"min_border_top\":10,\"renderers\":[{\"id\":\"14081\"}],\"sizing_mode\":\"fixed\",\"title\":{\"id\":\"14047\"},\"toolbar\":{\"id\":\"14068\"},\"width\":700,\"x_range\":{\"id\":\"14043\"},\"x_scale\":{\"id\":\"14051\"},\"y_range\":{\"id\":\"14044\"},\"y_scale\":{\"id\":\"14053\"}},\"id\":\"14046\",\"subtype\":\"Figure\",\"type\":\"Plot\"},{\"attributes\":{\"bottom_units\":\"screen\",\"coordinates\":null,\"fill_alpha\":0.5,\"fill_color\":\"lightgrey\",\"group\":null,\"left_units\":\"screen\",\"level\":\"overlay\",\"line_alpha\":1.0,\"line_color\":\"black\",\"line_dash\":[4,4],\"line_width\":2,\"right_units\":\"screen\",\"syncable\":false,\"top_units\":\"screen\"},\"id\":\"14656\",\"type\":\"BoxAnnotation\"},{\"attributes\":{},\"id\":\"14651\",\"type\":\"SaveTool\"},{\"attributes\":{\"children\":[{\"id\":\"14334\"}],\"css_classes\":[\"panel-widget-box\"],\"margin\":[5,5,5,5],\"name\":\"WidgetBox02154\"},\"id\":\"14333\",\"type\":\"Column\"},{\"attributes\":{\"margin\":[5,5,5,5],\"name\":\"HSpacer02201\",\"sizing_mode\":\"stretch_width\"},\"id\":\"14536\",\"type\":\"Spacer\"},{\"attributes\":{},\"id\":\"14652\",\"type\":\"PanTool\"},{\"attributes\":{},\"id\":\"14655\",\"type\":\"ResetTool\"},{\"attributes\":{\"axis_label\":\"\",\"coordinates\":null,\"formatter\":{\"id\":\"14086\"},\"group\":null,\"major_label_orientation\":0.3490658503988659,\"major_label_policy\":{\"id\":\"14087\"},\"ticker\":{\"id\":\"14056\"}},\"id\":\"14055\",\"type\":\"CategoricalAxis\"},{\"attributes\":{},\"id\":\"14653\",\"type\":\"WheelZoomTool\"},{\"attributes\":{\"end\":472132.0,\"reset_end\":472132.0,\"reset_start\":0.0,\"tags\":[[[\"2011\",\"2011\",null]]]},\"id\":\"14187\",\"type\":\"Range1d\"},{\"attributes\":{\"margin\":[20,20,20,20],\"min_width\":250,\"options\":[\"Agincourt North\",\"Agincourt South-Malvern West\",\"Alderwood\",\"Annex\",\"Banbury-Don Mills\",\"Bathurst Manor\",\"Bay Street Corridor\",\"Bayview Village\",\"Bayview Woods-Steeles\",\"Bedford Park-Nortown\",\"Beechborough-Greenbrook\",\"Bendale\",\"Birchcliffe-Cliffside\",\"Black Creek\",\"Blake-Jones\",\"Briar Hill-Belgravia\",\"Bridle Path-Sunnybrook-York Mills\",\"Broadview North\",\"Brookhaven-Amesbury\",\"Cabbagetown-South St.James Town\",\"Caledonia-Fairbank\",\"Casa Loma\",\"Centennial Scarborough\",\"Church-Yonge Corridor\",\"Clairlea-Birchmount\",\"Clanton Park\",\"Cliffcrest\",\"Corso Italia-Davenport\",\"Danforth\",\"Danforth-East York\",\"Don Valley Village\",\"Dorset Park\",\"Dovercourt-Wallace Emerson-Juncti\",\"Downsview-Roding-CFB\",\"Dufferin Grove\",\"East End-Danforth\",\"Edenbridge-Humber Valley\",\"Eglinton East\",\"Elms-Old Rexdale\",\"Englemount-Lawrence\",\"Eringate-Centennial-West Deane\",\"Etobicoke West Mall\",\"Flemingdon Park\",\"Forest Hill North\",\"Forest Hill South\",\"Glenfield-Jane Heights\",\"Greenwood-Coxwell\",\"Guildwood\",\"Henry Farm\",\"High Park North\",\"High Park-Swansea\",\"Highland Creek\",\"Hillcrest Village\",\"Humber Heights-Westmount\",\"Humber Summit\",\"Humbermede\",\"Humewood-Cedarvale\",\"Ionview\",\"Islington-City Centre West\",\"Junction Area\",\"Keelesdale-Eglinton West\",\"Kennedy Park\",\"Kensington-Chinatown\",\"Kingsview Village-The Westway\",\"Kingsway South\",\"L'Amoreaux\",\"Lambton Baby Point\",\"Lansing-Westgate\",\"Lawrence Park North\",\"Lawrence Park South\",\"Leaside-Bennington\",\"Little Portugal\",\"Long Branch\",\"Malvern\",\"Maple Leaf\",\"Markland Wood\",\"Milliken\",\"Mimico\",\"Morningside\",\"Moss Park\",\"Mount Dennis\",\"Mount Olive-Silverstone-Jamestown\",\"Mount Pleasant East\",\"Mount Pleasant West\",\"New Toronto\",\"Newtonbrook East\",\"Newtonbrook West\",\"Niagara\",\"North Riverdale\",\"North St.James Town\",\"O'Connor-Parkview\",\"Oakridge\",\"Oakwood Village\",\"Old East York\",\"Palmerston-Little Italy\",\"Parkwoods-Donalda\",\"Pelmo Park-Humberlea\",\"Playter Estates-Danforth\",\"Pleasant View\",\"Princess-Rosethorn\",\"Regent Park\",\"Rexdale-Kipling\",\"Rockcliffe-Smythe\",\"Roncesvalles\",\"Rosedale-Moore Park\",\"Rouge\",\"Runnymede-Bloor West Village\",\"Rustic\",\"Scarborough Village\",\"South Parkdale\",\"South Riverdale\",\"St.Andrew-Windfields\",\"Steeles\",\"Stonegate-Queensway\",\"Tam O'Shanter-Sullivan\",\"Taylor-Massey\",\"The Beaches\",\"Thistletown-Beaumond Heights\",\"Thorncliffe Park\",\"Trinity-Bellwoods\",\"University\",\"Victoria Village\",\"Waterfront Communities-The Island\",\"West Hill\",\"West Humber-Clairville\",\"Westminster-Branson\",\"Weston\",\"Weston-Pellam Park\",\"Wexford/Maryvale\",\"Willowdale East\",\"Willowdale West\",\"Willowridge-Martingrove-Richview\",\"Woburn\",\"Woodbine Corridor\",\"Woodbine-Lumsden\",\"Wychwood\",\"Yonge-Eglinton\",\"Yonge-St.Clair\",\"York University Heights\",\"Yorkdale-Glen Park\"],\"title\":\"neighbourhood\",\"value\":\"Annex\",\"width\":250},\"id\":\"14334\",\"type\":\"Select\"},{\"attributes\":{\"overlay\":{\"id\":\"14656\"}},\"id\":\"14654\",\"type\":\"BoxZoomTool\"},{\"attributes\":{\"fill_color\":{\"value\":\"#bfbf00\"},\"hatch_color\":{\"value\":\"#bfbf00\"},\"top\":{\"field\":\"A_2011\"},\"width\":{\"value\":0.8},\"x\":{\"field\":\"index\"}},\"id\":\"14221\",\"type\":\"VBar\"},{\"attributes\":{\"css_classes\":[\"markdown\"],\"margin\":[5,5,5,5],\"name\":\"Markdown14726\",\"text\":\"&lt;h1&gt;Average House Dashboard&lt;/h1&gt;\"},\"id\":\"14028\",\"type\":\"panel.models.markup.HTML\"},{\"attributes\":{},\"id\":\"14051\",\"type\":\"CategoricalScale\"},{\"attributes\":{\"coordinates\":null,\"group\":null,\"text\":\"Year 2001 Dwelling Types\",\"text_color\":\"black\",\"text_font_size\":\"12pt\"},\"id\":\"14047\",\"type\":\"Title\"},{\"attributes\":{\"callback\":null,\"renderers\":[{\"id\":\"14152\"}],\"tags\":[\"hv_created\"],\"tooltips\":[[\"index\",\"@{index}\"],[\"2006\",\"@{A_2006}\"]]},\"id\":\"14116\",\"type\":\"HoverTool\"},{\"attributes\":{\"end\":2016.0,\"reset_end\":2016.0,\"reset_start\":2001.0,\"start\":2001.0,\"tags\":[[[\"year\",\"year\",null]]]},\"id\":\"14336\",\"type\":\"Range1d\"},{\"attributes\":{},\"id\":\"14053\",\"type\":\"LinearScale\"},{\"attributes\":{\"args\":{\"model\":{\"id\":\"14036\"}},\"code\":\"try { model.visibility = (cb_obj.active == 0); } catch { }\",\"tags\":[\"plotly_tab_fix14036\"]},\"id\":\"15088\",\"type\":\"CustomJS\"},{\"attributes\":{},\"id\":\"14056\",\"type\":\"CategoricalTicker\"},{\"attributes\":{},\"id\":\"14585\",\"type\":\"AllLabels\"},{\"attributes\":{},\"id\":\"14219\",\"type\":\"Selection\"},{\"attributes\":{\"axis\":{\"id\":\"14198\"},\"coordinates\":null,\"grid_line_color\":null,\"group\":null,\"ticker\":null},\"id\":\"14200\",\"type\":\"Grid\"},{\"attributes\":{},\"id\":\"14703\",\"type\":\"Selection\"},{\"attributes\":{\"axis\":{\"id\":\"14058\"},\"coordinates\":null,\"dimension\":1,\"grid_line_color\":null,\"group\":null,\"ticker\":null},\"id\":\"14061\",\"type\":\"Grid\"},{\"attributes\":{\"data\":{\"Variable\":[\"shelter_costs_owned\",\"shelter_costs_owned\",\"shelter_costs_owned\",\"shelter_costs_owned\"],\"value\":{\"__ndarray__\":\"AAAAAAAMkEAAAAAAAByaQAAAAAAAuJxAAAAAAAB2oUA=\",\"dtype\":\"float64\",\"order\":\"little\",\"shape\":[4]},\"year\":[2001,2006,2011,2016]},\"selected\":{\"id\":\"14380\"},\"selection_policy\":{\"id\":\"14393\"}},\"id\":\"14379\",\"type\":\"ColumnDataSource\"},{\"attributes\":{},\"id\":\"14675\",\"type\":\"CategoricalTickFormatter\"},{\"attributes\":{},\"id\":\"14059\",\"type\":\"BasicTicker\"},{\"attributes\":{\"css_classes\":[\"markdown\"],\"margin\":[5,5,5,5],\"name\":\"Markdown14728\",\"text\":\"&lt;p&gt;Welcome to an interaction Real Estate Analysis of Toronto Dashboard.&lt;/p&gt;\"},\"id\":\"14029\",\"type\":\"panel.models.markup.HTML\"},{\"attributes\":{\"axis_label\":\"\",\"coordinates\":null,\"formatter\":{\"id\":\"14229\"},\"group\":null,\"major_label_orientation\":0.3490658503988659,\"major_label_policy\":{\"id\":\"14230\"},\"ticker\":{\"id\":\"14199\"}},\"id\":\"14198\",\"type\":\"CategoricalAxis\"},{\"attributes\":{\"factors\":[[\"2001\",\"other_house\"],[\"2001\",\"apartment_five_storeys_less\"],[\"2001\",\"duplex\"],[\"2001\",\"row_house\"],[\"2001\",\"semi_detached_house\"],[\"2001\",\"movable_dwelling\"],[\"2001\",\"apartment_five_storeys_plus\"],[\"2001\",\"single_detached_house\"],[\"2006\",\"other_house\"],[\"2006\",\"apartment_five_storeys_less\"],[\"2006\",\"duplex\"],[\"2006\",\"row_house\"],[\"2006\",\"semi_detached_house\"],[\"2006\",\"movable_dwelling\"],[\"2006\",\"apartment_five_storeys_plus\"],[\"2006\",\"single_detached_house\"],[\"2011\",\"other_house\"],[\"2011\",\"apartment_five_storeys_less\"],[\"2011\",\"duplex\"],[\"2011\",\"row_house\"],[\"2011\",\"semi_detached_house\"],[\"2011\",\"movable_dwelling\"],[\"2011\",\"apartment_five_storeys_plus\"],[\"2011\",\"single_detached_house\"],[\"2016\",\"other_house\"],[\"2016\",\"apartment_five_storeys_less\"],[\"2016\",\"duplex\"],[\"2016\",\"row_house\"],[\"2016\",\"semi_detached_house\"],[\"2016\",\"movable_dwelling\"],[\"2016\",\"apartment_five_storeys_plus\"],[\"2016\",\"single_detached_house\"]],\"tags\":[[[\"year\",\"year\",null],[\"Variable\",\"Variable\",null]]]},\"id\":\"14537\",\"type\":\"FactorRange\"},{\"attributes\":{\"axis_label\":\"\",\"coordinates\":null,\"formatter\":{\"id\":\"14084\"},\"group\":null,\"major_label_policy\":{\"id\":\"14090\"},\"ticker\":{\"id\":\"14059\"}},\"id\":\"14058\",\"type\":\"LinearAxis\"},{\"attributes\":{\"source\":{\"id\":\"14664\"}},\"id\":\"14671\",\"type\":\"CDSView\"},{\"attributes\":{\"data\":[{\"alignmentgroup\":\"True\",\"hovertemplate\":\"year=2001<br>neighbourhood=%{x}<br>average_house_value=%{marker.color}<extra></extra>\",\"legendgroup\":\"\",\"marker\":{\"coloraxis\":\"coloraxis\",\"pattern\":{\"shape\":\"\"}},\"name\":\"\",\"offsetgroup\":\"\",\"orientation\":\"v\",\"showlegend\":false,\"textposition\":\"auto\",\"type\":\"bar\",\"xaxis\":\"x4\",\"yaxis\":\"y4\"},{\"alignmentgroup\":\"True\",\"hovertemplate\":\"year=2006<br>neighbourhood=%{x}<br>average_house_value=%{marker.color}<extra></extra>\",\"legendgroup\":\"\",\"marker\":{\"coloraxis\":\"coloraxis\",\"pattern\":{\"shape\":\"\"}},\"name\":\"\",\"offsetgroup\":\"\",\"orientation\":\"v\",\"showlegend\":false,\"textposition\":\"auto\",\"type\":\"bar\",\"xaxis\":\"x3\",\"yaxis\":\"y3\"},{\"alignmentgroup\":\"True\",\"hovertemplate\":\"year=2011<br>neighbourhood=%{x}<br>average_house_value=%{marker.color}<extra></extra>\",\"legendgroup\":\"\",\"marker\":{\"coloraxis\":\"coloraxis\",\"pattern\":{\"shape\":\"\"}},\"name\":\"\",\"offsetgroup\":\"\",\"orientation\":\"v\",\"showlegend\":false,\"textposition\":\"auto\",\"type\":\"bar\",\"xaxis\":\"x2\",\"yaxis\":\"y2\"},{\"alignmentgroup\":\"True\",\"hovertemplate\":\"year=2016<br>neighbourhood=%{x}<br>average_house_value=%{marker.color}<extra></extra>\",\"legendgroup\":\"\",\"marker\":{\"coloraxis\":\"coloraxis\",\"pattern\":{\"shape\":\"\"}},\"name\":\"\",\"offsetgroup\":\"\",\"orientation\":\"v\",\"showlegend\":false,\"textposition\":\"auto\",\"type\":\"bar\",\"xaxis\":\"x\",\"yaxis\":\"y\"}],\"data_sources\":[{\"id\":\"14615\"},{\"id\":\"14616\"},{\"id\":\"14617\"},{\"id\":\"14618\"}],\"layout\":{\"annotations\":[{\"font\":{},\"showarrow\":false,\"text\":\"year=2016\",\"textangle\":90,\"x\":0.98,\"xanchor\":\"left\",\"xref\":\"paper\",\"y\":0.11375,\"yanchor\":\"middle\",\"yref\":\"paper\"},{\"font\":{},\"showarrow\":false,\"text\":\"year=2011\",\"textangle\":90,\"x\":0.98,\"xanchor\":\"left\",\"xref\":\"paper\",\"y\":0.37124999999999997,\"yanchor\":\"middle\",\"yref\":\"paper\"},{\"font\":{},\"showarrow\":false,\"text\":\"year=2006\",\"textangle\":90,\"x\":0.98,\"xanchor\":\"left\",\"xref\":\"paper\",\"y\":0.62875,\"yanchor\":\"middle\",\"yref\":\"paper\"},{\"font\":{},\"showarrow\":false,\"text\":\"year=2001\",\"textangle\":90,\"x\":0.98,\"xanchor\":\"left\",\"xref\":\"paper\",\"y\":0.88625,\"yanchor\":\"middle\",\"yref\":\"paper\"}],\"barmode\":\"relative\",\"coloraxis\":{\"colorbar\":{\"title\":{\"text\":\"average_house_value\"}},\"colorscale\":[[0.0,\"#0d0887\"],[0.1111111111111111,\"#46039f\"],[0.2222222222222222,\"#7201a8\"],[0.3333333333333333,\"#9c179e\"],[0.4444444444444444,\"#bd3786\"],[0.5555555555555556,\"#d8576b\"],[0.6666666666666666,\"#ed7953\"],[0.7777777777777778,\"#fb9f3a\"],[0.8888888888888888,\"#fdca26\"],[1.0,\"#f0f921\"]]},\"height\":800,\"legend\":{\"tracegroupgap\":0},\"margin\":{\"t\":60},\"template\":{\"data\":{\"bar\":[{\"error_x\":{\"color\":\"#2a3f5f\"},\"error_y\":{\"color\":\"#2a3f5f\"},\"marker\":{\"line\":{\"color\":\"#E5ECF6\",\"width\":0.5},\"pattern\":{\"fillmode\":\"overlay\",\"size\":10,\"solidity\":0.2}},\"type\":\"bar\"}],\"barpolar\":[{\"marker\":{\"line\":{\"color\":\"#E5ECF6\",\"width\":0.5},\"pattern\":{\"fillmode\":\"overlay\",\"size\":10,\"solidity\":0.2}},\"type\":\"barpolar\"}],\"carpet\":[{\"aaxis\":{\"endlinecolor\":\"#2a3f5f\",\"gridcolor\":\"white\",\"linecolor\":\"white\",\"minorgridcolor\":\"white\",\"startlinecolor\":\"#2a3f5f\"},\"baxis\":{\"endlinecolor\":\"#2a3f5f\",\"gridcolor\":\"white\",\"linecolor\":\"white\",\"minorgridcolor\":\"white\",\"startlinecolor\":\"#2a3f5f\"},\"type\":\"carpet\"}],\"choropleth\":[{\"colorbar\":{\"outlinewidth\":0,\"ticks\":\"\"},\"type\":\"choropleth\"}],\"contour\":[{\"colorbar\":{\"outlinewidth\":0,\"ticks\":\"\"},\"colorscale\":[[0.0,\"#0d0887\"],[0.1111111111111111,\"#46039f\"],[0.2222222222222222,\"#7201a8\"],[0.3333333333333333,\"#9c179e\"],[0.4444444444444444,\"#bd3786\"],[0.5555555555555556,\"#d8576b\"],[0.6666666666666666,\"#ed7953\"],[0.7777777777777778,\"#fb9f3a\"],[0.8888888888888888,\"#fdca26\"],[1.0,\"#f0f921\"]],\"type\":\"contour\"}],\"contourcarpet\":[{\"colorbar\":{\"outlinewidth\":0,\"ticks\":\"\"},\"type\":\"contourcarpet\"}],\"heatmap\":[{\"colorbar\":{\"outlinewidth\":0,\"ticks\":\"\"},\"colorscale\":[[0.0,\"#0d0887\"],[0.1111111111111111,\"#46039f\"],[0.2222222222222222,\"#7201a8\"],[0.3333333333333333,\"#9c179e\"],[0.4444444444444444,\"#bd3786\"],[0.5555555555555556,\"#d8576b\"],[0.6666666666666666,\"#ed7953\"],[0.7777777777777778,\"#fb9f3a\"],[0.8888888888888888,\"#fdca26\"],[1.0,\"#f0f921\"]],\"type\":\"heatmap\"}],\"heatmapgl\":[{\"colorbar\":{\"outlinewidth\":0,\"ticks\":\"\"},\"colorscale\":[[0.0,\"#0d0887\"],[0.1111111111111111,\"#46039f\"],[0.2222222222222222,\"#7201a8\"],[0.3333333333333333,\"#9c179e\"],[0.4444444444444444,\"#bd3786\"],[0.5555555555555556,\"#d8576b\"],[0.6666666666666666,\"#ed7953\"],[0.7777777777777778,\"#fb9f3a\"],[0.8888888888888888,\"#fdca26\"],[1.0,\"#f0f921\"]],\"type\":\"heatmapgl\"}],\"histogram\":[{\"marker\":{\"pattern\":{\"fillmode\":\"overlay\",\"size\":10,\"solidity\":0.2}},\"type\":\"histogram\"}],\"histogram2d\":[{\"colorbar\":{\"outlinewidth\":0,\"ticks\":\"\"},\"colorscale\":[[0.0,\"#0d0887\"],[0.1111111111111111,\"#46039f\"],[0.2222222222222222,\"#7201a8\"],[0.3333333333333333,\"#9c179e\"],[0.4444444444444444,\"#bd3786\"],[0.5555555555555556,\"#d8576b\"],[0.6666666666666666,\"#ed7953\"],[0.7777777777777778,\"#fb9f3a\"],[0.8888888888888888,\"#fdca26\"],[1.0,\"#f0f921\"]],\"type\":\"histogram2d\"}],\"histogram2dcontour\":[{\"colorbar\":{\"outlinewidth\":0,\"ticks\":\"\"},\"colorscale\":[[0.0,\"#0d0887\"],[0.1111111111111111,\"#46039f\"],[0.2222222222222222,\"#7201a8\"],[0.3333333333333333,\"#9c179e\"],[0.4444444444444444,\"#bd3786\"],[0.5555555555555556,\"#d8576b\"],[0.6666666666666666,\"#ed7953\"],[0.7777777777777778,\"#fb9f3a\"],[0.8888888888888888,\"#fdca26\"],[1.0,\"#f0f921\"]],\"type\":\"histogram2dcontour\"}],\"mesh3d\":[{\"colorbar\":{\"outlinewidth\":0,\"ticks\":\"\"},\"type\":\"mesh3d\"}],\"parcoords\":[{\"line\":{\"colorbar\":{\"outlinewidth\":0,\"ticks\":\"\"}},\"type\":\"parcoords\"}],\"pie\":[{\"automargin\":true,\"type\":\"pie\"}],\"scatter\":[{\"marker\":{\"colorbar\":{\"outlinewidth\":0,\"ticks\":\"\"}},\"type\":\"scatter\"}],\"scatter3d\":[{\"line\":{\"colorbar\":{\"outlinewidth\":0,\"ticks\":\"\"}},\"marker\":{\"colorbar\":{\"outlinewidth\":0,\"ticks\":\"\"}},\"type\":\"scatter3d\"}],\"scattercarpet\":[{\"marker\":{\"colorbar\":{\"outlinewidth\":0,\"ticks\":\"\"}},\"type\":\"scattercarpet\"}],\"scattergeo\":[{\"marker\":{\"colorbar\":{\"outlinewidth\":0,\"ticks\":\"\"}},\"type\":\"scattergeo\"}],\"scattergl\":[{\"marker\":{\"colorbar\":{\"outlinewidth\":0,\"ticks\":\"\"}},\"type\":\"scattergl\"}],\"scattermapbox\":[{\"marker\":{\"colorbar\":{\"outlinewidth\":0,\"ticks\":\"\"}},\"type\":\"scattermapbox\"}],\"scatterpolar\":[{\"marker\":{\"colorbar\":{\"outlinewidth\":0,\"ticks\":\"\"}},\"type\":\"scatterpolar\"}],\"scatterpolargl\":[{\"marker\":{\"colorbar\":{\"outlinewidth\":0,\"ticks\":\"\"}},\"type\":\"scatterpolargl\"}],\"scatterternary\":[{\"marker\":{\"colorbar\":{\"outlinewidth\":0,\"ticks\":\"\"}},\"type\":\"scatterternary\"}],\"surface\":[{\"colorbar\":{\"outlinewidth\":0,\"ticks\":\"\"},\"colorscale\":[[0.0,\"#0d0887\"],[0.1111111111111111,\"#46039f\"],[0.2222222222222222,\"#7201a8\"],[0.3333333333333333,\"#9c179e\"],[0.4444444444444444,\"#bd3786\"],[0.5555555555555556,\"#d8576b\"],[0.6666666666666666,\"#ed7953\"],[0.7777777777777778,\"#fb9f3a\"],[0.8888888888888888,\"#fdca26\"],[1.0,\"#f0f921\"]],\"type\":\"surface\"}],\"table\":[{\"cells\":{\"fill\":{\"color\":\"#EBF0F8\"},\"line\":{\"color\":\"white\"}},\"header\":{\"fill\":{\"color\":\"#C8D4E3\"},\"line\":{\"color\":\"white\"}},\"type\":\"table\"}]},\"layout\":{\"annotationdefaults\":{\"arrowcolor\":\"#2a3f5f\",\"arrowhead\":0,\"arrowwidth\":1},\"autotypenumbers\":\"strict\",\"coloraxis\":{\"colorbar\":{\"outlinewidth\":0,\"ticks\":\"\"}},\"colorscale\":{\"diverging\":[[0,\"#8e0152\"],[0.1,\"#c51b7d\"],[0.2,\"#de77ae\"],[0.3,\"#f1b6da\"],[0.4,\"#fde0ef\"],[0.5,\"#f7f7f7\"],[0.6,\"#e6f5d0\"],[0.7,\"#b8e186\"],[0.8,\"#7fbc41\"],[0.9,\"#4d9221\"],[1,\"#276419\"]],\"sequential\":[[0.0,\"#0d0887\"],[0.1111111111111111,\"#46039f\"],[0.2222222222222222,\"#7201a8\"],[0.3333333333333333,\"#9c179e\"],[0.4444444444444444,\"#bd3786\"],[0.5555555555555556,\"#d8576b\"],[0.6666666666666666,\"#ed7953\"],[0.7777777777777778,\"#fb9f3a\"],[0.8888888888888888,\"#fdca26\"],[1.0,\"#f0f921\"]],\"sequentialminus\":[[0.0,\"#0d0887\"],[0.1111111111111111,\"#46039f\"],[0.2222222222222222,\"#7201a8\"],[0.3333333333333333,\"#9c179e\"],[0.4444444444444444,\"#bd3786\"],[0.5555555555555556,\"#d8576b\"],[0.6666666666666666,\"#ed7953\"],[0.7777777777777778,\"#fb9f3a\"],[0.8888888888888888,\"#fdca26\"],[1.0,\"#f0f921\"]]},\"colorway\":[\"#636efa\",\"#EF553B\",\"#00cc96\",\"#ab63fa\",\"#FFA15A\",\"#19d3f3\",\"#FF6692\",\"#B6E880\",\"#FF97FF\",\"#FECB52\"],\"font\":{\"color\":\"#2a3f5f\"},\"geo\":{\"bgcolor\":\"white\",\"lakecolor\":\"white\",\"landcolor\":\"#E5ECF6\",\"showlakes\":true,\"showland\":true,\"subunitcolor\":\"white\"},\"hoverlabel\":{\"align\":\"left\"},\"hovermode\":\"closest\",\"mapbox\":{\"style\":\"light\"},\"paper_bgcolor\":\"white\",\"plot_bgcolor\":\"#E5ECF6\",\"polar\":{\"angularaxis\":{\"gridcolor\":\"white\",\"linecolor\":\"white\",\"ticks\":\"\"},\"bgcolor\":\"#E5ECF6\",\"radialaxis\":{\"gridcolor\":\"white\",\"linecolor\":\"white\",\"ticks\":\"\"}},\"scene\":{\"xaxis\":{\"backgroundcolor\":\"#E5ECF6\",\"gridcolor\":\"white\",\"gridwidth\":2,\"linecolor\":\"white\",\"showbackground\":true,\"ticks\":\"\",\"zerolinecolor\":\"white\"},\"yaxis\":{\"backgroundcolor\":\"#E5ECF6\",\"gridcolor\":\"white\",\"gridwidth\":2,\"linecolor\":\"white\",\"showbackground\":true,\"ticks\":\"\",\"zerolinecolor\":\"white\"},\"zaxis\":{\"backgroundcolor\":\"#E5ECF6\",\"gridcolor\":\"white\",\"gridwidth\":2,\"linecolor\":\"white\",\"showbackground\":true,\"ticks\":\"\",\"zerolinecolor\":\"white\"}},\"shapedefaults\":{\"line\":{\"color\":\"#2a3f5f\"}},\"ternary\":{\"aaxis\":{\"gridcolor\":\"white\",\"linecolor\":\"white\",\"ticks\":\"\"},\"baxis\":{\"gridcolor\":\"white\",\"linecolor\":\"white\",\"ticks\":\"\"},\"bgcolor\":\"#E5ECF6\",\"caxis\":{\"gridcolor\":\"white\",\"linecolor\":\"white\",\"ticks\":\"\"}},\"title\":{\"x\":0.05},\"xaxis\":{\"automargin\":true,\"gridcolor\":\"white\",\"linecolor\":\"white\",\"ticks\":\"\",\"title\":{\"standoff\":15},\"zerolinecolor\":\"white\",\"zerolinewidth\":2},\"yaxis\":{\"automargin\":true,\"gridcolor\":\"white\",\"linecolor\":\"white\",\"ticks\":\"\",\"title\":{\"standoff\":15},\"zerolinecolor\":\"white\",\"zerolinewidth\":2}}},\"width\":1000,\"xaxis\":{\"anchor\":\"y\",\"domain\":[0.0,0.98],\"title\":{\"text\":\"neighbourhood\"}},\"xaxis2\":{\"anchor\":\"y2\",\"domain\":[0.0,0.98],\"matches\":\"x\",\"showticklabels\":false},\"xaxis3\":{\"anchor\":\"y3\",\"domain\":[0.0,0.98],\"matches\":\"x\",\"showticklabels\":false},\"xaxis4\":{\"anchor\":\"y4\",\"domain\":[0.0,0.98],\"matches\":\"x\",\"showticklabels\":false},\"yaxis\":{\"anchor\":\"x\",\"domain\":[0.0,0.2275],\"title\":{\"text\":\"average_house_value\"}},\"yaxis2\":{\"anchor\":\"x2\",\"domain\":[0.2575,0.485],\"matches\":\"y\",\"title\":{\"text\":\"average_house_value\"}},\"yaxis3\":{\"anchor\":\"x3\",\"domain\":[0.515,0.7425],\"matches\":\"y\",\"title\":{\"text\":\"average_house_value\"}},\"yaxis4\":{\"anchor\":\"x4\",\"domain\":[0.7725,1.0],\"matches\":\"y\",\"title\":{\"text\":\"average_house_value\"}}},\"margin\":[5,5,5,5],\"name\":\"interactive14760\",\"viewport_update_throttle\":200,\"visibility\":false},\"id\":\"14619\",\"type\":\"panel.models.plotly.PlotlyPlot\"},{\"attributes\":{\"children\":[{\"id\":\"14040\"},{\"id\":\"14111\"}],\"margin\":[0,0,0,0],\"name\":\"Row10065\"},\"id\":\"14039\",\"type\":\"Row\"},{\"attributes\":{\"callback\":null,\"renderers\":[{\"id\":\"14576\"}],\"tags\":[\"hv_created\"],\"tooltips\":[[\"year\",\"@{year}\"],[\"Variable\",\"@{Variable}\"],[\"value\",\"@{value}\"]]},\"id\":\"14539\",\"type\":\"HoverTool\"},{\"attributes\":{\"children\":[{\"id\":\"14535\"}],\"css_classes\":[\"panel-widget-box\"],\"margin\":[5,5,5,5],\"name\":\"WidgetBox02196\"},\"id\":\"14534\",\"type\":\"Column\"},{\"attributes\":{\"fill_alpha\":{\"value\":0.1},\"fill_color\":{\"value\":\"#bfbf00\"},\"hatch_alpha\":{\"value\":0.1},\"hatch_color\":{\"value\":\"#bfbf00\"},\"line_alpha\":{\"value\":0.1},\"top\":{\"field\":\"A_2011\"},\"width\":{\"value\":0.8},\"x\":{\"field\":\"index\"}},\"id\":\"14222\",\"type\":\"VBar\"},{\"attributes\":{\"below\":[{\"id\":\"14269\"}],\"center\":[{\"id\":\"14271\"},{\"id\":\"14275\"}],\"height\":300,\"left\":[{\"id\":\"14272\"}],\"margin\":[5,5,5,5],\"min_border_bottom\":10,\"min_border_left\":10,\"min_border_right\":10,\"min_border_top\":10,\"renderers\":[{\"id\":\"14295\"}],\"sizing_mode\":\"fixed\",\"title\":{\"id\":\"14261\"},\"toolbar\":{\"id\":\"14282\"},\"width\":700,\"x_range\":{\"id\":\"14043\"},\"x_scale\":{\"id\":\"14265\"},\"y_range\":{\"id\":\"14258\"},\"y_scale\":{\"id\":\"14267\"}},\"id\":\"14260\",\"subtype\":\"Figure\",\"type\":\"Plot\"},{\"attributes\":{\"bottom\":{\"value\":0},\"fill_alpha\":{\"value\":1.0},\"fill_color\":{\"value\":\"#30a2da\"},\"hatch_alpha\":{\"value\":1.0},\"hatch_color\":{\"value\":\"#30a2da\"},\"hatch_scale\":{\"value\":12.0},\"hatch_weight\":{\"value\":1.0},\"line_alpha\":{\"value\":1.0},\"line_cap\":{\"value\":\"butt\"},\"line_color\":{\"value\":\"black\"},\"line_dash\":{\"value\":[]},\"line_dash_offset\":{\"value\":0},\"line_join\":{\"value\":\"bevel\"},\"line_width\":{\"value\":1},\"top\":{\"field\":\"average_house_value\"},\"width\":{\"value\":0.8},\"x\":{\"field\":\"neighbourhood\"}},\"id\":\"14672\",\"type\":\"VBar\"},{\"attributes\":{},\"id\":\"14688\",\"type\":\"UnionRenderers\"},{\"attributes\":{},\"id\":\"14242\",\"type\":\"UnionRenderers\"},{\"attributes\":{\"fill_color\":{\"value\":\"#bf00bf\"},\"hatch_color\":{\"value\":\"#bf00bf\"},\"top\":{\"field\":\"A_2001\"},\"width\":{\"value\":0.8},\"x\":{\"field\":\"index\"}},\"id\":\"14078\",\"type\":\"VBar\"},{\"attributes\":{\"children\":[{\"id\":\"14183\"},{\"id\":\"14254\"}],\"margin\":[0,0,0,0],\"name\":\"Row10086\"},\"id\":\"14182\",\"type\":\"Row\"},{\"attributes\":{\"data\":{\"marker.color\":[[200388,203047,259998,453850,371864,304749,257404,327644,343535,565304,225369,182957,265705,158483,310740,222086,927466,269386,213227,300213,219771,596077,249025,246750,215421,335119,253618,255142,283706,256205,241824,159187,264116,231741,278023,290457,483734,163419,163039,345676,241685,187993,126255,517466,726664,199043,235168,224425,224780,323536,354207,260555,240009,272896,213919,194295,423537,174793,274436,263247,196112,174518,267631,205572,512334,395115,204523,372579,461393,664712,489998,328211,234424,156076,275374,269751,209609,239078,173169,248778,159374,153829,411558,284459,247779,339987,279833,224801,427169,249993,181251,256556,268067,269410,378033,276239,246333,394235,226856,465254,238524,219337,210017,309221,664476,228625,335435,261923,200402,271880,276462,607040,228460,334433,215039,145464,404836,228368,155094,324732,375678,213950,228975,172947,208555,212241,187140,213749,211633,284984,283215,282087,181367,270607,224756,343877,491987,494098,185859,261784]],\"x\":[[\"Agincourt North\",\"Agincourt South-Malvern West\",\"Alderwood\",\"Annex\",\"Banbury-Don Mills\",\"Bathurst Manor\",\"Bay Street Corridor\",\"Bayview Village\",\"Bayview Woods-Steeles\",\"Bedford Park-Nortown\",\"Beechborough-Greenbrook\",\"Bendale\",\"Birchcliffe-Cliffside\",\"Black Creek\",\"Blake-Jones\",\"Briar Hill-Belgravia\",\"Bridle Path-Sunnybrook-York Mills\",\"Broadview North\",\"Brookhaven-Amesbury\",\"Cabbagetown-South St.James Town\",\"Caledonia-Fairbank\",\"Casa Loma\",\"Centennial Scarborough\",\"Church-Yonge Corridor\",\"Clairlea-Birchmount\",\"Clanton Park\",\"Cliffcrest\",\"Corso Italia-Davenport\",\"Danforth\",\"Danforth-East York\",\"Don Valley Village\",\"Dorset Park\",\"Dovercourt-Wallace Emerson-Juncti\",\"Downsview-Roding-CFB\",\"Dufferin Grove\",\"East End-Danforth\",\"Edenbridge-Humber Valley\",\"Eglinton East\",\"Elms-Old Rexdale\",\"Englemount-Lawrence\",\"Eringate-Centennial-West Deane\",\"Etobicoke West Mall\",\"Flemingdon Park\",\"Forest Hill North\",\"Forest Hill South\",\"Glenfield-Jane Heights\",\"Greenwood-Coxwell\",\"Guildwood\",\"Henry Farm\",\"High Park North\",\"High Park-Swansea\",\"Highland Creek\",\"Hillcrest Village\",\"Humber Heights-Westmount\",\"Humber Summit\",\"Humbermede\",\"Humewood-Cedarvale\",\"Ionview\",\"Islington-City Centre West\",\"Junction Area\",\"Keelesdale-Eglinton West\",\"Kennedy Park\",\"Kensington-Chinatown\",\"Kingsview Village-The Westway\",\"Kingsway South\",\"L'Amoreaux\",\"Lambton Baby Point\",\"Lansing-Westgate\",\"Lawrence Park North\",\"Lawrence Park South\",\"Leaside-Bennington\",\"Little Portugal\",\"Long Branch\",\"Malvern\",\"Maple Leaf\",\"Markland Wood\",\"Milliken\",\"Mimico\",\"Morningside\",\"Moss Park\",\"Mount Dennis\",\"Mount Olive-Silverstone-Jamestown\",\"Mount Pleasant East\",\"Mount Pleasant West\",\"New Toronto\",\"Newtonbrook East\",\"Newtonbrook West\",\"Niagara\",\"North Riverdale\",\"North St.James Town\",\"O'Connor-Parkview\",\"Oakridge\",\"Oakwood Village\",\"Old East York\",\"Palmerston-Little Italy\",\"Parkwoods-Donalda\",\"Pelmo Park-Humberlea\",\"Playter Estates-Danforth\",\"Pleasant View\",\"Princess-Rosethorn\",\"Regent Park\",\"Rexdale-Kipling\",\"Rockcliffe-Smythe\",\"Roncesvalles\",\"Rosedale-Moore Park\",\"Rouge\",\"Runnymede-Bloor West Village\",\"Rustic\",\"Scarborough Village\",\"South Parkdale\",\"South Riverdale\",\"St.Andrew-Windfields\",\"Steeles\",\"Stonegate-Queensway\",\"Tam O'Shanter-Sullivan\",\"Taylor-Massey\",\"The Beaches\",\"Thistletown-Beaumond Heights\",\"Thorncliffe Park\",\"Trinity-Bellwoods\",\"University\",\"Victoria Village\",\"Waterfront Communities-The Island\",\"West Hill\",\"West Humber-Clairville\",\"Westminster-Branson\",\"Weston\",\"Weston-Pellam Park\",\"Wexford/Maryvale\",\"Willowdale East\",\"Willowdale West\",\"Willowridge-Martingrove-Richview\",\"Woburn\",\"Woodbine Corridor\",\"Woodbine-Lumsden\",\"Wychwood\",\"Yonge-Eglinton\",\"Yonge-St.Clair\",\"York University Heights\",\"Yorkdale-Glen Park\"]],\"y\":[[200388,203047,259998,453850,371864,304749,257404,327644,343535,565304,225369,182957,265705,158483,310740,222086,927466,269386,213227,300213,219771,596077,249025,246750,215421,335119,253618,255142,283706,256205,241824,159187,264116,231741,278023,290457,483734,163419,163039,345676,241685,187993,126255,517466,726664,199043,235168,224425,224780,323536,354207,260555,240009,272896,213919,194295,423537,174793,274436,263247,196112,174518,267631,205572,512334,395115,204523,372579,461393,664712,489998,328211,234424,156076,275374,269751,209609,239078,173169,248778,159374,153829,411558,284459,247779,339987,279833,224801,427169,249993,181251,256556,268067,269410,378033,276239,246333,394235,226856,465254,238524,219337,210017,309221,664476,228625,335435,261923,200402,271880,276462,607040,228460,334433,215039,145464,404836,228368,155094,324732,375678,213950,228975,172947,208555,212241,187140,213749,211633,284984,283215,282087,181367,270607,224756,343877,491987,494098,185859,261784]]},\"selected\":{\"id\":\"14711\"},\"selection_policy\":{\"id\":\"14710\"}},\"id\":\"14615\",\"type\":\"ColumnDataSource\"},{\"attributes\":{},\"id\":\"14230\",\"type\":\"AllLabels\"},{\"attributes\":{},\"id\":\"14702\",\"type\":\"UnionRenderers\"},{\"attributes\":{\"format\":\"%.0f\"},\"id\":\"14370\",\"type\":\"PrintfTickFormatter\"},{\"attributes\":{\"format\":\"%.0f\\\"\"},\"id\":\"14579\",\"type\":\"PrintfTickFormatter\"},{\"attributes\":{\"margin\":[5,5,5,5],\"name\":\"HSpacer02159\",\"sizing_mode\":\"stretch_width\"},\"id\":\"14335\",\"type\":\"Spacer\"},{\"attributes\":{},\"id\":\"14194\",\"type\":\"CategoricalScale\"},{\"attributes\":{\"coordinates\":null,\"group\":null,\"text\":\"Year 2011 Dwelling Types\",\"text_color\":\"black\",\"text_font_size\":\"12pt\"},\"id\":\"14190\",\"type\":\"Title\"},{\"attributes\":{\"data\":{\"A_2001\":[300930,355015,75,90995,52355,23785,116900,3040],\"index\":[\"single_detached_house\",\"apartment_five_storeys_plus\",\"movable_dwelling\",\"semi_detached_house\",\"row_house\",\"duplex\",\"apartment_five_storeys_less\",\"other_house\"]},\"selected\":{\"id\":\"14076\"},\"selection_policy\":{\"id\":\"14099\"}},\"id\":\"14075\",\"type\":\"ColumnDataSource\"},{\"attributes\":{\"axis_label\":\"\",\"coordinates\":null,\"formatter\":{\"id\":\"14227\"},\"group\":null,\"major_label_policy\":{\"id\":\"14233\"},\"ticker\":{\"id\":\"14202\"}},\"id\":\"14201\",\"type\":\"LinearAxis\"},{\"attributes\":{\"data\":{\"customdata\":[{\"__ndarray__\":\"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\",\"dtype\":\"float64\",\"order\":\"little\",\"shape\":[140,10]}],\"lat\":[{\"__ndarray__\":\"U/xKrRjnRUArfwi78uRFQGLShJJuzUVAiKL+gvbVRUAuVWmLa95FQG3/DGfl4UVA2X/4VCnURUAcpxHIX+NFQFWFipr95UVAhKk9V6HdRUCIzGRRu9hFQBE36a5T4UVAOpzQVuvYRUC/Y3js5+FFQGUFO9WM1kVAdJqBoXnZRUCGn6zWkd1FQBmI6Wsr2EVAHqN+D8XZRUCgzBZ7ddVFQINmfAQj2EVAvhr77UbXRUBYVMTpJORFQJdFtF9v1EVALWO//lbbRUD+lzEm+d5FQDjN0LJN3EVAIh27l73WRUD5o4cljtdFQMEXiX1A2EVASdu290LkRUCm6w3nL+FFQJ0G0uY01UVAGNQShtzdRUBnHFUT5dNFQFCwewKT10VAC2bplt/VRUBFsLuK1t5FQGYM97pa3EVAvL8PQTTcRUC/NajkOdRFQNNidGmR0kVA4j0HlqPbRUAFvA7NI9pFQPu2WDjm2EVAPX0E/nDfRUAjKwEpGNZFQOrKyqPZ30VAqebm2bTiRUA9uUMWK9RFQDl05XmR0kVActOPGzjlRUDPdyJOyOZFQPibmhWb2EVA7URJSCThRUD3o9GyKN9FQCSyUc5+2EVA0svFayDeRUB4u7lTFdFFQNK9d2l91UVANs/w6sXXRUCyaYQC39xFQARCZ6mn00VABCaqlnjZRUAWD7WOptNFQGHg2gXa5UVAgQrDVybURUB9yAD1i+BFQJAhlZxy3UVAf+fNl83bRUBIcQoCFtpFQN8qFXXi0kVABfoCgtLLRUDEFJtF3uZFQL4VR+2X20VAR3Nk5RfRRUDWllNlDOlFQFfD0ZfWzkVAZDE9oyXkRUDqkvXECNRFQCu+BBsV2EVAvbczXZnfRUATVY2YONpFQK+mgO4q2kVA26xVFuDMRUDu1HULUeVFQEJCUhOW5EVAVMtSwn7RRUAKKeTvA9ZFQAJLSzi21UVAY6w+cHjaRUBCKGurRNlFQAytkOoi2EVAxI7vIDDZRUCOtoVCX9RFQIiEzu+k4EVAhrO2hNfbRUDo3MxsANdFQNDffNG75EVAlz1kJUHVRUBidVifetRFQOLwWQmj3EVAmjORiF/WRUAzn3sotNJFQAHy66hm10VAJ5F1Hx3pRUAVlrLrYtRFQLn39AEW20VAL+rmJIzeRUCz469ef9FFQFGgkQAc00VADsvRqczgRUAW7PEID+hFQLsueKhY0UVAEzGAS9vjRUAjamCz9dhFQPyDUPfk1UVAHZ9eY3beRUAkXK+Gl9pFQDCRHPo400VA2TLPAM3URUCSMtIgP91FQGvj2/0i0UVAalnvHj3iRUCiBKLMq9tFQNbLziaw40VA6Y96mfLZRUDRRVxjRNZFQJX/PTbR30VAO3ZIGKPiRUDqcHwGt+JFQDujlK2B10VA4alPiyTiRUD1G7t+oNZFQNkdWn3Y2EVAUldnSqXWRUCS/uJCM9pFQO50a8IL2EVAsfM+pwPiRUC7XVBbettFQA==\",\"dtype\":\"float64\",\"order\":\"little\",\"shape\":[140]}],\"lon\":[{\"__ndarray__\":\"GObrzxHRU8Chm6LI/9BTwGXg48Cp4lPArp1qJdvZU8AVu4XHYdZTwNBX+wEw3VPA04cuqK/YU8AYHsGuIthTwLud2J502FPAoEhBAeXaU8D8cXetr95TwDbIZj950FPAkB3pRvfQU8CnJfMbaOFTwLWAt92X1VPA39wEhPvcU8C8WlH3P9hTwFK8RqLC1lPASb/55BPfU8AP46BKbtdTwAYW2TEi3VPAPJPsxxzaU8Aw3odqp8lTwHBxO9FB2FPAlLK5KALSU8AbTrI4kNxTwAUZnuoSz1PACZRmVqPcU8BO4t7CG9VTwJG4hbY11VPAbzH9GqLWU8BDObCg2dFTwMIdAw0R3FPAlEH/TmTfU8Dq/0Vl/dtTwCRbRLEo01PAcy+s8m/hU8DAcNfgt89TwAYea4gi41PAaU9ugP7bU8DPusoDJuVTwOWkKH5p5FPA9ZJSEkrVU8AxjZGyZttTwFG2Di+E2lPA7kGlndzgU8DTWV6gwdRTwDtKb8l7zFPAxW0b49bVU8AMjQ7l191TwNjmUp7x3VPAyKV9tVvLU8BcH9YbtdZTwKN5W0Rv4VPAU8rvXZjjU8DYtJQktuJTwMxS/Clf21PANesQKHDRU8BCq7yyxeJTwI3rIRIs3lPAh2SOBizeU8BBGiUaqtBTwBZR0WBs2VPANshFMRDjU8AqhlBKreBTwEy/yPQZ1FPAS0KeNL/fU8DWnA8RL9tTwHgfDcja2VPAlLW4jPzZU8BLEa66bddTwEWLQ2iK21PAG070VCLiU8DabVm2Pc5TwCRMSb3E3lPAp28+GrPkU8CIYAO/mdFTwDQVHD0C4FPAZf6wKUDNU8Am8WbLgddTwLNDHdL/31PASP7cp5XlU8CeLBCYothTwG+0iM0s2VPAI3P6tKngU8Av/hHh+tlTwGwP92ic21PAAo2IGGXaU8AXVfEMe9ZTwEtCOwoE2FPAZUMvivvTU8D7Lc+95tFTwMN2/3El3FPA4JgrpHjVU8B/7Wg1x9pTwGANSKkh1VPAxgMlYM/hU8A6FC55ttZTwJQsistv1VPAHFI1D9riU8CsN4uTEtdTwAfBFRY95FPAUM6rlaTfU8D/RwH9WdxTwK8S4oBM2FPAueQTDe3LU8D7H8PXFd9TwEOEC7vg31PApRAKQuDNU8C472ocHtxTwJeQrE971VPAWGHIJELYU8CKzNinjtRTwGVDDnwS4FPA+jIoBWPTU8D8T0AL8NJTwLRV7qos01PAV5+jPBDkU8CBxachZtZTwGZ2SPeU2lPAUYTU7azZU8DXjZDkJtRTwD5bKBUk2FPAk7X6qE7LU8COYD60KuZTwLZ9l2v03FPA04MnmQHhU8CGaN+idN1TwIlij9wc01PAJfsQ6bHZU8CVCWQbXdtTwE4gkVt441PAyJ41JqHOU8AXgW+iL9RTwLVDcBrq01PAYY0OozvbU8DGSN1r1NlTwMxL9rZ22VPADfug20nfU8DQ2DRCQd1TwA==\",\"dtype\":\"float64\",\"order\":\"little\",\"shape\":[140]}],\"marker.color\":[{\"__ndarray__\":\"AAAAAE4hFEEAAAAAtGUUQQAAAABKHhpBAAAAAMLLJkEAAAAAjq0iQQAAAAAjnR5BAAAAAJbbGUEAAACA9XQgQQAAAABLQSFBAAAAgN5kLEEAAAAAv6MWQQAAAAANYRJBAAAAAAyxGkEAAAAATtcPQQAAAAA0Nx9BAAAAAFJPFkEAAADA1Uo3QQAAAAC1DxtBAAAAAHxrFUEAAAAAeigeQQAAAADJExZBAAAAgJDwLUEAAAAAGwQZQQAAAACWyRhBAAAAAO2jFUEAAACAEtUgQQAAAAA4ehlBAAAAAGqhGUEAAAAA/H8cQQAAAAC9vBlBAAAAAOlKGEEAAAAAgvsPQQAAAAAuiBpBAAAAAJ5HF0EAAAAA0+0bQQAAAACZLR1BAAAAAAVMKEEAAAAAmmoQQQAAAADVYBBBAAAAgNFcIUEAAAAAV0cYQQAAAACQ4hJBAAAAALhdCUEAAAAAwf0pQQAAAIDYPzJBAAAAALf+E0EAAAAAvp8XQQAAAAB2ixZBAAAAAJiUFkEAAAAAIkAgQQAAAICDyiFBAAAAAJosGkEAAAAAPBwYQQAAAAD6aRtBAAAAAEp9FUEAAAAAn4QTQQAAAAD7RSVBAAAAABePEUEAAAAAlZEbQQAAAADVcRpBAAAAAFuzE0EAAAAABogRQQAAAACX4hpBAAAAAKOmFEEAAACAxLspQQAAAICH2CNBAAAAAKeLFEEAAAAAwbYiQQAAAADBLCdBAAAAwIuxMEEAAACAj5woQQAAAABBfCBBAAAAAJmMF0EAAAAAglsPQQAAAAC0qRtBAAAAABsZG0EAAAAAcQ4VQQAAAABKBBhBAAAAAFZlEUEAAAAAwP0YQQAAAACTAhBBAAAAAPLnDkEAAACA9KskQQAAAABXkxxBAAAAABDkGEEAAACAqhMhQQAAAABiHBxBAAAAACSVFkEAAACArnQlQQAAAAD/HBlBAAAAAC81EkEAAAAAxsUZQQAAAADL7RpBAAAAAFYQG0EAAACA3/wiQQAAAADyvxtBAAAAAN2+GEEAAACANs0jQQAAAAD9yRZBAAAAAGVeJ0EAAAAACfYXQQAAAACdCBZBAAAAAPEYFUEAAAAAJRAfQQAAAAAIsDBBAAAAAHv3FkEAAAAAJNkgQQAAAADKTxpBAAAAAK8hFEEAAAAA2k8bQQAAAACyxRtBAAAAAIZ9LkEAAAAAOvMWQQAAAIBAzCBBAAAAABqaFUEAAAAAsDkNQQAAAACEVSRBAAAAAODwFkEAAAAABikPQQAAAICDTyBBAAAAgJneIkEAAAAAFH4VQQAAAAB8ABdBAAAAAJ5fEUEAAAAAWfMUQQAAAAAhUhVBAAAAAJ/MEkEAAAAA6HgVQQAAAAB9QhVBAAAAANagHEEAAAAAW3McQQAAAABYVhxBAAAAACc4EkEAAAAAGy8bQQAAAAD6kxZBAAAAALFFIUEAAACAI7YoQQAAAIBI0ShBAAAAAK6rEkEAAAAANUwaQQ==\",\"dtype\":\"float64\",\"order\":\"little\",\"shape\":[140]}],\"marker.size\":[{\"__ndarray__\":\"AAAAAE4hFEEAAAAAtGUUQQAAAABKHhpBAAAAAMLLJkEAAAAAjq0iQQAAAAAjnR5BAAAAAJbbGUEAAACA9XQgQQAAAABLQSFBAAAAgN5kLEEAAAAAv6MWQQAAAAANYRJBAAAAAAyxGkEAAAAATtcPQQAAAAA0Nx9BAAAAAFJPFkEAAADA1Uo3QQAAAAC1DxtBAAAAAHxrFUEAAAAAeigeQQAAAADJExZBAAAAgJDwLUEAAAAAGwQZQQAAAACWyRhBAAAAAO2jFUEAAACAEtUgQQAAAAA4ehlBAAAAAGqhGUEAAAAA/H8cQQAAAAC9vBlBAAAAAOlKGEEAAAAAgvsPQQAAAAAuiBpBAAAAAJ5HF0EAAAAA0+0bQQAAAACZLR1BAAAAAAVMKEEAAAAAmmoQQQAAAADVYBBBAAAAgNFcIUEAAAAAV0cYQQAAAACQ4hJBAAAAALhdCUEAAAAAwf0pQQAAAIDYPzJBAAAAALf+E0EAAAAAvp8XQQAAAAB2ixZBAAAAAJiUFkEAAAAAIkAgQQAAAICDyiFBAAAAAJosGkEAAAAAPBwYQQAAAAD6aRtBAAAAAEp9FUEAAAAAn4QTQQAAAAD7RSVBAAAAABePEUEAAAAAlZEbQQAAAADVcRpBAAAAAFuzE0EAAAAABogRQQAAAACX4hpBAAAAAKOmFEEAAACAxLspQQAAAICH2CNBAAAAAKeLFEEAAAAAwbYiQQAAAADBLCdBAAAAwIuxMEEAAACAj5woQQAAAABBfCBBAAAAAJmMF0EAAAAAglsPQQAAAAC0qRtBAAAAABsZG0EAAAAAcQ4VQQAAAABKBBhBAAAAAFZlEUEAAAAAwP0YQQAAAACTAhBBAAAAAPLnDkEAAACA9KskQQAAAABXkxxBAAAAABDkGEEAAACAqhMhQQAAAABiHBxBAAAAACSVFkEAAACArnQlQQAAAAD/HBlBAAAAAC81EkEAAAAAxsUZQQAAAADL7RpBAAAAAFYQG0EAAACA3/wiQQAAAADyvxtBAAAAAN2+GEEAAACANs0jQQAAAAD9yRZBAAAAAGVeJ0EAAAAACfYXQQAAAACdCBZBAAAAAPEYFUEAAAAAJRAfQQAAAAAIsDBBAAAAAHv3FkEAAAAAJNkgQQAAAADKTxpBAAAAAK8hFEEAAAAA2k8bQQAAAACyxRtBAAAAAIZ9LkEAAAAAOvMWQQAAAIBAzCBBAAAAABqaFUEAAAAAsDkNQQAAAACEVSRBAAAAAODwFkEAAAAABikPQQAAAICDTyBBAAAAgJneIkEAAAAAFH4VQQAAAAB8ABdBAAAAAJ5fEUEAAAAAWfMUQQAAAAAhUhVBAAAAAJ/MEkEAAAAA6HgVQQAAAAB9QhVBAAAAANagHEEAAAAAW3McQQAAAABYVhxBAAAAACc4EkEAAAAAGy8bQQAAAAD6kxZBAAAAALFFIUEAAACAI7YoQQAAAIBI0ShBAAAAAK6rEkEAAAAANUwaQQ==\",\"dtype\":\"float64\",\"order\":\"little\",\"shape\":[140]}]},\"selected\":{\"id\":\"14703\"},\"selection_policy\":{\"id\":\"14702\"}},\"id\":\"14035\",\"type\":\"ColumnDataSource\"},{\"attributes\":{\"coordinates\":null,\"data_source\":{\"id\":\"14664\"},\"glyph\":{\"id\":\"14667\"},\"group\":null,\"hover_glyph\":null,\"muted_glyph\":{\"id\":\"14669\"},\"nonselection_glyph\":{\"id\":\"14668\"},\"selection_glyph\":{\"id\":\"14672\"},\"view\":{\"id\":\"14671\"}},\"id\":\"14670\",\"type\":\"GlyphRenderer\"},{\"attributes\":{},\"id\":\"14547\",\"type\":\"LinearScale\"},{\"attributes\":{},\"id\":\"14545\",\"type\":\"CategoricalScale\"},{\"attributes\":{},\"id\":\"14372\",\"type\":\"BasicTickFormatter\"},{\"attributes\":{},\"id\":\"14062\",\"type\":\"SaveTool\"},{\"attributes\":{},\"id\":\"14196\",\"type\":\"LinearScale\"},{\"attributes\":{\"end\":4086.5,\"reset_end\":2355.8,\"reset_start\":906.2,\"start\":0.0,\"tags\":[[[\"value\",\"value\",null]]]},\"id\":\"14337\",\"type\":\"Range1d\"},{\"attributes\":{},\"id\":\"14710\",\"type\":\"UnionRenderers\"},{\"attributes\":{},\"id\":\"14063\",\"type\":\"PanTool\"},{\"attributes\":{\"args\":{\"model\":{\"id\":\"14619\"}},\"code\":\"try { model.visibility = (cb_obj.active == 3); } catch { }\",\"tags\":[\"plotly_tab_fix14619\"]},\"id\":\"15232\",\"type\":\"CustomJS\"},{\"attributes\":{\"below\":[{\"id\":\"14349\"}],\"center\":[{\"id\":\"14352\"},{\"id\":\"14356\"}],\"height\":500,\"left\":[{\"id\":\"14353\"}],\"margin\":[5,5,5,5],\"min_border_bottom\":10,\"min_border_left\":10,\"min_border_right\":10,\"min_border_top\":10,\"renderers\":[{\"id\":\"14385\"},{\"id\":\"14405\"}],\"right\":[{\"id\":\"14396\"}],\"sizing_mode\":\"fixed\",\"title\":{\"id\":\"14341\"},\"toolbar\":{\"id\":\"14363\"},\"width\":800,\"x_range\":{\"id\":\"14336\"},\"x_scale\":{\"id\":\"14345\"},\"y_range\":{\"id\":\"14337\"},\"y_scale\":{\"id\":\"14347\"}},\"id\":\"14340\",\"subtype\":\"Figure\",\"type\":\"Plot\"},{\"attributes\":{\"data\":[{\"branchvalues\":\"total\",\"domain\":{\"x\":[0.0,1.0],\"y\":[0.0,1.0]},\"hovertemplate\":\"labels=%{label}<br>average_house_value_sum=%{value}<br>parent=%{parent}<br>id=%{id}<br>single_detached_house=%{customdata[0]}<br>apartment_five_storeys_plus=%{customdata[1]}<br>movable_dwelling=%{customdata[2]}<br>semi_detached_house=%{customdata[3]}<br>row_house=%{customdata[4]}<br>duplex=%{customdata[5]}<br>apartment_five_storeys_less=%{customdata[6]}<br>other_house=%{customdata[7]}<br>shelter_costs_owned=%{customdata[8]}<br>shelter_costs_rented=%{customdata[9]}<br>average_house_value=%{color}<extra></extra>\",\"marker\":{\"coloraxis\":\"coloraxis\"},\"name\":\"\",\"type\":\"sunburst\"}],\"data_sources\":[{\"id\":\"14627\"}],\"layout\":{\"coloraxis\":{\"colorbar\":{\"title\":{\"text\":\"average_house_value\"}},\"colorscale\":[[0.0,\"#0d0887\"],[0.1111111111111111,\"#46039f\"],[0.2222222222222222,\"#7201a8\"],[0.3333333333333333,\"#9c179e\"],[0.4444444444444444,\"#bd3786\"],[0.5555555555555556,\"#d8576b\"],[0.6666666666666666,\"#ed7953\"],[0.7777777777777778,\"#fb9f3a\"],[0.8888888888888888,\"#fdca26\"],[1.0,\"#f0f921\"]]},\"height\":900,\"legend\":{\"tracegroupgap\":0},\"margin\":{\"t\":60},\"template\":{\"data\":{\"bar\":[{\"error_x\":{\"color\":\"#2a3f5f\"},\"error_y\":{\"color\":\"#2a3f5f\"},\"marker\":{\"line\":{\"color\":\"#E5ECF6\",\"width\":0.5},\"pattern\":{\"fillmode\":\"overlay\",\"size\":10,\"solidity\":0.2}},\"type\":\"bar\"}],\"barpolar\":[{\"marker\":{\"line\":{\"color\":\"#E5ECF6\",\"width\":0.5},\"pattern\":{\"fillmode\":\"overlay\",\"size\":10,\"solidity\":0.2}},\"type\":\"barpolar\"}],\"carpet\":[{\"aaxis\":{\"endlinecolor\":\"#2a3f5f\",\"gridcolor\":\"white\",\"linecolor\":\"white\",\"minorgridcolor\":\"white\",\"startlinecolor\":\"#2a3f5f\"},\"baxis\":{\"endlinecolor\":\"#2a3f5f\",\"gridcolor\":\"white\",\"linecolor\":\"white\",\"minorgridcolor\":\"white\",\"startlinecolor\":\"#2a3f5f\"},\"type\":\"carpet\"}],\"choropleth\":[{\"colorbar\":{\"outlinewidth\":0,\"ticks\":\"\"},\"type\":\"choropleth\"}],\"contour\":[{\"colorbar\":{\"outlinewidth\":0,\"ticks\":\"\"},\"colorscale\":[[0.0,\"#0d0887\"],[0.1111111111111111,\"#46039f\"],[0.2222222222222222,\"#7201a8\"],[0.3333333333333333,\"#9c179e\"],[0.4444444444444444,\"#bd3786\"],[0.5555555555555556,\"#d8576b\"],[0.6666666666666666,\"#ed7953\"],[0.7777777777777778,\"#fb9f3a\"],[0.8888888888888888,\"#fdca26\"],[1.0,\"#f0f921\"]],\"type\":\"contour\"}],\"contourcarpet\":[{\"colorbar\":{\"outlinewidth\":0,\"ticks\":\"\"},\"type\":\"contourcarpet\"}],\"heatmap\":[{\"colorbar\":{\"outlinewidth\":0,\"ticks\":\"\"},\"colorscale\":[[0.0,\"#0d0887\"],[0.1111111111111111,\"#46039f\"],[0.2222222222222222,\"#7201a8\"],[0.3333333333333333,\"#9c179e\"],[0.4444444444444444,\"#bd3786\"],[0.5555555555555556,\"#d8576b\"],[0.6666666666666666,\"#ed7953\"],[0.7777777777777778,\"#fb9f3a\"],[0.8888888888888888,\"#fdca26\"],[1.0,\"#f0f921\"]],\"type\":\"heatmap\"}],\"heatmapgl\":[{\"colorbar\":{\"outlinewidth\":0,\"ticks\":\"\"},\"colorscale\":[[0.0,\"#0d0887\"],[0.1111111111111111,\"#46039f\"],[0.2222222222222222,\"#7201a8\"],[0.3333333333333333,\"#9c179e\"],[0.4444444444444444,\"#bd3786\"],[0.5555555555555556,\"#d8576b\"],[0.6666666666666666,\"#ed7953\"],[0.7777777777777778,\"#fb9f3a\"],[0.8888888888888888,\"#fdca26\"],[1.0,\"#f0f921\"]],\"type\":\"heatmapgl\"}],\"histogram\":[{\"marker\":{\"pattern\":{\"fillmode\":\"overlay\",\"size\":10,\"solidity\":0.2}},\"type\":\"histogram\"}],\"histogram2d\":[{\"colorbar\":{\"outlinewidth\":0,\"ticks\":\"\"},\"colorscale\":[[0.0,\"#0d0887\"],[0.1111111111111111,\"#46039f\"],[0.2222222222222222,\"#7201a8\"],[0.3333333333333333,\"#9c179e\"],[0.4444444444444444,\"#bd3786\"],[0.5555555555555556,\"#d8576b\"],[0.6666666666666666,\"#ed7953\"],[0.7777777777777778,\"#fb9f3a\"],[0.8888888888888888,\"#fdca26\"],[1.0,\"#f0f921\"]],\"type\":\"histogram2d\"}],\"histogram2dcontour\":[{\"colorbar\":{\"outlinewidth\":0,\"ticks\":\"\"},\"colorscale\":[[0.0,\"#0d0887\"],[0.1111111111111111,\"#46039f\"],[0.2222222222222222,\"#7201a8\"],[0.3333333333333333,\"#9c179e\"],[0.4444444444444444,\"#bd3786\"],[0.5555555555555556,\"#d8576b\"],[0.6666666666666666,\"#ed7953\"],[0.7777777777777778,\"#fb9f3a\"],[0.8888888888888888,\"#fdca26\"],[1.0,\"#f0f921\"]],\"type\":\"histogram2dcontour\"}],\"mesh3d\":[{\"colorbar\":{\"outlinewidth\":0,\"ticks\":\"\"},\"type\":\"mesh3d\"}],\"parcoords\":[{\"line\":{\"colorbar\":{\"outlinewidth\":0,\"ticks\":\"\"}},\"type\":\"parcoords\"}],\"pie\":[{\"automargin\":true,\"type\":\"pie\"}],\"scatter\":[{\"marker\":{\"colorbar\":{\"outlinewidth\":0,\"ticks\":\"\"}},\"type\":\"scatter\"}],\"scatter3d\":[{\"line\":{\"colorbar\":{\"outlinewidth\":0,\"ticks\":\"\"}},\"marker\":{\"colorbar\":{\"outlinewidth\":0,\"ticks\":\"\"}},\"type\":\"scatter3d\"}],\"scattercarpet\":[{\"marker\":{\"colorbar\":{\"outlinewidth\":0,\"ticks\":\"\"}},\"type\":\"scattercarpet\"}],\"scattergeo\":[{\"marker\":{\"colorbar\":{\"outlinewidth\":0,\"ticks\":\"\"}},\"type\":\"scattergeo\"}],\"scattergl\":[{\"marker\":{\"colorbar\":{\"outlinewidth\":0,\"ticks\":\"\"}},\"type\":\"scattergl\"}],\"scattermapbox\":[{\"marker\":{\"colorbar\":{\"outlinewidth\":0,\"ticks\":\"\"}},\"type\":\"scattermapbox\"}],\"scatterpolar\":[{\"marker\":{\"colorbar\":{\"outlinewidth\":0,\"ticks\":\"\"}},\"type\":\"scatterpolar\"}],\"scatterpolargl\":[{\"marker\":{\"colorbar\":{\"outlinewidth\":0,\"ticks\":\"\"}},\"type\":\"scatterpolargl\"}],\"scatterternary\":[{\"marker\":{\"colorbar\":{\"outlinewidth\":0,\"ticks\":\"\"}},\"type\":\"scatterternary\"}],\"surface\":[{\"colorbar\":{\"outlinewidth\":0,\"ticks\":\"\"},\"colorscale\":[[0.0,\"#0d0887\"],[0.1111111111111111,\"#46039f\"],[0.2222222222222222,\"#7201a8\"],[0.3333333333333333,\"#9c179e\"],[0.4444444444444444,\"#bd3786\"],[0.5555555555555556,\"#d8576b\"],[0.6666666666666666,\"#ed7953\"],[0.7777777777777778,\"#fb9f3a\"],[0.8888888888888888,\"#fdca26\"],[1.0,\"#f0f921\"]],\"type\":\"surface\"}],\"table\":[{\"cells\":{\"fill\":{\"color\":\"#EBF0F8\"},\"line\":{\"color\":\"white\"}},\"header\":{\"fill\":{\"color\":\"#C8D4E3\"},\"line\":{\"color\":\"white\"}},\"type\":\"table\"}]},\"layout\":{\"annotationdefaults\":{\"arrowcolor\":\"#2a3f5f\",\"arrowhead\":0,\"arrowwidth\":1},\"autotypenumbers\":\"strict\",\"coloraxis\":{\"colorbar\":{\"outlinewidth\":0,\"ticks\":\"\"}},\"colorscale\":{\"diverging\":[[0,\"#8e0152\"],[0.1,\"#c51b7d\"],[0.2,\"#de77ae\"],[0.3,\"#f1b6da\"],[0.4,\"#fde0ef\"],[0.5,\"#f7f7f7\"],[0.6,\"#e6f5d0\"],[0.7,\"#b8e186\"],[0.8,\"#7fbc41\"],[0.9,\"#4d9221\"],[1,\"#276419\"]],\"sequential\":[[0.0,\"#0d0887\"],[0.1111111111111111,\"#46039f\"],[0.2222222222222222,\"#7201a8\"],[0.3333333333333333,\"#9c179e\"],[0.4444444444444444,\"#bd3786\"],[0.5555555555555556,\"#d8576b\"],[0.6666666666666666,\"#ed7953\"],[0.7777777777777778,\"#fb9f3a\"],[0.8888888888888888,\"#fdca26\"],[1.0,\"#f0f921\"]],\"sequentialminus\":[[0.0,\"#0d0887\"],[0.1111111111111111,\"#46039f\"],[0.2222222222222222,\"#7201a8\"],[0.3333333333333333,\"#9c179e\"],[0.4444444444444444,\"#bd3786\"],[0.5555555555555556,\"#d8576b\"],[0.6666666666666666,\"#ed7953\"],[0.7777777777777778,\"#fb9f3a\"],[0.8888888888888888,\"#fdca26\"],[1.0,\"#f0f921\"]]},\"colorway\":[\"#636efa\",\"#EF553B\",\"#00cc96\",\"#ab63fa\",\"#FFA15A\",\"#19d3f3\",\"#FF6692\",\"#B6E880\",\"#FF97FF\",\"#FECB52\"],\"font\":{\"color\":\"#2a3f5f\"},\"geo\":{\"bgcolor\":\"white\",\"lakecolor\":\"white\",\"landcolor\":\"#E5ECF6\",\"showlakes\":true,\"showland\":true,\"subunitcolor\":\"white\"},\"hoverlabel\":{\"align\":\"left\"},\"hovermode\":\"closest\",\"mapbox\":{\"style\":\"light\"},\"paper_bgcolor\":\"white\",\"plot_bgcolor\":\"#E5ECF6\",\"polar\":{\"angularaxis\":{\"gridcolor\":\"white\",\"linecolor\":\"white\",\"ticks\":\"\"},\"bgcolor\":\"#E5ECF6\",\"radialaxis\":{\"gridcolor\":\"white\",\"linecolor\":\"white\",\"ticks\":\"\"}},\"scene\":{\"xaxis\":{\"backgroundcolor\":\"#E5ECF6\",\"gridcolor\":\"white\",\"gridwidth\":2,\"linecolor\":\"white\",\"showbackground\":true,\"ticks\":\"\",\"zerolinecolor\":\"white\"},\"yaxis\":{\"backgroundcolor\":\"#E5ECF6\",\"gridcolor\":\"white\",\"gridwidth\":2,\"linecolor\":\"white\",\"showbackground\":true,\"ticks\":\"\",\"zerolinecolor\":\"white\"},\"zaxis\":{\"backgroundcolor\":\"#E5ECF6\",\"gridcolor\":\"white\",\"gridwidth\":2,\"linecolor\":\"white\",\"showbackground\":true,\"ticks\":\"\",\"zerolinecolor\":\"white\"}},\"shapedefaults\":{\"line\":{\"color\":\"#2a3f5f\"}},\"ternary\":{\"aaxis\":{\"gridcolor\":\"white\",\"linecolor\":\"white\",\"ticks\":\"\"},\"baxis\":{\"gridcolor\":\"white\",\"linecolor\":\"white\",\"ticks\":\"\"},\"bgcolor\":\"#E5ECF6\",\"caxis\":{\"gridcolor\":\"white\",\"linecolor\":\"white\",\"ticks\":\"\"}},\"title\":{\"x\":0.05},\"xaxis\":{\"automargin\":true,\"gridcolor\":\"white\",\"linecolor\":\"white\",\"ticks\":\"\",\"title\":{\"standoff\":15},\"zerolinecolor\":\"white\",\"zerolinewidth\":2},\"yaxis\":{\"automargin\":true,\"gridcolor\":\"white\",\"linecolor\":\"white\",\"ticks\":\"\",\"title\":{\"standoff\":15},\"zerolinecolor\":\"white\",\"zerolinewidth\":2}}},\"width\":900},\"margin\":[5,5,5,5],\"name\":\"interactive14811\",\"viewport_update_throttle\":200,\"visibility\":false},\"id\":\"14628\",\"type\":\"panel.models.plotly.PlotlyPlot\"},{\"attributes\":{\"bottom\":{\"value\":0},\"fill_alpha\":{\"value\":1.0},\"fill_color\":{\"value\":\"#bf00bf\"},\"hatch_alpha\":{\"value\":1.0},\"hatch_color\":{\"value\":\"#bf00bf\"},\"hatch_scale\":{\"value\":12.0},\"hatch_weight\":{\"value\":1.0},\"line_alpha\":{\"value\":1.0},\"line_cap\":{\"value\":\"butt\"},\"line_color\":{\"value\":\"black\"},\"line_dash\":{\"value\":[]},\"line_dash_offset\":{\"value\":0},\"line_join\":{\"value\":\"bevel\"},\"line_width\":{\"value\":1},\"top\":{\"field\":\"A_2001\"},\"width\":{\"value\":0.8},\"x\":{\"field\":\"index\"}},\"id\":\"14083\",\"type\":\"VBar\"},{\"attributes\":{},\"id\":\"14199\",\"type\":\"CategoricalTicker\"},{\"attributes\":{},\"id\":\"14064\",\"type\":\"WheelZoomTool\"}],\"root_ids\":[\"14026\",\"15542\"]},\"title\":\"Bokeh Application\",\"version\":\"2.4.2\"}};\n",
       "    var render_items = [{\"docid\":\"1cc4acbc-fa73-4ecb-88bc-d76babcfccd7\",\"root_ids\":[\"14026\"],\"roots\":{\"14026\":\"46725e0e-350b-4ead-87ed-7fde5ce71c48\"}}];\n",
       "    root.Bokeh.embed.embed_items_notebook(docs_json, render_items);\n",
       "  }\n",
       "  if (root.Bokeh !== undefined && root.Bokeh.Panel !== undefined && ( root['Plotly'] !== undefined)) {\n",
       "    embed_document(root);\n",
       "  } else {\n",
       "    var attempts = 0;\n",
       "    var timer = setInterval(function(root) {\n",
       "      if (root.Bokeh !== undefined && root.Bokeh.Panel !== undefined && (root['Plotly'] !== undefined)) {\n",
       "        clearInterval(timer);\n",
       "        embed_document(root);\n",
       "      } else if (document.readyState == \"complete\") {\n",
       "        attempts++;\n",
       "        if (attempts > 200) {\n",
       "          clearInterval(timer);\n",
       "          console.log(\"Bokeh: ERROR: Unable to run BokehJS code because BokehJS library is missing\");\n",
       "        }\n",
       "      }\n",
       "    }, 25, root)\n",
       "  }\n",
       "})(window);</script>"
      ],
      "text/plain": [
       "Tabs\n",
       "    [0] Column\n",
       "        [0] Markdown(str)\n",
       "        [1] Markdown(str)\n",
       "        [2] Markdown(str)\n",
       "        [3] Markdown(str)\n",
       "        [4] Column\n",
       "            [0] Column()\n",
       "            [1] Row\n",
       "                [0] Plotly(Figure, name='interactive14734')\n",
       "    [1] Column\n",
       "        [0] Row\n",
       "            [0] Column\n",
       "                [0] Column()\n",
       "                [1] Row\n",
       "                    [0] HoloViews(Bars, name='interactive10045')\n",
       "            [1] Column\n",
       "                [0] Column()\n",
       "                [1] Row\n",
       "                    [0] HoloViews(Bars, name='interactive10055')\n",
       "        [1] Row\n",
       "            [0] Column\n",
       "                [0] Column()\n",
       "                [1] Row\n",
       "                    [0] HoloViews(Bars, name='interactive10066')\n",
       "            [1] Column\n",
       "                [0] Column()\n",
       "                [1] Row\n",
       "                    [0] HoloViews(Bars, name='interactive10076')\n",
       "    [2] Column\n",
       "        [0] Markdown(str)\n",
       "        [1] Column\n",
       "            [0] Column()\n",
       "            [1] Row\n",
       "                [0] Column\n",
       "                    [0] Row\n",
       "                        [0] WidgetBox\n",
       "                            [0] Select(margin=(20, 20, 20, 20), name='neighbourhood', options=['Agincourt North', ...], value='Annex', width=250)\n",
       "                        [1] HSpacer()\n",
       "                    [1] HoloViews(DynamicMap, widget_location='top_left')\n",
       "    [3] Column\n",
       "        [0] Markdown(str)\n",
       "        [1] Markdown(str)\n",
       "        [2] Column\n",
       "            [0] Column()\n",
       "            [1] Row\n",
       "                [0] Column\n",
       "                    [0] Row\n",
       "                        [0] WidgetBox\n",
       "                            [0] Select(margin=(20, 20, 20, 20), name='neighbourhood', options=['Agincourt North', ...], value='Agincourt North', width=250)\n",
       "                        [1] HSpacer()\n",
       "                    [1] HoloViews(DynamicMap, widget_location='top_left')\n",
       "        [3] Column\n",
       "            [0] Column()\n",
       "            [1] Row\n",
       "                [0] Plotly(Figure, name='interactive14760')\n",
       "    [4] Column\n",
       "        [0] Markdown(str)\n",
       "        [1] Markdown(str)\n",
       "        [2] Column\n",
       "            [0] Column()\n",
       "            [1] Row\n",
       "                [0] Plotly(Figure, name='interactive14811')\n",
       "        [3] Column\n",
       "            [0] Column()\n",
       "            [1] Row\n",
       "                [0] HoloViews(Bars, name='interactive14818')"
      ]
     },
     "execution_count": 107,
     "metadata": {
      "application/vnd.holoviews_exec.v0+json": {
       "id": "14026"
      }
     },
     "output_type": "execute_result"
    }
   ],
   "source": [
    "tabs.servable()"
   ]
  },
  {
   "cell_type": "markdown",
   "metadata": {},
   "source": [
    "# Debugging\n",
    "\n",
    "Note: Some of the Plotly express plots may not render in the notebook through the panel functions.\n",
    "\n",
    "However, you can test each plot by uncommenting the following code"
   ]
  },
  {
   "cell_type": "code",
   "execution_count": 28,
   "metadata": {},
   "outputs": [],
   "source": [
    "# neighbourhood_map().show()"
   ]
  },
  {
   "cell_type": "code",
   "execution_count": 29,
   "metadata": {},
   "outputs": [],
   "source": [
    "# create_bar_chart(data, title, xlabel, ylabel, color)\n",
    "\n",
    "# # Bar chart for 2001\n",
    "# create_bar_chart(df_dwelling_units.loc[2001], \"Dwelling Types in Toronto in 2001\", \"2001\", \"Dwelling Type Units\", \"red\")\n",
    "\n",
    "# # Bar chart for 2006\n",
    "# create_bar_chart(df_dwelling_units.loc[2006], \"Dwelling Types in Toronto in 2006\", \"2006\", \"Dwelling Type Units\", \"blue\")\n",
    "\n",
    "# # Bar chart for 2011\n",
    "# create_bar_chart(df_dwelling_units.loc[2011], \"Dwelling Types in Toronto in 2011\", \"2011\", \"Dwelling Type Units\", \"orange\")\n",
    "\n",
    "# # Bar chart for 2016\n",
    "# create_bar_chart(df_dwelling_units.loc[2016], \"Dwelling Types in Toronto in 2016\", \"2016\", \"Dwelling Type Units\", \"magenta\")"
   ]
  },
  {
   "cell_type": "code",
   "execution_count": 30,
   "metadata": {},
   "outputs": [],
   "source": [
    "# create_line_chart(data, title, xlabel, ylabel, color)\n",
    "\n",
    "# # Line chart for owned dwellings\n",
    "# create_line_chart(df_avg_costs[\"shelter_costs_owned\"], \"Average Monthly Shelter Cost for Owned Dwellings in Toronto\", \"Year\", \"Avg Monthly Shelter Costs\", \"blue\")\n",
    "\n",
    "# # Line chart for rented dwellings\n",
    "# create_line_chart(df_avg_costs[\"shelter_costs_rented\"], \"Average Monthly Shelter Cost for Rented Dwellings in Toronto\", \"Year\", \"Avg Monthly Shelter Costs\", \"orange\")"
   ]
  },
  {
   "cell_type": "code",
   "execution_count": 31,
   "metadata": {},
   "outputs": [],
   "source": [
    "# average_house_value()"
   ]
  },
  {
   "cell_type": "code",
   "execution_count": 32,
   "metadata": {},
   "outputs": [],
   "source": [
    "# average_value_by_neighbourhood()"
   ]
  },
  {
   "cell_type": "code",
   "execution_count": 33,
   "metadata": {},
   "outputs": [],
   "source": [
    "# number_dwelling_types()"
   ]
  },
  {
   "cell_type": "code",
   "execution_count": 34,
   "metadata": {},
   "outputs": [],
   "source": [
    "# average_house_value_snapshot()"
   ]
  },
  {
   "cell_type": "code",
   "execution_count": 35,
   "metadata": {},
   "outputs": [],
   "source": [
    "# top_most_expensive_neighbourhoods()"
   ]
  },
  {
   "cell_type": "code",
   "execution_count": 36,
   "metadata": {},
   "outputs": [],
   "source": [
    "# sunburts_cost_analysis()"
   ]
  },
  {
   "cell_type": "code",
   "execution_count": 37,
   "metadata": {},
   "outputs": [
    {
     "data": {
      "text/html": [
       "<div>\n",
       "<style scoped>\n",
       "    .dataframe tbody tr th:only-of-type {\n",
       "        vertical-align: middle;\n",
       "    }\n",
       "\n",
       "    .dataframe tbody tr th {\n",
       "        vertical-align: top;\n",
       "    }\n",
       "\n",
       "    .dataframe thead th {\n",
       "        text-align: right;\n",
       "    }\n",
       "</style>\n",
       "<table border=\"1\" class=\"dataframe\">\n",
       "  <thead>\n",
       "    <tr style=\"text-align: right;\">\n",
       "      <th></th>\n",
       "      <th>single_detached_house</th>\n",
       "      <th>apartment_five_storeys_plus</th>\n",
       "      <th>movable_dwelling</th>\n",
       "      <th>semi_detached_house</th>\n",
       "      <th>row_house</th>\n",
       "      <th>duplex</th>\n",
       "      <th>apartment_five_storeys_less</th>\n",
       "      <th>other_house</th>\n",
       "      <th>average_house_value</th>\n",
       "      <th>shelter_costs_owned</th>\n",
       "      <th>shelter_costs_rented</th>\n",
       "    </tr>\n",
       "    <tr>\n",
       "      <th>year</th>\n",
       "      <th></th>\n",
       "      <th></th>\n",
       "      <th></th>\n",
       "      <th></th>\n",
       "      <th></th>\n",
       "      <th></th>\n",
       "      <th></th>\n",
       "      <th></th>\n",
       "      <th></th>\n",
       "      <th></th>\n",
       "      <th></th>\n",
       "    </tr>\n",
       "  </thead>\n",
       "  <tbody>\n",
       "    <tr>\n",
       "      <th>2001</th>\n",
       "      <td>300930</td>\n",
       "      <td>355015</td>\n",
       "      <td>75</td>\n",
       "      <td>90995</td>\n",
       "      <td>52355</td>\n",
       "      <td>23785</td>\n",
       "      <td>116900</td>\n",
       "      <td>3040</td>\n",
       "      <td>40583604</td>\n",
       "      <td>118563</td>\n",
       "      <td>152031</td>\n",
       "    </tr>\n",
       "    <tr>\n",
       "      <th>2006</th>\n",
       "      <td>266860</td>\n",
       "      <td>379400</td>\n",
       "      <td>165</td>\n",
       "      <td>69430</td>\n",
       "      <td>54690</td>\n",
       "      <td>44095</td>\n",
       "      <td>162850</td>\n",
       "      <td>1335</td>\n",
       "      <td>59368353</td>\n",
       "      <td>184352</td>\n",
       "      <td>129558</td>\n",
       "    </tr>\n",
       "    <tr>\n",
       "      <th>2011</th>\n",
       "      <td>274940</td>\n",
       "      <td>429220</td>\n",
       "      <td>100</td>\n",
       "      <td>72480</td>\n",
       "      <td>60355</td>\n",
       "      <td>44750</td>\n",
       "      <td>163895</td>\n",
       "      <td>2165</td>\n",
       "      <td>74259461</td>\n",
       "      <td>202750</td>\n",
       "      <td>142771</td>\n",
       "    </tr>\n",
       "    <tr>\n",
       "      <th>2016</th>\n",
       "      <td>269680</td>\n",
       "      <td>493270</td>\n",
       "      <td>95</td>\n",
       "      <td>71200</td>\n",
       "      <td>61565</td>\n",
       "      <td>48585</td>\n",
       "      <td>165575</td>\n",
       "      <td>2845</td>\n",
       "      <td>92969566</td>\n",
       "      <td>246584</td>\n",
       "      <td>175885</td>\n",
       "    </tr>\n",
       "  </tbody>\n",
       "</table>\n",
       "</div>"
      ],
      "text/plain": [
       "      single_detached_house  apartment_five_storeys_plus  movable_dwelling  \\\n",
       "year                                                                         \n",
       "2001                 300930                       355015                75   \n",
       "2006                 266860                       379400               165   \n",
       "2011                 274940                       429220               100   \n",
       "2016                 269680                       493270                95   \n",
       "\n",
       "      semi_detached_house  row_house  duplex  apartment_five_storeys_less  \\\n",
       "year                                                                        \n",
       "2001                90995      52355   23785                       116900   \n",
       "2006                69430      54690   44095                       162850   \n",
       "2011                72480      60355   44750                       163895   \n",
       "2016                71200      61565   48585                       165575   \n",
       "\n",
       "      other_house  average_house_value  shelter_costs_owned  \\\n",
       "year                                                          \n",
       "2001         3040             40583604               118563   \n",
       "2006         1335             59368353               184352   \n",
       "2011         2165             74259461               202750   \n",
       "2016         2845             92969566               246584   \n",
       "\n",
       "      shelter_costs_rented  \n",
       "year                        \n",
       "2001                152031  \n",
       "2006                129558  \n",
       "2011                142771  \n",
       "2016                175885  "
      ]
     },
     "execution_count": 37,
     "metadata": {},
     "output_type": "execute_result"
    }
   ],
   "source": [
    "sum_dwelling = to_data.groupby(by=['year']).sum()\n",
    "sum_dwelling.head()"
   ]
  }
 ],
 "metadata": {
  "file_extension": ".py",
  "kernelspec": {
   "display_name": "Python [conda env:pyvizenv] *",
   "language": "python",
   "name": "conda-env-pyvizenv-py"
  },
  "language_info": {
   "codemirror_mode": {
    "name": "ipython",
    "version": 3
   },
   "file_extension": ".py",
   "mimetype": "text/x-python",
   "name": "python",
   "nbconvert_exporter": "python",
   "pygments_lexer": "ipython3",
   "version": "3.7.11"
  },
  "mimetype": "text/x-python",
  "name": "python",
  "npconvert_exporter": "python",
  "pygments_lexer": "ipython3",
  "version": 3
 },
 "nbformat": 4,
 "nbformat_minor": 4
}
