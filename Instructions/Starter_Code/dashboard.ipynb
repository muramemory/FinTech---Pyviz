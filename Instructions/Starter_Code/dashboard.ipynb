{
 "cells": [
  {
   "cell_type": "markdown",
   "metadata": {},
   "source": [
    "# Toronto Dwellings Analysis Dashboard\n",
    "\n",
    "In this notebook, you will compile the visualizations from the previous analysis into functions to create a Panel dashboard."
   ]
  },
  {
   "cell_type": "code",
   "execution_count": 52,
   "metadata": {},
   "outputs": [],
   "source": [
    "# imports\n",
    "import panel as pn\n",
    "pn.extension('plotly')\n",
    "import plotly.express as px\n",
    "import pandas as pd\n",
    "import hvplot.pandas\n",
    "import matplotlib.pyplot as plt\n",
    "import os\n",
    "from pathlib import Path\n",
    "from dotenv import load_dotenv"
   ]
  },
  {
   "cell_type": "code",
   "execution_count": 53,
   "metadata": {},
   "outputs": [],
   "source": [
    "# Initialize the Panel Extensions (for Plotly)\n",
    "import panel as pn\n",
    "pn.extension(\"plotly\")"
   ]
  },
  {
   "cell_type": "code",
   "execution_count": 54,
   "metadata": {},
   "outputs": [],
   "source": [
    "# Read the Mapbox API key\n",
    "load_dotenv()\n",
    "map_box_api = os.getenv(\"mapbox\")\n",
    "px.set_mapbox_access_token(map_box_api)"
   ]
  },
  {
   "cell_type": "markdown",
   "metadata": {},
   "source": [
    "# Import Data"
   ]
  },
  {
   "cell_type": "code",
   "execution_count": 55,
   "metadata": {},
   "outputs": [],
   "source": [
    "# Import the CSVs to Pandas DataFrames\n",
    "file_path = Path(\"Data/toronto_neighbourhoods_census_data.csv\")\n",
    "to_data = pd.read_csv(file_path, index_col=\"year\")\n",
    "\n",
    "file_path = Path(\"Data/toronto_neighbourhoods_coordinates.csv\")\n",
    "df_neighbourhood_locations = pd.read_csv(file_path,index_col='neighbourhood')"
   ]
  },
  {
   "cell_type": "markdown",
   "metadata": {},
   "source": [
    "- - -"
   ]
  },
  {
   "cell_type": "markdown",
   "metadata": {},
   "source": [
    "## Panel Visualizations\n",
    "\n",
    "In this section, you will copy the code for each plot type from your analysis notebook and place it into separate functions that Panel can use to create panes for the dashboard. \n",
    "\n",
    "These functions will convert the plot object to a Panel pane.\n",
    "\n",
    "Be sure to include any DataFrame transformation/manipulation code required along with the plotting code.\n",
    "\n",
    "Return a Panel pane object from each function that can be used to build the dashboard.\n",
    "\n",
    "Note: Remove any `.show()` lines from the code. We want to return the plots instead of showing them. The Panel dashboard will then display the plots."
   ]
  },
  {
   "cell_type": "markdown",
   "metadata": {},
   "source": [
    "### Global available data"
   ]
  },
  {
   "cell_type": "code",
   "execution_count": 131,
   "metadata": {},
   "outputs": [],
   "source": [
    "# Getting the data from the top 10 expensive neighbourhoods\n",
    "# YOUR CODE HERE!\n",
    "\n",
    "richest_neighbourhoods = to_data.groupby('neighbourhood').mean()\n",
    "richest_neighbourhoods_sorted = richest_neighbourhoods.sort_values('average_house_value', ascending=False)\n",
    "richest_neighbourhoods_sorted_top_10 = richest_neighbourhoods_sorted[0:10]\n",
    "richest_neighbourhoods_sorted_top_10_housevalue = richest_neighbourhoods_sorted_top_10['average_house_value']"
   ]
  },
  {
   "cell_type": "code",
   "execution_count": 142,
   "metadata": {},
   "outputs": [],
   "source": [
    "def top_10_richest_neighbourhoods(\n",
    "\n",
    "top_10_richest = richest_neighbourhoods_sorted_top_10_housevalue.hvplot.bar(yformatter=\"%.0f\", width=750,height=600, rot=60, \n",
    "                                                           title='Top 10 Most Expensive Neighbourhoods In Toronto',\n",
    "                                                           ylabel='Price',\n",
    "                                                          xlabel='Price', fontscale=1.2)\n",
    "):\n",
    "    return top_10_richest"
   ]
  },
  {
   "cell_type": "code",
   "execution_count": 139,
   "metadata": {},
   "outputs": [],
   "source": [
    "# Join the average values with the neighbourhood locations\n",
    "# YOUR CODE HERE!\n",
    "\n",
    "df_mean_neighbourhood_locations = pd.concat([richest_neighbourhoods, df_neighbourhood_locations], axis=1)"
   ]
  },
  {
   "cell_type": "code",
   "execution_count": 138,
   "metadata": {},
   "outputs": [],
   "source": [
    "# Calculate the mean number of dwelling types units per year\n",
    "# YOUR CODE HERE!\n",
    "\n",
    "to_data_reset_plot = to_data.groupby(['year', 'neighbourhood']).mean()"
   ]
  },
  {
   "cell_type": "code",
   "execution_count": 137,
   "metadata": {},
   "outputs": [],
   "source": [
    "# Calculate the average monthly shelter costs for owned and rented dwellings\n",
    "# YOUR CODE HERE!\n",
    "# Calculate the average monthly shelter costs for owned and rented dwellings\n",
    "# YOUR CODE HERE!\n",
    "\n",
    "costs_mean = to_data_reset_plot[\n",
    "    ['shelter_costs_owned','shelter_costs_rented']\n",
    "]"
   ]
  },
  {
   "cell_type": "markdown",
   "metadata": {},
   "source": [
    "## Panel Visualization Functions\n",
    "### Neighbourhood Map Scatterbox, Average House Value Per Neighbourhood Line Plot & Average House Value Per Neighbourhood Barchart"
   ]
  },
  {
   "cell_type": "code",
   "execution_count": 162,
   "metadata": {},
   "outputs": [],
   "source": [
    "    \"\"\"Neighbourhood Map\"\"\"\n",
    "# Define Panel visualization functions\n",
    "def neighbourhood_map(\n",
    "    \n",
    "    fig = px.scatter_mapbox(df_mean_neighbourhood_locations, lat=\"lat\", lon=\"lon\",   color=\"average_house_value\",\n",
    "                  color_continuous_scale=px.colors.cyclical.IceFire, size='average_house_value', zoom=10,mapbox_style='open-street-map', height=600, width=1200, title='Average House Value Scatterplot')\n",
    "\n",
    "):\n",
    "        return fig\n",
    "    "
   ]
  },
  {
   "cell_type": "code",
   "execution_count": 166,
   "metadata": {},
   "outputs": [],
   "source": [
    "def top_10_richest_neighbourhoods(\n",
    "\n",
    "top_10_richest = richest_neighbourhoods_sorted_top_10_housevalue.hvplot.bar(yformatter=\"%.0f\", width=750,height=600, rot=60, \n",
    "                                                           title='Top 10 Most Expensive Neighbourhoods In Toronto',\n",
    "                                                           ylabel='Price',\n",
    "                                                          xlabel='Price', fontscale=1.2)\n",
    "):\n",
    "    return top_10_richest"
   ]
  },
  {
   "cell_type": "code",
   "execution_count": 175,
   "metadata": {},
   "outputs": [],
   "source": [
    "plot_as_column = pn.Column(\n",
    "    \"# Average House Dashboard\", neighbourhood_map\n",
    ")\n",
    "\n",
    "row_as_column2 = pn.Row(\n",
    "     \"# Average House Dashboard\", top_10_richest_neighbourhoods\n",
    ")"
   ]
  },
  {
   "cell_type": "code",
   "execution_count": 172,
   "metadata": {},
   "outputs": [],
   "source": [
    "    \"\"\"Average house values by neighbourhood.\"\"\"\n",
    "    \n",
    "    # YOUR CODE HERE!\n",
    "\n",
    "df_mean = to_data[\n",
    "    ['neighbourhood', 'average_house_value']\n",
    "]\n",
    "df_mean\n",
    "\n",
    "def neighbourhood_avg_house_value(\n",
    "    \n",
    "    avg_house_value = df_mean.hvplot(x='year', y='average_house_value', width=1050, height=500, color='red',\n",
    "                                                                  line_width= 5, groupby='neighbourhood', widget_location='top_left', yformatter='%.0f'\n",
    "                                                                  ,xlabel='Year',ylabel='Average House Value Price', title='Average House Value')\n",
    "    \n",
    "):\n",
    "        return avg_house_value"
   ]
  },
  {
   "cell_type": "code",
   "execution_count": 178,
   "metadata": {},
   "outputs": [
    {
     "ename": "TypeError",
     "evalue": "'tuple' object is not callable",
     "output_type": "error",
     "traceback": [
      "\u001b[1;31m---------------------------------------------------------------------------\u001b[0m",
      "\u001b[1;31mTypeError\u001b[0m                                 Traceback (most recent call last)",
      "\u001b[1;32m~\\AppData\\Local\\Temp/ipykernel_10560/110294314.py\u001b[0m in \u001b[0;36m<module>\u001b[1;34m\u001b[0m\n\u001b[0;32m      1\u001b[0m tabs = pn.Tabs(\n\u001b[0;32m      2\u001b[0m     \u001b[1;33m(\u001b[0m\u001b[1;34m\"Average House Value\"\u001b[0m\u001b[1;33m,\u001b[0m \u001b[0mplot_as_column\u001b[0m\u001b[1;33m)\u001b[0m\u001b[1;33m\u001b[0m\u001b[1;33m\u001b[0m\u001b[0m\n\u001b[1;32m----> 3\u001b[1;33m     \u001b[1;33m(\u001b[0m\u001b[1;34m\"AAAA\"\u001b[0m\u001b[1;33m,\u001b[0m \u001b[0mrow_as_column2\u001b[0m\u001b[1;33m)\u001b[0m\u001b[1;33m\u001b[0m\u001b[1;33m\u001b[0m\u001b[0m\n\u001b[0m\u001b[0;32m      4\u001b[0m )\n\u001b[0;32m      5\u001b[0m \u001b[0mtabs\u001b[0m\u001b[1;33m\u001b[0m\u001b[1;33m\u001b[0m\u001b[0m\n",
      "\u001b[1;31mTypeError\u001b[0m: 'tuple' object is not callable"
     ]
    }
   ],
   "source": [
    "tabs = pn.Tabs(\n",
    "    (\"Average House Value\", plot_as_column)\n",
    "    (\"AAAA\", row_as_column2)\n",
    ")\n",
    "tabs"
   ]
  },
  {
   "cell_type": "markdown",
   "metadata": {},
   "source": [
    "### Shelter Costs of Owned Properties Bar Chart"
   ]
  },
  {
   "cell_type": "markdown",
   "metadata": {},
   "source": [
    "### Average Shelter Owned and Rented Costs"
   ]
  },
  {
   "cell_type": "code",
   "execution_count": 108,
   "metadata": {},
   "outputs": [],
   "source": [
    "    \"\"\"Average Shelter Owned and Rented Costs for all Toronto's neighbourhoods per year.\"\"\"\n",
    "\n",
    "    # YOUR CODE HERE!\n",
    "\n",
    "# Create two line charts, one to plot the monthly shelter costs for owned dwelleing and \n",
    "## other for rented dwellings per year\n",
    "\n",
    "def average_shelter_value(\n",
    "    costs_mean_plot = costs_mean.hvplot(x='year', y=['shelter_costs_owned','shelter_costs_rented'], width=800, height=500, \n",
    "                            line_width= 5, groupby='neighbourhood',widget_location='top_left', yformatter='%.0f',xlabel='Year',ylabel='Average House Value Price',\n",
    "                                       fontscale=1.5)\n",
    "    \n",
    "):\n",
    "        return costs_mean_plot"
   ]
  },
  {
   "cell_type": "markdown",
   "metadata": {},
   "source": [
    "### Number of dwelling types per year"
   ]
  },
  {
   "cell_type": "code",
   "execution_count": 154,
   "metadata": {},
   "outputs": [],
   "source": [
    "def number_dwelling_types(\n",
    "    \n",
    "    number_dwelling_types_plot = to_data_reset_plot.hvplot.bar(x='year', y=['single_detached_house','apartment_five_storeys_plus','movable_dwelling',\n",
    "                                               'semi_detached_house', 'row_house', 'duplex', 'apartment_five_storeys_less',\n",
    "                                               'other_house'],\n",
    "                                  stacked=False, width=900,height=600, rot=90,groupby='neighbourhood', widget_location='top_left',\n",
    "                                  yformatter='%.0f\"', xlabel= 'Year', ylabel = 'Dwelling Type Units', colormap='rainbow', fontscale=1.25)\n",
    "\n",
    "):\n",
    "    return number_dwelling_types_plot\n",
    "    \n",
    "    "
   ]
  },
  {
   "cell_type": "code",
   "execution_count": 156,
   "metadata": {},
   "outputs": [
    {
     "data": {},
     "metadata": {},
     "output_type": "display_data"
    },
    {
     "data": {},
     "metadata": {},
     "output_type": "display_data"
    },
    {
     "data": {
      "application/vnd.holoviews_exec.v0+json": "",
      "text/html": [
       "<div id='15916'>\n",
       "\n",
       "\n",
       "\n",
       "\n",
       "\n",
       "  <div class=\"bk-root\" id=\"27dc01b8-1ce0-4999-87e4-af4f313f4f27\" data-root-id=\"15916\"></div>\n",
       "</div>\n",
       "<script type=\"application/javascript\">(function(root) {\n",
       "  function embed_document(root) {\n",
       "    var docs_json = {\"0236ddca-b973-4aee-8b9e-c26ec4a6daea\":{\"defs\":[{\"extends\":null,\"module\":null,\"name\":\"ReactiveHTML1\",\"overrides\":[],\"properties\":[]},{\"extends\":null,\"module\":null,\"name\":\"FlexBox1\",\"overrides\":[],\"properties\":[{\"default\":\"flex-start\",\"kind\":null,\"name\":\"align_content\"},{\"default\":\"flex-start\",\"kind\":null,\"name\":\"align_items\"},{\"default\":\"row\",\"kind\":null,\"name\":\"flex_direction\"},{\"default\":\"wrap\",\"kind\":null,\"name\":\"flex_wrap\"},{\"default\":\"flex-start\",\"kind\":null,\"name\":\"justify_content\"}]},{\"extends\":null,\"module\":null,\"name\":\"TemplateActions1\",\"overrides\":[],\"properties\":[{\"default\":0,\"kind\":null,\"name\":\"open_modal\"},{\"default\":0,\"kind\":null,\"name\":\"close_modal\"}]},{\"extends\":null,\"module\":null,\"name\":\"MaterialTemplateActions1\",\"overrides\":[],\"properties\":[{\"default\":0,\"kind\":null,\"name\":\"open_modal\"},{\"default\":0,\"kind\":null,\"name\":\"close_modal\"}]}],\"roots\":{\"references\":[{\"attributes\":{\"bottom_units\":\"screen\",\"coordinates\":null,\"fill_alpha\":0.5,\"fill_color\":\"lightgrey\",\"group\":null,\"left_units\":\"screen\",\"level\":\"overlay\",\"line_alpha\":1.0,\"line_color\":\"black\",\"line_dash\":[4,4],\"line_width\":2,\"right_units\":\"screen\",\"syncable\":false,\"top_units\":\"screen\"},\"id\":\"15950\",\"type\":\"BoxAnnotation\"},{\"attributes\":{},\"id\":\"15934\",\"type\":\"CategoricalScale\"},{\"attributes\":{\"axis_label\":\"Dwelling Type Units\",\"axis_label_text_font_size\":\"16.25px\",\"coordinates\":null,\"formatter\":{\"id\":\"15968\"},\"group\":null,\"major_label_policy\":{\"id\":\"15974\"},\"major_label_text_font_size\":\"13.75px\",\"ticker\":{\"id\":\"15942\"}},\"id\":\"15941\",\"type\":\"LinearAxis\"},{\"attributes\":{},\"id\":\"15947\",\"type\":\"WheelZoomTool\"},{\"attributes\":{\"below\":[{\"id\":\"15938\"}],\"center\":[{\"id\":\"15940\"},{\"id\":\"15944\"}],\"left\":[{\"id\":\"15941\"}],\"margin\":[5,5,5,5],\"min_border_bottom\":10,\"min_border_left\":10,\"min_border_right\":10,\"min_border_top\":10,\"renderers\":[{\"id\":\"15965\"}],\"sizing_mode\":\"fixed\",\"title\":{\"id\":\"15930\"},\"toolbar\":{\"id\":\"15951\"},\"width\":900,\"x_range\":{\"id\":\"15926\"},\"x_scale\":{\"id\":\"15934\"},\"y_range\":{\"id\":\"15927\"},\"y_scale\":{\"id\":\"15936\"}},\"id\":\"15929\",\"subtype\":\"Figure\",\"type\":\"Plot\"},{\"attributes\":{\"axis\":{\"id\":\"15941\"},\"coordinates\":null,\"dimension\":1,\"grid_line_color\":null,\"group\":null,\"ticker\":null},\"id\":\"15944\",\"type\":\"Grid\"},{\"attributes\":{\"margin\":[5,5,5,5],\"name\":\"HSpacer51295\",\"sizing_mode\":\"stretch_width\"},\"id\":\"15925\",\"type\":\"Spacer\"},{\"attributes\":{},\"id\":\"15945\",\"type\":\"SaveTool\"},{\"attributes\":{},\"id\":\"15971\",\"type\":\"AllLabels\"},{\"attributes\":{\"children\":[{\"id\":\"15921\"}],\"margin\":[0,0,0,0],\"name\":\"Row51303\"},\"id\":\"15920\",\"type\":\"Row\"},{\"attributes\":{\"css_classes\":[\"markdown\"],\"margin\":[5,5,5,5],\"name\":\"Markdown51298\",\"text\":\"&lt;h1&gt;Average House Dashboard&lt;/h1&gt;\"},\"id\":\"15917\",\"type\":\"panel.models.markup.HTML\"},{\"attributes\":{\"margin\":[0,0,0,0],\"name\":\"Column51304\"},\"id\":\"15919\",\"type\":\"Column\"},{\"attributes\":{\"factors\":[[\"2001\",\"other_house\"],[\"2001\",\"apartment_five_storeys_less\"],[\"2001\",\"duplex\"],[\"2001\",\"row_house\"],[\"2001\",\"semi_detached_house\"],[\"2001\",\"movable_dwelling\"],[\"2001\",\"apartment_five_storeys_plus\"],[\"2001\",\"single_detached_house\"],[\"2006\",\"other_house\"],[\"2006\",\"apartment_five_storeys_less\"],[\"2006\",\"duplex\"],[\"2006\",\"row_house\"],[\"2006\",\"semi_detached_house\"],[\"2006\",\"movable_dwelling\"],[\"2006\",\"apartment_five_storeys_plus\"],[\"2006\",\"single_detached_house\"],[\"2011\",\"other_house\"],[\"2011\",\"apartment_five_storeys_less\"],[\"2011\",\"duplex\"],[\"2011\",\"row_house\"],[\"2011\",\"semi_detached_house\"],[\"2011\",\"movable_dwelling\"],[\"2011\",\"apartment_five_storeys_plus\"],[\"2011\",\"single_detached_house\"],[\"2016\",\"other_house\"],[\"2016\",\"apartment_five_storeys_less\"],[\"2016\",\"duplex\"],[\"2016\",\"row_house\"],[\"2016\",\"semi_detached_house\"],[\"2016\",\"movable_dwelling\"],[\"2016\",\"apartment_five_storeys_plus\"],[\"2016\",\"single_detached_house\"]],\"tags\":[[[\"year\",\"year\",null],[\"Variable\",\"Variable\",null]]]},\"id\":\"15926\",\"type\":\"FactorRange\"},{\"attributes\":{\"overlay\":{\"id\":\"15950\"}},\"id\":\"15948\",\"type\":\"BoxZoomTool\"},{\"attributes\":{\"children\":[{\"id\":\"15919\"},{\"id\":\"15920\"}],\"margin\":[0,0,0,0],\"name\":\"Column51301\"},\"id\":\"15918\",\"type\":\"Column\"},{\"attributes\":{\"fill_alpha\":{\"value\":0.2},\"fill_color\":{\"field\":\"Variable\",\"transform\":{\"id\":\"15958\"}},\"hatch_alpha\":{\"value\":0.2},\"hatch_color\":{\"field\":\"Variable\",\"transform\":{\"id\":\"15958\"}},\"line_alpha\":{\"value\":0.2},\"top\":{\"field\":\"value\"},\"width\":{\"value\":0.8},\"x\":{\"field\":\"xoffsets\"}},\"id\":\"15964\",\"type\":\"VBar\"},{\"attributes\":{},\"id\":\"15946\",\"type\":\"PanTool\"},{\"attributes\":{},\"id\":\"15939\",\"type\":\"CategoricalTicker\"},{\"attributes\":{\"coordinates\":null,\"data_source\":{\"id\":\"15959\"},\"glyph\":{\"id\":\"15962\"},\"group\":null,\"hover_glyph\":null,\"muted_glyph\":{\"id\":\"15964\"},\"nonselection_glyph\":{\"id\":\"15963\"},\"selection_glyph\":{\"id\":\"15967\"},\"view\":{\"id\":\"15966\"}},\"id\":\"15965\",\"type\":\"GlyphRenderer\"},{\"attributes\":{},\"id\":\"15970\",\"type\":\"CategoricalTickFormatter\"},{\"attributes\":{},\"id\":\"15989\",\"type\":\"UnionRenderers\"},{\"attributes\":{\"end\":4086.5,\"reset_end\":4086.5,\"reset_start\":0.0,\"tags\":[[[\"value\",\"value\",null]]]},\"id\":\"15927\",\"type\":\"Range1d\"},{\"attributes\":{},\"id\":\"15936\",\"type\":\"LinearScale\"},{\"attributes\":{},\"id\":\"15949\",\"type\":\"ResetTool\"},{\"attributes\":{},\"id\":\"15960\",\"type\":\"Selection\"},{\"attributes\":{\"factors\":[\"single_detached_house\",\"apartment_five_storeys_plus\",\"movable_dwelling\",\"semi_detached_house\",\"row_house\",\"duplex\",\"apartment_five_storeys_less\",\"other_house\"],\"palette\":[\"#7f00ff\",\"#376df8\",\"#12c7e5\",\"#5af8c7\",\"#a4f89e\",\"#ecc76e\",\"#ff6d38\",\"#ff0000\"]},\"id\":\"15958\",\"type\":\"CategoricalColorMapper\"},{\"attributes\":{\"margin\":[20,20,20,20],\"min_width\":250,\"options\":[\"Agincourt North\",\"Agincourt South-Malvern West\",\"Alderwood\",\"Annex\",\"Banbury-Don Mills\",\"Bathurst Manor\",\"Bay Street Corridor\",\"Bayview Village\",\"Bayview Woods-Steeles\",\"Bedford Park-Nortown\",\"Beechborough-Greenbrook\",\"Bendale\",\"Birchcliffe-Cliffside\",\"Black Creek\",\"Blake-Jones\",\"Briar Hill-Belgravia\",\"Bridle Path-Sunnybrook-York Mills\",\"Broadview North\",\"Brookhaven-Amesbury\",\"Cabbagetown-South St.James Town\",\"Caledonia-Fairbank\",\"Casa Loma\",\"Centennial Scarborough\",\"Church-Yonge Corridor\",\"Clairlea-Birchmount\",\"Clanton Park\",\"Cliffcrest\",\"Corso Italia-Davenport\",\"Danforth\",\"Danforth-East York\",\"Don Valley Village\",\"Dorset Park\",\"Dovercourt-Wallace Emerson-Juncti\",\"Downsview-Roding-CFB\",\"Dufferin Grove\",\"East End-Danforth\",\"Edenbridge-Humber Valley\",\"Eglinton East\",\"Elms-Old Rexdale\",\"Englemount-Lawrence\",\"Eringate-Centennial-West Deane\",\"Etobicoke West Mall\",\"Flemingdon Park\",\"Forest Hill North\",\"Forest Hill South\",\"Glenfield-Jane Heights\",\"Greenwood-Coxwell\",\"Guildwood\",\"Henry Farm\",\"High Park North\",\"High Park-Swansea\",\"Highland Creek\",\"Hillcrest Village\",\"Humber Heights-Westmount\",\"Humber Summit\",\"Humbermede\",\"Humewood-Cedarvale\",\"Ionview\",\"Islington-City Centre West\",\"Junction Area\",\"Keelesdale-Eglinton West\",\"Kennedy Park\",\"Kensington-Chinatown\",\"Kingsview Village-The Westway\",\"Kingsway South\",\"L'Amoreaux\",\"Lambton Baby Point\",\"Lansing-Westgate\",\"Lawrence Park North\",\"Lawrence Park South\",\"Leaside-Bennington\",\"Little Portugal\",\"Long Branch\",\"Malvern\",\"Maple Leaf\",\"Markland Wood\",\"Milliken\",\"Mimico\",\"Morningside\",\"Moss Park\",\"Mount Dennis\",\"Mount Olive-Silverstone-Jamestown\",\"Mount Pleasant East\",\"Mount Pleasant West\",\"New Toronto\",\"Newtonbrook East\",\"Newtonbrook West\",\"Niagara\",\"North Riverdale\",\"North St.James Town\",\"O'Connor-Parkview\",\"Oakridge\",\"Oakwood Village\",\"Old East York\",\"Palmerston-Little Italy\",\"Parkwoods-Donalda\",\"Pelmo Park-Humberlea\",\"Playter Estates-Danforth\",\"Pleasant View\",\"Princess-Rosethorn\",\"Regent Park\",\"Rexdale-Kipling\",\"Rockcliffe-Smythe\",\"Roncesvalles\",\"Rosedale-Moore Park\",\"Rouge\",\"Runnymede-Bloor West Village\",\"Rustic\",\"Scarborough Village\",\"South Parkdale\",\"South Riverdale\",\"St.Andrew-Windfields\",\"Steeles\",\"Stonegate-Queensway\",\"Tam O'Shanter-Sullivan\",\"Taylor-Massey\",\"The Beaches\",\"Thistletown-Beaumond Heights\",\"Thorncliffe Park\",\"Trinity-Bellwoods\",\"University\",\"Victoria Village\",\"Waterfront Communities-The Island\",\"West Hill\",\"West Humber-Clairville\",\"Westminster-Branson\",\"Weston\",\"Weston-Pellam Park\",\"Wexford/Maryvale\",\"Willowdale East\",\"Willowdale West\",\"Willowridge-Martingrove-Richview\",\"Woburn\",\"Woodbine Corridor\",\"Woodbine-Lumsden\",\"Wychwood\",\"Yonge-Eglinton\",\"Yonge-St.Clair\",\"York University Heights\",\"Yorkdale-Glen Park\"],\"title\":\"neighbourhood\",\"value\":\"Agincourt North\",\"width\":250},\"id\":\"15924\",\"type\":\"Select\"},{\"attributes\":{\"children\":[{\"id\":\"15924\"}],\"css_classes\":[\"panel-widget-box\"],\"margin\":[5,5,5,5],\"name\":\"WidgetBox51290\"},\"id\":\"15923\",\"type\":\"Column\"},{\"attributes\":{\"fill_color\":{\"field\":\"Variable\",\"transform\":{\"id\":\"15958\"}},\"hatch_color\":{\"field\":\"Variable\",\"transform\":{\"id\":\"15958\"}},\"top\":{\"field\":\"value\"},\"width\":{\"value\":0.8},\"x\":{\"field\":\"xoffsets\"}},\"id\":\"15962\",\"type\":\"VBar\"},{\"attributes\":{},\"id\":\"15974\",\"type\":\"AllLabels\"},{\"attributes\":{\"data\":{\"Variable\":[\"single_detached_house\",\"single_detached_house\",\"single_detached_house\",\"single_detached_house\",\"apartment_five_storeys_plus\",\"apartment_five_storeys_plus\",\"apartment_five_storeys_plus\",\"apartment_five_storeys_plus\",\"movable_dwelling\",\"movable_dwelling\",\"movable_dwelling\",\"movable_dwelling\",\"semi_detached_house\",\"semi_detached_house\",\"semi_detached_house\",\"semi_detached_house\",\"row_house\",\"row_house\",\"row_house\",\"row_house\",\"duplex\",\"duplex\",\"duplex\",\"duplex\",\"apartment_five_storeys_less\",\"apartment_five_storeys_less\",\"apartment_five_storeys_less\",\"apartment_five_storeys_less\",\"other_house\",\"other_house\",\"other_house\",\"other_house\"],\"value\":{\"__ndarray__\":\"AAAAAAAGrUAAAAAAAL6pQAAAAAAAcqpAAAAAAAAiqkAAAAAAACCXQAAAAAAAGKBAAAAAAACkoEAAAAAAAJCgQAAAAAAAAAAAAAAAAAAAAAAAAAAAAAAUQAAAAAAAABRAAAAAAAB8kEAAAAAAADiIQAAAAAAAoIlAAAAAAAAoiUAAAAAAADyUQAAAAAAARJZAAAAAAADklkAAAAAAAICWQAAAAAAAYGhAAAAAAADAgkAAAAAAABCDQAAAAAAAKIRAAAAAAAAgZ0AAAAAAAKiBQAAAAAAACIZAAAAAAAD4hkAAAAAAAAAUQAAAAAAAAAAAAAAAAAAANEAAAAAAAAAuQA==\",\"dtype\":\"float64\",\"order\":\"little\",\"shape\":[32]},\"xoffsets\":[[\"2001\",\"single_detached_house\"],[\"2006\",\"single_detached_house\"],[\"2011\",\"single_detached_house\"],[\"2016\",\"single_detached_house\"],[\"2001\",\"apartment_five_storeys_plus\"],[\"2006\",\"apartment_five_storeys_plus\"],[\"2011\",\"apartment_five_storeys_plus\"],[\"2016\",\"apartment_five_storeys_plus\"],[\"2001\",\"movable_dwelling\"],[\"2006\",\"movable_dwelling\"],[\"2011\",\"movable_dwelling\"],[\"2016\",\"movable_dwelling\"],[\"2001\",\"semi_detached_house\"],[\"2006\",\"semi_detached_house\"],[\"2011\",\"semi_detached_house\"],[\"2016\",\"semi_detached_house\"],[\"2001\",\"row_house\"],[\"2006\",\"row_house\"],[\"2011\",\"row_house\"],[\"2016\",\"row_house\"],[\"2001\",\"duplex\"],[\"2006\",\"duplex\"],[\"2011\",\"duplex\"],[\"2016\",\"duplex\"],[\"2001\",\"apartment_five_storeys_less\"],[\"2006\",\"apartment_five_storeys_less\"],[\"2011\",\"apartment_five_storeys_less\"],[\"2016\",\"apartment_five_storeys_less\"],[\"2001\",\"other_house\"],[\"2006\",\"other_house\"],[\"2011\",\"other_house\"],[\"2016\",\"other_house\"]],\"year\":[\"2001\",\"2006\",\"2011\",\"2016\",\"2001\",\"2006\",\"2011\",\"2016\",\"2001\",\"2006\",\"2011\",\"2016\",\"2001\",\"2006\",\"2011\",\"2016\",\"2001\",\"2006\",\"2011\",\"2016\",\"2001\",\"2006\",\"2011\",\"2016\",\"2001\",\"2006\",\"2011\",\"2016\",\"2001\",\"2006\",\"2011\",\"2016\"]},\"selected\":{\"id\":\"15960\"},\"selection_policy\":{\"id\":\"15989\"}},\"id\":\"15959\",\"type\":\"ColumnDataSource\"},{\"attributes\":{},\"id\":\"15942\",\"type\":\"BasicTicker\"},{\"attributes\":{\"coordinates\":null,\"group\":null,\"text\":\"neighbourhood: Agincourt North\",\"text_color\":\"black\",\"text_font_size\":\"15pt\"},\"id\":\"15930\",\"type\":\"Title\"},{\"attributes\":{\"callback\":null,\"renderers\":[{\"id\":\"15965\"}],\"tags\":[\"hv_created\"],\"tooltips\":[[\"year\",\"@{year}\"],[\"Variable\",\"@{Variable}\"],[\"value\",\"@{value}\"]]},\"id\":\"15928\",\"type\":\"HoverTool\"},{\"attributes\":{\"bottom\":{\"value\":0},\"fill_alpha\":{\"value\":1.0},\"fill_color\":{\"field\":\"Variable\",\"transform\":{\"id\":\"15958\"}},\"hatch_alpha\":{\"value\":1.0},\"hatch_color\":{\"field\":\"Variable\",\"transform\":{\"id\":\"15958\"}},\"hatch_scale\":{\"value\":12.0},\"hatch_weight\":{\"value\":1.0},\"line_alpha\":{\"value\":1.0},\"line_cap\":{\"value\":\"butt\"},\"line_color\":{\"value\":\"black\"},\"line_dash\":{\"value\":[]},\"line_dash_offset\":{\"value\":0},\"line_join\":{\"value\":\"bevel\"},\"line_width\":{\"value\":1},\"top\":{\"field\":\"value\"},\"width\":{\"value\":0.8},\"x\":{\"field\":\"xoffsets\"}},\"id\":\"15967\",\"type\":\"VBar\"},{\"attributes\":{\"fill_alpha\":{\"value\":0.1},\"fill_color\":{\"field\":\"Variable\",\"transform\":{\"id\":\"15958\"}},\"hatch_alpha\":{\"value\":0.1},\"hatch_color\":{\"field\":\"Variable\",\"transform\":{\"id\":\"15958\"}},\"line_alpha\":{\"value\":0.1},\"top\":{\"field\":\"value\"},\"width\":{\"value\":0.8},\"x\":{\"field\":\"xoffsets\"}},\"id\":\"15963\",\"type\":\"VBar\"},{\"attributes\":{\"client_comm_id\":\"5950b5e702774522a828a52793e91ba9\",\"comm_id\":\"12f754fc83b44dbe821186c22bbf9d4a\",\"plot_id\":\"15916\"},\"id\":\"16055\",\"type\":\"panel.models.comm_manager.CommManager\"},{\"attributes\":{\"children\":[{\"id\":\"15917\"},{\"id\":\"15918\"}],\"margin\":[0,0,0,0],\"name\":\"Column51305\"},\"id\":\"15916\",\"type\":\"Column\"},{\"attributes\":{\"axis_label\":\"Year\",\"axis_label_text_font_size\":\"16.25px\",\"coordinates\":null,\"formatter\":{\"id\":\"15970\"},\"group\":null,\"group_text_font_size\":\"13.75px\",\"major_label_orientation\":1.5707963267948966,\"major_label_policy\":{\"id\":\"15971\"},\"major_label_text_font_size\":\"13.75px\",\"ticker\":{\"id\":\"15939\"}},\"id\":\"15938\",\"type\":\"CategoricalAxis\"},{\"attributes\":{\"format\":\"%.0f\\\"\"},\"id\":\"15968\",\"type\":\"PrintfTickFormatter\"},{\"attributes\":{\"children\":[{\"id\":\"15922\"},{\"id\":\"15929\"}],\"margin\":[0,0,0,0],\"name\":\"Column51297\"},\"id\":\"15921\",\"type\":\"Column\"},{\"attributes\":{\"source\":{\"id\":\"15959\"}},\"id\":\"15966\",\"type\":\"CDSView\"},{\"attributes\":{\"children\":[{\"id\":\"15923\"},{\"id\":\"15925\"}],\"margin\":[0,0,0,0],\"name\":\"Row51296\"},\"id\":\"15922\",\"type\":\"Row\"},{\"attributes\":{\"axis\":{\"id\":\"15938\"},\"coordinates\":null,\"grid_line_color\":null,\"group\":null,\"ticker\":null},\"id\":\"15940\",\"type\":\"Grid\"},{\"attributes\":{\"tools\":[{\"id\":\"15928\"},{\"id\":\"15945\"},{\"id\":\"15946\"},{\"id\":\"15947\"},{\"id\":\"15948\"},{\"id\":\"15949\"}]},\"id\":\"15951\",\"type\":\"Toolbar\"}],\"root_ids\":[\"15916\",\"16055\"]},\"title\":\"Bokeh Application\",\"version\":\"2.4.2\"}};\n",
       "    var render_items = [{\"docid\":\"0236ddca-b973-4aee-8b9e-c26ec4a6daea\",\"root_ids\":[\"15916\"],\"roots\":{\"15916\":\"27dc01b8-1ce0-4999-87e4-af4f313f4f27\"}}];\n",
       "    root.Bokeh.embed.embed_items_notebook(docs_json, render_items);\n",
       "  }\n",
       "  if (root.Bokeh !== undefined && root.Bokeh.Panel !== undefined && ( root['Plotly'] !== undefined)) {\n",
       "    embed_document(root);\n",
       "  } else {\n",
       "    var attempts = 0;\n",
       "    var timer = setInterval(function(root) {\n",
       "      if (root.Bokeh !== undefined && root.Bokeh.Panel !== undefined && (root['Plotly'] !== undefined)) {\n",
       "        clearInterval(timer);\n",
       "        embed_document(root);\n",
       "      } else if (document.readyState == \"complete\") {\n",
       "        attempts++;\n",
       "        if (attempts > 200) {\n",
       "          clearInterval(timer);\n",
       "          console.log(\"Bokeh: ERROR: Unable to run BokehJS code because BokehJS library is missing\");\n",
       "        }\n",
       "      }\n",
       "    }, 25, root)\n",
       "  }\n",
       "})(window);</script>"
      ],
      "text/plain": [
       "Column\n",
       "    [0] Markdown(str)\n",
       "    [1] Column\n",
       "        [0] Column()\n",
       "        [1] Row\n",
       "            [0] Column\n",
       "                [0] Row\n",
       "                    [0] WidgetBox\n",
       "                        [0] Select(margin=(20, 20, 20, 20), name='neighbourhood', options=['Agincourt North', ...], value='Agincourt North', width=250)\n",
       "                    [1] HSpacer()\n",
       "                [1] HoloViews(DynamicMap, widget_location='top_left')"
      ]
     },
     "execution_count": 156,
     "metadata": {
      "application/vnd.holoviews_exec.v0+json": {
       "id": "15916"
      }
     },
     "output_type": "execute_result"
    }
   ],
   "source": [
    "plot_as_column_2 = pn.Column(\n",
    "    \"# Average House Dashboard\",number_dwelling_types\n",
    ")\n",
    "plot_as_column_2\n"
   ]
  },
  {
   "cell_type": "code",
   "execution_count": 148,
   "metadata": {},
   "outputs": [],
   "source": [
    "def top_most_expensive_neighbourhoods(\n",
    "    \n",
    "rich_of_the_rich_top_10 = richest_neighbourhoods_sorted_top_10.hvplot(yformatter=\"%.0f\", width=1500,height=600, rot=60, \n",
    "                                                           title='Top 10 Most Expensive Neighbourhoods In Toronto',\n",
    "                                                           ylabel='Price',\n",
    "                                                          xlabel='Price', fontscale=.75, line_width=5, color='red')\n",
    "):\n",
    "    return rich_of_the_rich_top_10\n",
    "\n",
    "    \"\"\"Top 10 most expensive neighbourhoods.\"\"\"\n",
    "    "
   ]
  },
  {
   "cell_type": "code",
   "execution_count": 149,
   "metadata": {},
   "outputs": [
    {
     "data": {},
     "metadata": {},
     "output_type": "display_data"
    },
    {
     "data": {},
     "metadata": {},
     "output_type": "display_data"
    },
    {
     "data": {
      "application/vnd.holoviews_exec.v0+json": "",
      "text/html": [
       "<div id='14768'>\n",
       "\n",
       "\n",
       "\n",
       "\n",
       "\n",
       "  <div class=\"bk-root\" id=\"46a1313f-bc04-4bba-8a4d-536afb4e4083\" data-root-id=\"14768\"></div>\n",
       "</div>\n",
       "<script type=\"application/javascript\">(function(root) {\n",
       "  function embed_document(root) {\n",
       "    var docs_json = {\"eb0b890a-5bf9-45ae-8e67-513897c0c52c\":{\"defs\":[{\"extends\":null,\"module\":null,\"name\":\"ReactiveHTML1\",\"overrides\":[],\"properties\":[]},{\"extends\":null,\"module\":null,\"name\":\"FlexBox1\",\"overrides\":[],\"properties\":[{\"default\":\"flex-start\",\"kind\":null,\"name\":\"align_content\"},{\"default\":\"flex-start\",\"kind\":null,\"name\":\"align_items\"},{\"default\":\"row\",\"kind\":null,\"name\":\"flex_direction\"},{\"default\":\"wrap\",\"kind\":null,\"name\":\"flex_wrap\"},{\"default\":\"flex-start\",\"kind\":null,\"name\":\"justify_content\"}]},{\"extends\":null,\"module\":null,\"name\":\"TemplateActions1\",\"overrides\":[],\"properties\":[{\"default\":0,\"kind\":null,\"name\":\"open_modal\"},{\"default\":0,\"kind\":null,\"name\":\"close_modal\"}]},{\"extends\":null,\"module\":null,\"name\":\"MaterialTemplateActions1\",\"overrides\":[],\"properties\":[{\"default\":0,\"kind\":null,\"name\":\"open_modal\"},{\"default\":0,\"kind\":null,\"name\":\"close_modal\"}]}],\"roots\":{\"references\":[{\"attributes\":{\"coordinates\":null,\"data_source\":{\"id\":\"14886\"},\"glyph\":{\"id\":\"14889\"},\"group\":null,\"hover_glyph\":null,\"muted_glyph\":{\"id\":\"14891\"},\"nonselection_glyph\":{\"id\":\"14890\"},\"selection_glyph\":{\"id\":\"14910\"},\"view\":{\"id\":\"14893\"}},\"id\":\"14892\",\"type\":\"GlyphRenderer\"},{\"attributes\":{\"children\":[{\"id\":\"14769\"},{\"id\":\"14770\"}],\"margin\":[0,0,0,0],\"name\":\"Column49101\"},\"id\":\"14768\",\"type\":\"Column\"},{\"attributes\":{\"coordinates\":null,\"data_source\":{\"id\":\"14842\"},\"glyph\":{\"id\":\"14845\"},\"group\":null,\"hover_glyph\":null,\"muted_glyph\":{\"id\":\"14847\"},\"nonselection_glyph\":{\"id\":\"14846\"},\"selection_glyph\":{\"id\":\"14862\"},\"view\":{\"id\":\"14849\"}},\"id\":\"14848\",\"type\":\"GlyphRenderer\"},{\"attributes\":{\"coordinates\":null,\"data_source\":{\"id\":\"15066\"},\"glyph\":{\"id\":\"15069\"},\"group\":null,\"hover_glyph\":null,\"muted_glyph\":{\"id\":\"15071\"},\"nonselection_glyph\":{\"id\":\"15070\"},\"selection_glyph\":{\"id\":\"15102\"},\"view\":{\"id\":\"15073\"}},\"id\":\"15072\",\"type\":\"GlyphRenderer\"},{\"attributes\":{},\"id\":\"14864\",\"type\":\"Selection\"},{\"attributes\":{\"line_alpha\":0.1,\"line_color\":\"red\",\"line_width\":5,\"x\":{\"field\":\"neighbourhood\"},\"y\":{\"field\":\"value\"}},\"id\":\"15035\",\"type\":\"Line\"},{\"attributes\":{\"data\":{\"Variable\":[\"shelter_costs_rented\",\"shelter_costs_rented\",\"shelter_costs_rented\",\"shelter_costs_rented\",\"shelter_costs_rented\",\"shelter_costs_rented\",\"shelter_costs_rented\",\"shelter_costs_rented\",\"shelter_costs_rented\",\"shelter_costs_rented\"],\"neighbourhood\":[\"Bridle Path-Sunnybrook-York Mills\",\"Forest Hill South\",\"Lawrence Park South\",\"Rosedale-Moore Park\",\"St.Andrew-Windfields\",\"Casa Loma\",\"Bedford Park-Nortown\",\"Forest Hill North\",\"Kingsway South\",\"Yonge-St.Clair\"],\"value\":{\"__ndarray__\":\"AAAAAIAjokAAAAAAAIeUQAAAAAAAc5VAAAAAAAAFmEAAAAAAAKKVQAAAAAAAL5hAAAAAAACck0AAAAAAAHaTQAAAAAAAWJlAAAAAAABklUA=\",\"dtype\":\"float64\",\"order\":\"little\",\"shape\":[10]}},\"selected\":{\"id\":\"15104\"},\"selection_policy\":{\"id\":\"15137\"}},\"id\":\"15103\",\"type\":\"ColumnDataSource\"},{\"attributes\":{\"data\":{\"Variable\":[\"semi_detached_house\",\"semi_detached_house\",\"semi_detached_house\",\"semi_detached_house\",\"semi_detached_house\",\"semi_detached_house\",\"semi_detached_house\",\"semi_detached_house\",\"semi_detached_house\",\"semi_detached_house\"],\"neighbourhood\":[\"Bridle Path-Sunnybrook-York Mills\",\"Forest Hill South\",\"Lawrence Park South\",\"Rosedale-Moore Park\",\"St.Andrew-Windfields\",\"Casa Loma\",\"Bedford Park-Nortown\",\"Forest Hill North\",\"Kingsway South\",\"Yonge-St.Clair\"],\"value\":{\"__ndarray__\":\"AAAAAAAgQkAAAAAAAKBOQAAAAAAAkF9AAAAAAABkfkAAAAAAACBnQAAAAAAADHJAAAAAAADgRUAAAAAAAAApQAAAAAAAkFBAAAAAAACQekA=\",\"dtype\":\"float64\",\"order\":\"little\",\"shape\":[10]}},\"selected\":{\"id\":\"14887\"},\"selection_policy\":{\"id\":\"14906\"}},\"id\":\"14886\",\"type\":\"ColumnDataSource\"},{\"attributes\":{\"data\":{\"Variable\":[\"other_house\",\"other_house\",\"other_house\",\"other_house\",\"other_house\",\"other_house\",\"other_house\",\"other_house\",\"other_house\",\"other_house\"],\"neighbourhood\":[\"Bridle Path-Sunnybrook-York Mills\",\"Forest Hill South\",\"Lawrence Park South\",\"Rosedale-Moore Park\",\"St.Andrew-Windfields\",\"Casa Loma\",\"Bedford Park-Nortown\",\"Forest Hill North\",\"Kingsway South\",\"Yonge-St.Clair\"],\"value\":{\"__ndarray__\":\"AAAAAAAAAAAAAAAAAAAOQAAAAAAAQDBAAAAAAAAABEAAAAAAAAAUQAAAAAAAAARAAAAAAAAwVkAAAAAAAAD0PwAAAAAAAARAAAAAAAAAGUA=\",\"dtype\":\"float64\",\"order\":\"little\",\"shape\":[10]}},\"selected\":{\"id\":\"14999\"},\"selection_policy\":{\"id\":\"15026\"}},\"id\":\"14998\",\"type\":\"ColumnDataSource\"},{\"attributes\":{\"line_alpha\":0.2,\"line_color\":\"red\",\"line_width\":5,\"x\":{\"field\":\"neighbourhood\"},\"y\":{\"field\":\"value\"}},\"id\":\"15036\",\"type\":\"Line\"},{\"attributes\":{\"label\":{\"value\":\"semi_detached_house\"},\"renderers\":[{\"id\":\"14892\"}]},\"id\":\"14909\",\"type\":\"LegendItem\"},{\"attributes\":{\"source\":{\"id\":\"14886\"}},\"id\":\"14893\",\"type\":\"CDSView\"},{\"attributes\":{},\"id\":\"14939\",\"type\":\"Selection\"},{\"attributes\":{\"line_color\":\"red\",\"line_width\":5,\"x\":{\"field\":\"neighbourhood\"},\"y\":{\"field\":\"value\"}},\"id\":\"14970\",\"type\":\"Line\"},{\"attributes\":{},\"id\":\"14912\",\"type\":\"Selection\"},{\"attributes\":{\"line_color\":\"red\",\"line_width\":5,\"x\":{\"field\":\"neighbourhood\"},\"y\":{\"field\":\"value\"}},\"id\":\"14910\",\"type\":\"Line\"},{\"attributes\":{\"source\":{\"id\":\"15031\"}},\"id\":\"15038\",\"type\":\"CDSView\"},{\"attributes\":{\"data\":{\"Variable\":[\"single_detached_house\",\"single_detached_house\",\"single_detached_house\",\"single_detached_house\",\"single_detached_house\",\"single_detached_house\",\"single_detached_house\",\"single_detached_house\",\"single_detached_house\",\"single_detached_house\"],\"neighbourhood\":[\"Bridle Path-Sunnybrook-York Mills\",\"Forest Hill South\",\"Lawrence Park South\",\"Rosedale-Moore Park\",\"St.Andrew-Windfields\",\"Casa Loma\",\"Bedford Park-Nortown\",\"Forest Hill North\",\"Kingsway South\",\"Yonge-St.Clair\"],\"value\":{\"__ndarray__\":\"AAAAAACooUAAAAAAADqbQAAAAAAAIatAAAAAAICFo0AAAAAAADKpQAAAAAAAooxAAAAAAAABs0AAAAAAAEOXQAAAAACALKJAAAAAAACogUA=\",\"dtype\":\"float64\",\"order\":\"little\",\"shape\":[10]}},\"selected\":{\"id\":\"14823\"},\"selection_policy\":{\"id\":\"14836\"}},\"id\":\"14822\",\"type\":\"ColumnDataSource\"},{\"attributes\":{\"line_color\":\"red\",\"line_width\":5,\"x\":{\"field\":\"neighbourhood\"},\"y\":{\"field\":\"value\"}},\"id\":\"15030\",\"type\":\"Line\"},{\"attributes\":{\"data\":{\"Variable\":[\"average_house_value\",\"average_house_value\",\"average_house_value\",\"average_house_value\",\"average_house_value\",\"average_house_value\",\"average_house_value\",\"average_house_value\",\"average_house_value\",\"average_house_value\"],\"neighbourhood\":[\"Bridle Path-Sunnybrook-York Mills\",\"Forest Hill South\",\"Lawrence Park South\",\"Rosedale-Moore Park\",\"St.Andrew-Windfields\",\"Casa Loma\",\"Bedford Park-Nortown\",\"Forest Hill North\",\"Kingsway South\",\"Yonge-St.Clair\"],\"value\":{\"__ndarray__\":\"AAAAwNVKN0EAAACA2D8yQQAAAMCLsTBBAAAAAAiwMEEAAAAAhn0uQQAAAICQ8C1BAAAAgN5kLEEAAAAAwf0pQQAAAIDEuylBAAAAgEjRKEE=\",\"dtype\":\"float64\",\"order\":\"little\",\"shape\":[10]}},\"selected\":{\"id\":\"15032\"},\"selection_policy\":{\"id\":\"15061\"}},\"id\":\"15031\",\"type\":\"ColumnDataSource\"},{\"attributes\":{\"label\":{\"value\":\"apartment_five_storeys_plus\"},\"renderers\":[{\"id\":\"14848\"}]},\"id\":\"14861\",\"type\":\"LegendItem\"},{\"attributes\":{},\"id\":\"15067\",\"type\":\"Selection\"},{\"attributes\":{\"data\":{\"Variable\":[\"duplex\",\"duplex\",\"duplex\",\"duplex\",\"duplex\",\"duplex\",\"duplex\",\"duplex\",\"duplex\",\"duplex\"],\"neighbourhood\":[\"Bridle Path-Sunnybrook-York Mills\",\"Forest Hill South\",\"Lawrence Park South\",\"Rosedale-Moore Park\",\"St.Andrew-Windfields\",\"Casa Loma\",\"Bedford Park-Nortown\",\"Forest Hill North\",\"Kingsway South\",\"Yonge-St.Clair\"],\"value\":{\"__ndarray__\":\"AAAAAAAAOUAAAAAAAMBSQAAAAAAAIGxAAAAAAAB4dEAAAAAAAGBYQAAAAAAAUGRAAAAAAAD4cUAAAAAAAKBUQAAAAAAAADRAAAAAAACQZUA=\",\"dtype\":\"float64\",\"order\":\"little\",\"shape\":[10]}},\"selected\":{\"id\":\"14939\"},\"selection_policy\":{\"id\":\"14962\"}},\"id\":\"14938\",\"type\":\"ColumnDataSource\"},{\"attributes\":{\"line_alpha\":0.1,\"line_color\":\"red\",\"line_width\":5,\"x\":{\"field\":\"neighbourhood\"},\"y\":{\"field\":\"value\"}},\"id\":\"14867\",\"type\":\"Line\"},{\"attributes\":{\"line_color\":\"red\",\"line_width\":5,\"x\":{\"field\":\"neighbourhood\"},\"y\":{\"field\":\"value\"}},\"id\":\"15069\",\"type\":\"Line\"},{\"attributes\":{\"line_alpha\":0.2,\"line_color\":\"red\",\"line_width\":5,\"x\":{\"field\":\"neighbourhood\"},\"y\":{\"field\":\"value\"}},\"id\":\"15071\",\"type\":\"Line\"},{\"attributes\":{\"children\":[{\"id\":\"14784\"}],\"margin\":[0,0,0,0],\"name\":\"Row49108\"},\"id\":\"14770\",\"type\":\"Row\"},{\"attributes\":{\"client_comm_id\":\"90afe996711a4445bf7ac4f92f6f50a8\",\"comm_id\":\"dddfd540fc48465ba8d2d3d6b20e4f0c\",\"plot_id\":\"14768\"},\"id\":\"15577\",\"type\":\"panel.models.comm_manager.CommManager\"},{\"attributes\":{},\"id\":\"14881\",\"type\":\"UnionRenderers\"},{\"attributes\":{},\"id\":\"15098\",\"type\":\"UnionRenderers\"},{\"attributes\":{\"line_color\":\"red\",\"line_width\":5,\"x\":{\"field\":\"neighbourhood\"},\"y\":{\"field\":\"value\"}},\"id\":\"14862\",\"type\":\"Line\"},{\"attributes\":{\"line_color\":\"red\",\"line_width\":5,\"x\":{\"field\":\"neighbourhood\"},\"y\":{\"field\":\"value\"}},\"id\":\"15034\",\"type\":\"Line\"},{\"attributes\":{\"line_alpha\":0.1,\"line_color\":\"red\",\"line_width\":5,\"x\":{\"field\":\"neighbourhood\"},\"y\":{\"field\":\"value\"}},\"id\":\"14890\",\"type\":\"Line\"},{\"attributes\":{},\"id\":\"14858\",\"type\":\"UnionRenderers\"},{\"attributes\":{\"line_alpha\":0.1,\"line_color\":\"red\",\"line_width\":5,\"x\":{\"field\":\"neighbourhood\"},\"y\":{\"field\":\"value\"}},\"id\":\"15070\",\"type\":\"Line\"},{\"attributes\":{\"data\":{\"Variable\":[\"apartment_five_storeys_less\",\"apartment_five_storeys_less\",\"apartment_five_storeys_less\",\"apartment_five_storeys_less\",\"apartment_five_storeys_less\",\"apartment_five_storeys_less\",\"apartment_five_storeys_less\",\"apartment_five_storeys_less\",\"apartment_five_storeys_less\",\"apartment_five_storeys_less\"],\"neighbourhood\":[\"Bridle Path-Sunnybrook-York Mills\",\"Forest Hill South\",\"Lawrence Park South\",\"Rosedale-Moore Park\",\"St.Andrew-Windfields\",\"Casa Loma\",\"Bedford Park-Nortown\",\"Forest Hill North\",\"Kingsway South\",\"Yonge-St.Clair\"],\"value\":{\"__ndarray__\":\"AAAAAAAAREAAAAAAAA6QQAAAAAAAMo5AAAAAAABLmUAAAAAAAFKCQAAAAAAAopJAAAAAAADsk0AAAAAAACh5QAAAAAAABHVAAAAAAABzlEA=\",\"dtype\":\"float64\",\"order\":\"little\",\"shape\":[10]}},\"selected\":{\"id\":\"14968\"},\"selection_policy\":{\"id\":\"14993\"}},\"id\":\"14967\",\"type\":\"ColumnDataSource\"},{\"attributes\":{\"source\":{\"id\":\"14863\"}},\"id\":\"14870\",\"type\":\"CDSView\"},{\"attributes\":{\"line_alpha\":0.1,\"line_color\":\"red\",\"line_width\":5,\"x\":{\"field\":\"neighbourhood\"},\"y\":{\"field\":\"value\"}},\"id\":\"14915\",\"type\":\"Line\"},{\"attributes\":{\"line_alpha\":0.2,\"line_color\":\"red\",\"line_width\":5,\"x\":{\"field\":\"neighbourhood\"},\"y\":{\"field\":\"value\"}},\"id\":\"14847\",\"type\":\"Line\"},{\"attributes\":{\"line_alpha\":0.2,\"line_color\":\"red\",\"line_width\":5,\"x\":{\"field\":\"neighbourhood\"},\"y\":{\"field\":\"value\"}},\"id\":\"14891\",\"type\":\"Line\"},{\"attributes\":{\"label\":{\"value\":\"duplex\"},\"renderers\":[{\"id\":\"14944\"}]},\"id\":\"14965\",\"type\":\"LegendItem\"},{\"attributes\":{\"data\":{\"Variable\":[\"row_house\",\"row_house\",\"row_house\",\"row_house\",\"row_house\",\"row_house\",\"row_house\",\"row_house\",\"row_house\",\"row_house\"],\"neighbourhood\":[\"Bridle Path-Sunnybrook-York Mills\",\"Forest Hill South\",\"Lawrence Park South\",\"Rosedale-Moore Park\",\"St.Andrew-Windfields\",\"Casa Loma\",\"Bedford Park-Nortown\",\"Forest Hill North\",\"Kingsway South\",\"Yonge-St.Clair\"],\"value\":{\"__ndarray__\":\"AAAAAACAVkAAAAAAAIBGQAAAAAAAYENAAAAAAACgbkAAAAAAAESBQAAAAAAAKGlAAAAAAADATEAAAAAAAEAwQAAAAAAAYEhAAAAAAACQakA=\",\"dtype\":\"float64\",\"order\":\"little\",\"shape\":[10]}},\"selected\":{\"id\":\"14912\"},\"selection_policy\":{\"id\":\"14933\"}},\"id\":\"14911\",\"type\":\"ColumnDataSource\"},{\"attributes\":{\"coordinates\":null,\"data_source\":{\"id\":\"15031\"},\"glyph\":{\"id\":\"15034\"},\"group\":null,\"hover_glyph\":null,\"muted_glyph\":{\"id\":\"15036\"},\"nonselection_glyph\":{\"id\":\"15035\"},\"selection_glyph\":{\"id\":\"15065\"},\"view\":{\"id\":\"15038\"}},\"id\":\"15037\",\"type\":\"GlyphRenderer\"},{\"attributes\":{\"line_color\":\"red\",\"line_width\":5,\"x\":{\"field\":\"neighbourhood\"},\"y\":{\"field\":\"value\"}},\"id\":\"14889\",\"type\":\"Line\"},{\"attributes\":{},\"id\":\"14887\",\"type\":\"Selection\"},{\"attributes\":{},\"id\":\"15104\",\"type\":\"Selection\"},{\"attributes\":{},\"id\":\"14906\",\"type\":\"UnionRenderers\"},{\"attributes\":{\"margin\":[0,0,0,0],\"name\":\"Column49109\"},\"id\":\"14769\",\"type\":\"Column\"},{\"attributes\":{\"source\":{\"id\":\"15066\"}},\"id\":\"15073\",\"type\":\"CDSView\"},{\"attributes\":{\"coordinates\":null,\"data_source\":{\"id\":\"14863\"},\"glyph\":{\"id\":\"14866\"},\"group\":null,\"hover_glyph\":null,\"muted_glyph\":{\"id\":\"14868\"},\"nonselection_glyph\":{\"id\":\"14867\"},\"selection_glyph\":{\"id\":\"14885\"},\"view\":{\"id\":\"14870\"}},\"id\":\"14869\",\"type\":\"GlyphRenderer\"},{\"attributes\":{\"data\":{\"Variable\":[\"movable_dwelling\",\"movable_dwelling\",\"movable_dwelling\",\"movable_dwelling\",\"movable_dwelling\",\"movable_dwelling\",\"movable_dwelling\",\"movable_dwelling\",\"movable_dwelling\",\"movable_dwelling\"],\"neighbourhood\":[\"Bridle Path-Sunnybrook-York Mills\",\"Forest Hill South\",\"Lawrence Park South\",\"Rosedale-Moore Park\",\"St.Andrew-Windfields\",\"Casa Loma\",\"Bedford Park-Nortown\",\"Forest Hill North\",\"Kingsway South\",\"Yonge-St.Clair\"],\"value\":{\"__ndarray__\":\"AAAAAAAAAAAAAAAAAAD0PwAAAAAAAAAAAAAAAAAAAAAAAAAAAAAAAAAAAAAAAAAAAAAAAAAAAAAAAAAAAAAAAAAAAAAAAAAAAAAAAAAAAAA=\",\"dtype\":\"float64\",\"order\":\"little\",\"shape\":[10]}},\"selected\":{\"id\":\"14864\"},\"selection_policy\":{\"id\":\"14881\"}},\"id\":\"14863\",\"type\":\"ColumnDataSource\"},{\"attributes\":{},\"id\":\"14816\",\"type\":\"AllLabels\"},{\"attributes\":{\"line_alpha\":0.2,\"line_color\":\"red\",\"line_width\":5,\"x\":{\"field\":\"neighbourhood\"},\"y\":{\"field\":\"value\"}},\"id\":\"14868\",\"type\":\"Line\"},{\"attributes\":{\"source\":{\"id\":\"14842\"}},\"id\":\"14849\",\"type\":\"CDSView\"},{\"attributes\":{\"line_color\":\"red\",\"line_width\":5,\"x\":{\"field\":\"neighbourhood\"},\"y\":{\"field\":\"value\"}},\"id\":\"14885\",\"type\":\"Line\"},{\"attributes\":{\"line_color\":\"red\",\"line_width\":5,\"x\":{\"field\":\"neighbourhood\"},\"y\":{\"field\":\"value\"}},\"id\":\"15001\",\"type\":\"Line\"},{\"attributes\":{\"format\":\"%.0f\"},\"id\":\"14813\",\"type\":\"PrintfTickFormatter\"},{\"attributes\":{\"axis\":{\"id\":\"14793\"},\"coordinates\":null,\"grid_line_color\":null,\"group\":null,\"ticker\":null},\"id\":\"14795\",\"type\":\"Grid\"},{\"attributes\":{\"line_color\":\"red\",\"line_width\":5,\"x\":{\"field\":\"neighbourhood\"},\"y\":{\"field\":\"value\"}},\"id\":\"14966\",\"type\":\"Line\"},{\"attributes\":{\"line_alpha\":0.2,\"line_color\":\"red\",\"line_width\":5,\"x\":{\"field\":\"neighbourhood\"},\"y\":{\"field\":\"value\"}},\"id\":\"14943\",\"type\":\"Line\"},{\"attributes\":{\"line_alpha\":0.1,\"line_color\":\"red\",\"line_width\":5,\"x\":{\"field\":\"neighbourhood\"},\"y\":{\"field\":\"value\"}},\"id\":\"14971\",\"type\":\"Line\"},{\"attributes\":{\"coordinates\":null,\"data_source\":{\"id\":\"14998\"},\"glyph\":{\"id\":\"15001\"},\"group\":null,\"hover_glyph\":null,\"muted_glyph\":{\"id\":\"15003\"},\"nonselection_glyph\":{\"id\":\"15002\"},\"selection_glyph\":{\"id\":\"15030\"},\"view\":{\"id\":\"15005\"}},\"id\":\"15004\",\"type\":\"GlyphRenderer\"},{\"attributes\":{\"line_color\":\"red\",\"line_width\":5,\"x\":{\"field\":\"neighbourhood\"},\"y\":{\"field\":\"value\"}},\"id\":\"15102\",\"type\":\"Line\"},{\"attributes\":{\"label\":{\"value\":\"row_house\"},\"renderers\":[{\"id\":\"14917\"}]},\"id\":\"14936\",\"type\":\"LegendItem\"},{\"attributes\":{\"line_alpha\":0.2,\"line_color\":\"red\",\"line_width\":5,\"x\":{\"field\":\"neighbourhood\"},\"y\":{\"field\":\"value\"}},\"id\":\"15003\",\"type\":\"Line\"},{\"attributes\":{\"factors\":[\"Bridle Path-Sunnybrook-York Mills\",\"Forest Hill South\",\"Lawrence Park South\",\"Rosedale-Moore Park\",\"St.Andrew-Windfields\",\"Casa Loma\",\"Bedford Park-Nortown\",\"Forest Hill North\",\"Kingsway South\",\"Yonge-St.Clair\"],\"tags\":[[[\"neighbourhood\",\"neighbourhood\",null]]]},\"id\":\"14771\",\"type\":\"FactorRange\"},{\"attributes\":{\"source\":{\"id\":\"14911\"}},\"id\":\"14918\",\"type\":\"CDSView\"},{\"attributes\":{},\"id\":\"14797\",\"type\":\"BasicTicker\"},{\"attributes\":{\"label\":{\"value\":\"other_house\"},\"renderers\":[{\"id\":\"15004\"}]},\"id\":\"15029\",\"type\":\"LegendItem\"},{\"attributes\":{\"line_color\":\"red\",\"line_width\":5,\"x\":{\"field\":\"neighbourhood\"},\"y\":{\"field\":\"value\"}},\"id\":\"14845\",\"type\":\"Line\"},{\"attributes\":{\"callback\":null,\"renderers\":[{\"id\":\"14828\"},{\"id\":\"14848\"},{\"id\":\"14869\"},{\"id\":\"14892\"},{\"id\":\"14917\"},{\"id\":\"14944\"},{\"id\":\"14973\"},{\"id\":\"15004\"},{\"id\":\"15037\"},{\"id\":\"15072\"},{\"id\":\"15109\"}],\"tags\":[\"hv_created\"],\"tooltips\":[[\"Variable\",\"@{Variable}\"],[\"neighbourhood\",\"@{neighbourhood}\"],[\"value\",\"@{value}\"]]},\"id\":\"14773\",\"type\":\"HoverTool\"},{\"attributes\":{\"coordinates\":null,\"group\":null,\"text\":\"Top 10 Most Expensive Neighbourhoods In Toronto\",\"text_color\":\"black\",\"text_font_size\":\"9pt\"},\"id\":\"14785\",\"type\":\"Title\"},{\"attributes\":{},\"id\":\"14800\",\"type\":\"SaveTool\"},{\"attributes\":{\"coordinates\":null,\"data_source\":{\"id\":\"14911\"},\"glyph\":{\"id\":\"14914\"},\"group\":null,\"hover_glyph\":null,\"muted_glyph\":{\"id\":\"14916\"},\"nonselection_glyph\":{\"id\":\"14915\"},\"selection_glyph\":{\"id\":\"14937\"},\"view\":{\"id\":\"14918\"}},\"id\":\"14917\",\"type\":\"GlyphRenderer\"},{\"attributes\":{\"coordinates\":null,\"data_source\":{\"id\":\"14967\"},\"glyph\":{\"id\":\"14970\"},\"group\":null,\"hover_glyph\":null,\"muted_glyph\":{\"id\":\"14972\"},\"nonselection_glyph\":{\"id\":\"14971\"},\"selection_glyph\":{\"id\":\"14997\"},\"view\":{\"id\":\"14974\"}},\"id\":\"14973\",\"type\":\"GlyphRenderer\"},{\"attributes\":{},\"id\":\"14791\",\"type\":\"LinearScale\"},{\"attributes\":{\"coordinates\":null,\"data_source\":{\"id\":\"14822\"},\"glyph\":{\"id\":\"14825\"},\"group\":null,\"hover_glyph\":null,\"muted_glyph\":{\"id\":\"14827\"},\"nonselection_glyph\":{\"id\":\"14826\"},\"selection_glyph\":{\"id\":\"14841\"},\"view\":{\"id\":\"14829\"}},\"id\":\"14828\",\"type\":\"GlyphRenderer\"},{\"attributes\":{\"source\":{\"id\":\"14998\"}},\"id\":\"15005\",\"type\":\"CDSView\"},{\"attributes\":{\"source\":{\"id\":\"14967\"}},\"id\":\"14974\",\"type\":\"CDSView\"},{\"attributes\":{\"source\":{\"id\":\"15103\"}},\"id\":\"15110\",\"type\":\"CDSView\"},{\"attributes\":{},\"id\":\"14999\",\"type\":\"Selection\"},{\"attributes\":{\"line_alpha\":0.2,\"line_color\":\"red\",\"line_width\":5,\"x\":{\"field\":\"neighbourhood\"},\"y\":{\"field\":\"value\"}},\"id\":\"14972\",\"type\":\"Line\"},{\"attributes\":{\"label\":{\"value\":\"single_detached_house\"},\"renderers\":[{\"id\":\"14828\"}]},\"id\":\"14840\",\"type\":\"LegendItem\"},{\"attributes\":{},\"id\":\"14823\",\"type\":\"Selection\"},{\"attributes\":{},\"id\":\"14789\",\"type\":\"CategoricalScale\"},{\"attributes\":{\"source\":{\"id\":\"14938\"}},\"id\":\"14945\",\"type\":\"CDSView\"},{\"attributes\":{\"line_color\":\"red\",\"line_width\":5,\"x\":{\"field\":\"neighbourhood\"},\"y\":{\"field\":\"value\"}},\"id\":\"14937\",\"type\":\"Line\"},{\"attributes\":{},\"id\":\"14815\",\"type\":\"CategoricalTickFormatter\"},{\"attributes\":{\"end\":1679134.325,\"reset_end\":1679134.325,\"reset_start\":-152648.575,\"start\":-152648.575,\"tags\":[[[\"value\",\"value\",null]]]},\"id\":\"14772\",\"type\":\"Range1d\"},{\"attributes\":{\"click_policy\":\"mute\",\"coordinates\":null,\"group\":null,\"items\":[{\"id\":\"14840\"},{\"id\":\"14861\"},{\"id\":\"14884\"},{\"id\":\"14909\"},{\"id\":\"14936\"},{\"id\":\"14965\"},{\"id\":\"14996\"},{\"id\":\"15029\"},{\"id\":\"15064\"},{\"id\":\"15101\"},{\"id\":\"15140\"}],\"label_text_font_size\":\"9.75px\",\"location\":[0,0],\"title\":\"Variable\",\"title_text_font_size\":\"9.75px\"},\"id\":\"14839\",\"type\":\"Legend\"},{\"attributes\":{\"label\":{\"value\":\"apartment_five_storeys_less\"},\"renderers\":[{\"id\":\"14973\"}]},\"id\":\"14996\",\"type\":\"LegendItem\"},{\"attributes\":{},\"id\":\"14962\",\"type\":\"UnionRenderers\"},{\"attributes\":{\"line_alpha\":0.1,\"line_color\":\"red\",\"line_width\":5,\"x\":{\"field\":\"neighbourhood\"},\"y\":{\"field\":\"value\"}},\"id\":\"15107\",\"type\":\"Line\"},{\"attributes\":{\"label\":{\"value\":\"shelter_costs_rented\"},\"renderers\":[{\"id\":\"15109\"}]},\"id\":\"15140\",\"type\":\"LegendItem\"},{\"attributes\":{},\"id\":\"14968\",\"type\":\"Selection\"},{\"attributes\":{\"line_color\":\"red\",\"line_width\":5,\"x\":{\"field\":\"neighbourhood\"},\"y\":{\"field\":\"value\"}},\"id\":\"15065\",\"type\":\"Line\"},{\"attributes\":{\"line_color\":\"red\",\"line_width\":5,\"x\":{\"field\":\"neighbourhood\"},\"y\":{\"field\":\"value\"}},\"id\":\"15141\",\"type\":\"Line\"},{\"attributes\":{\"label\":{\"value\":\"average_house_value\"},\"renderers\":[{\"id\":\"15037\"}]},\"id\":\"15064\",\"type\":\"LegendItem\"},{\"attributes\":{},\"id\":\"15061\",\"type\":\"UnionRenderers\"},{\"attributes\":{\"line_color\":\"red\",\"line_width\":5,\"x\":{\"field\":\"neighbourhood\"},\"y\":{\"field\":\"value\"}},\"id\":\"15106\",\"type\":\"Line\"},{\"attributes\":{\"tools\":[{\"id\":\"14773\"},{\"id\":\"14800\"},{\"id\":\"14801\"},{\"id\":\"14802\"},{\"id\":\"14803\"},{\"id\":\"14804\"}]},\"id\":\"14806\",\"type\":\"Toolbar\"},{\"attributes\":{},\"id\":\"14836\",\"type\":\"UnionRenderers\"},{\"attributes\":{\"axis_label\":\"Price\",\"axis_label_text_font_size\":\"9.75px\",\"coordinates\":null,\"formatter\":{\"id\":\"14813\"},\"group\":null,\"major_label_policy\":{\"id\":\"14819\"},\"major_label_text_font_size\":\"8.25px\",\"ticker\":{\"id\":\"14797\"}},\"id\":\"14796\",\"type\":\"LinearAxis\"},{\"attributes\":{\"line_alpha\":0.1,\"line_color\":\"red\",\"line_width\":5,\"x\":{\"field\":\"neighbourhood\"},\"y\":{\"field\":\"value\"}},\"id\":\"14826\",\"type\":\"Line\"},{\"attributes\":{},\"id\":\"14802\",\"type\":\"WheelZoomTool\"},{\"attributes\":{\"line_color\":\"red\",\"line_width\":5,\"x\":{\"field\":\"neighbourhood\"},\"y\":{\"field\":\"value\"}},\"id\":\"14997\",\"type\":\"Line\"},{\"attributes\":{},\"id\":\"14801\",\"type\":\"PanTool\"},{\"attributes\":{\"data\":{\"Variable\":[\"shelter_costs_owned\",\"shelter_costs_owned\",\"shelter_costs_owned\",\"shelter_costs_owned\",\"shelter_costs_owned\",\"shelter_costs_owned\",\"shelter_costs_owned\",\"shelter_costs_owned\",\"shelter_costs_owned\",\"shelter_costs_owned\"],\"neighbourhood\":[\"Bridle Path-Sunnybrook-York Mills\",\"Forest Hill South\",\"Lawrence Park South\",\"Rosedale-Moore Park\",\"St.Andrew-Windfields\",\"Casa Loma\",\"Bedford Park-Nortown\",\"Forest Hill North\",\"Kingsway South\",\"Yonge-St.Clair\"],\"value\":{\"__ndarray__\":\"AAAAAIBxokAAAAAAANSbQAAAAAAAiJ5AAAAAAADXnUAAAAAAAGGdQAAAAAAAR51AAAAAAADrm0AAAAAAAOuaQAAAAAAAI5tAAAAAAABDmkA=\",\"dtype\":\"float64\",\"order\":\"little\",\"shape\":[10]}},\"selected\":{\"id\":\"15067\"},\"selection_policy\":{\"id\":\"15098\"}},\"id\":\"15066\",\"type\":\"ColumnDataSource\"},{\"attributes\":{\"line_alpha\":0.2,\"line_color\":\"red\",\"line_width\":5,\"x\":{\"field\":\"neighbourhood\"},\"y\":{\"field\":\"value\"}},\"id\":\"15108\",\"type\":\"Line\"},{\"attributes\":{},\"id\":\"14804\",\"type\":\"ResetTool\"},{\"attributes\":{},\"id\":\"15026\",\"type\":\"UnionRenderers\"},{\"attributes\":{\"line_alpha\":0.1,\"line_color\":\"red\",\"line_width\":5,\"x\":{\"field\":\"neighbourhood\"},\"y\":{\"field\":\"value\"}},\"id\":\"14942\",\"type\":\"Line\"},{\"attributes\":{\"overlay\":{\"id\":\"14805\"}},\"id\":\"14803\",\"type\":\"BoxZoomTool\"},{\"attributes\":{\"line_color\":\"red\",\"line_width\":5,\"x\":{\"field\":\"neighbourhood\"},\"y\":{\"field\":\"value\"}},\"id\":\"14825\",\"type\":\"Line\"},{\"attributes\":{},\"id\":\"15032\",\"type\":\"Selection\"},{\"attributes\":{\"bottom_units\":\"screen\",\"coordinates\":null,\"fill_alpha\":0.5,\"fill_color\":\"lightgrey\",\"group\":null,\"left_units\":\"screen\",\"level\":\"overlay\",\"line_alpha\":1.0,\"line_color\":\"black\",\"line_dash\":[4,4],\"line_width\":2,\"right_units\":\"screen\",\"syncable\":false,\"top_units\":\"screen\"},\"id\":\"14805\",\"type\":\"BoxAnnotation\"},{\"attributes\":{\"source\":{\"id\":\"14822\"}},\"id\":\"14829\",\"type\":\"CDSView\"},{\"attributes\":{\"line_alpha\":0.2,\"line_color\":\"red\",\"line_width\":5,\"x\":{\"field\":\"neighbourhood\"},\"y\":{\"field\":\"value\"}},\"id\":\"14916\",\"type\":\"Line\"},{\"attributes\":{\"label\":{\"value\":\"shelter_costs_owned\"},\"renderers\":[{\"id\":\"15072\"}]},\"id\":\"15101\",\"type\":\"LegendItem\"},{\"attributes\":{\"coordinates\":null,\"data_source\":{\"id\":\"14938\"},\"glyph\":{\"id\":\"14941\"},\"group\":null,\"hover_glyph\":null,\"muted_glyph\":{\"id\":\"14943\"},\"nonselection_glyph\":{\"id\":\"14942\"},\"selection_glyph\":{\"id\":\"14966\"},\"view\":{\"id\":\"14945\"}},\"id\":\"14944\",\"type\":\"GlyphRenderer\"},{\"attributes\":{},\"id\":\"14993\",\"type\":\"UnionRenderers\"},{\"attributes\":{\"below\":[{\"id\":\"14793\"}],\"center\":[{\"id\":\"14795\"},{\"id\":\"14799\"}],\"left\":[{\"id\":\"14796\"}],\"margin\":[5,5,5,5],\"min_border_bottom\":10,\"min_border_left\":10,\"min_border_right\":10,\"min_border_top\":10,\"renderers\":[{\"id\":\"14828\"},{\"id\":\"14848\"},{\"id\":\"14869\"},{\"id\":\"14892\"},{\"id\":\"14917\"},{\"id\":\"14944\"},{\"id\":\"14973\"},{\"id\":\"15004\"},{\"id\":\"15037\"},{\"id\":\"15072\"},{\"id\":\"15109\"}],\"right\":[{\"id\":\"14839\"}],\"sizing_mode\":\"fixed\",\"title\":{\"id\":\"14785\"},\"toolbar\":{\"id\":\"14806\"},\"width\":1500,\"x_range\":{\"id\":\"14771\"},\"x_scale\":{\"id\":\"14789\"},\"y_range\":{\"id\":\"14772\"},\"y_scale\":{\"id\":\"14791\"}},\"id\":\"14784\",\"subtype\":\"Figure\",\"type\":\"Plot\"},{\"attributes\":{\"data\":{\"Variable\":[\"apartment_five_storeys_plus\",\"apartment_five_storeys_plus\",\"apartment_five_storeys_plus\",\"apartment_five_storeys_plus\",\"apartment_five_storeys_plus\",\"apartment_five_storeys_plus\",\"apartment_five_storeys_plus\",\"apartment_five_storeys_plus\",\"apartment_five_storeys_plus\",\"apartment_five_storeys_plus\"],\"neighbourhood\":[\"Bridle Path-Sunnybrook-York Mills\",\"Forest Hill South\",\"Lawrence Park South\",\"Rosedale-Moore Park\",\"St.Andrew-Windfields\",\"Casa Loma\",\"Bedford Park-Nortown\",\"Forest Hill North\",\"Kingsway South\",\"Yonge-St.Clair\"],\"value\":{\"__ndarray__\":\"AAAAAAC0dEAAAAAAAL2fQAAAAAAALohAAAAAAEAhskAAAAAAABiaQAAAAAAADKJAAAAAAAD1nkAAAAAAAIGqQAAAAAAAAoJAAAAAAIDZrkA=\",\"dtype\":\"float64\",\"order\":\"little\",\"shape\":[10]}},\"selected\":{\"id\":\"14843\"},\"selection_policy\":{\"id\":\"14858\"}},\"id\":\"14842\",\"type\":\"ColumnDataSource\"},{\"attributes\":{},\"id\":\"14819\",\"type\":\"AllLabels\"},{\"attributes\":{},\"id\":\"15137\",\"type\":\"UnionRenderers\"},{\"attributes\":{\"line_alpha\":0.1,\"line_color\":\"red\",\"line_width\":5,\"x\":{\"field\":\"neighbourhood\"},\"y\":{\"field\":\"value\"}},\"id\":\"14846\",\"type\":\"Line\"},{\"attributes\":{\"line_color\":\"red\",\"line_width\":5,\"x\":{\"field\":\"neighbourhood\"},\"y\":{\"field\":\"value\"}},\"id\":\"14941\",\"type\":\"Line\"},{\"attributes\":{\"line_color\":\"red\",\"line_width\":5,\"x\":{\"field\":\"neighbourhood\"},\"y\":{\"field\":\"value\"}},\"id\":\"14866\",\"type\":\"Line\"},{\"attributes\":{\"label\":{\"value\":\"movable_dwelling\"},\"renderers\":[{\"id\":\"14869\"}]},\"id\":\"14884\",\"type\":\"LegendItem\"},{\"attributes\":{\"line_color\":\"red\",\"line_width\":5,\"x\":{\"field\":\"neighbourhood\"},\"y\":{\"field\":\"value\"}},\"id\":\"14914\",\"type\":\"Line\"},{\"attributes\":{},\"id\":\"14794\",\"type\":\"CategoricalTicker\"},{\"attributes\":{},\"id\":\"14933\",\"type\":\"UnionRenderers\"},{\"attributes\":{\"coordinates\":null,\"data_source\":{\"id\":\"15103\"},\"glyph\":{\"id\":\"15106\"},\"group\":null,\"hover_glyph\":null,\"muted_glyph\":{\"id\":\"15108\"},\"nonselection_glyph\":{\"id\":\"15107\"},\"selection_glyph\":{\"id\":\"15141\"},\"view\":{\"id\":\"15110\"}},\"id\":\"15109\",\"type\":\"GlyphRenderer\"},{\"attributes\":{\"axis_label\":\"Price\",\"axis_label_text_font_size\":\"9.75px\",\"coordinates\":null,\"formatter\":{\"id\":\"14815\"},\"group\":null,\"group_text_font_size\":\"8.25px\",\"major_label_orientation\":1.0471975511965976,\"major_label_policy\":{\"id\":\"14816\"},\"major_label_text_font_size\":\"8.25px\",\"ticker\":{\"id\":\"14794\"}},\"id\":\"14793\",\"type\":\"CategoricalAxis\"},{\"attributes\":{},\"id\":\"14843\",\"type\":\"Selection\"},{\"attributes\":{\"axis\":{\"id\":\"14796\"},\"coordinates\":null,\"dimension\":1,\"grid_line_color\":null,\"group\":null,\"ticker\":null},\"id\":\"14799\",\"type\":\"Grid\"},{\"attributes\":{\"line_alpha\":0.1,\"line_color\":\"red\",\"line_width\":5,\"x\":{\"field\":\"neighbourhood\"},\"y\":{\"field\":\"value\"}},\"id\":\"15002\",\"type\":\"Line\"},{\"attributes\":{\"line_color\":\"red\",\"line_width\":5,\"x\":{\"field\":\"neighbourhood\"},\"y\":{\"field\":\"value\"}},\"id\":\"14841\",\"type\":\"Line\"},{\"attributes\":{\"line_alpha\":0.2,\"line_color\":\"red\",\"line_width\":5,\"x\":{\"field\":\"neighbourhood\"},\"y\":{\"field\":\"value\"}},\"id\":\"14827\",\"type\":\"Line\"}],\"root_ids\":[\"14768\",\"15577\"]},\"title\":\"Bokeh Application\",\"version\":\"2.4.2\"}};\n",
       "    var render_items = [{\"docid\":\"eb0b890a-5bf9-45ae-8e67-513897c0c52c\",\"root_ids\":[\"14768\"],\"roots\":{\"14768\":\"46a1313f-bc04-4bba-8a4d-536afb4e4083\"}}];\n",
       "    root.Bokeh.embed.embed_items_notebook(docs_json, render_items);\n",
       "  }\n",
       "  if (root.Bokeh !== undefined && root.Bokeh.Panel !== undefined && ( root['Plotly'] !== undefined)) {\n",
       "    embed_document(root);\n",
       "  } else {\n",
       "    var attempts = 0;\n",
       "    var timer = setInterval(function(root) {\n",
       "      if (root.Bokeh !== undefined && root.Bokeh.Panel !== undefined && (root['Plotly'] !== undefined)) {\n",
       "        clearInterval(timer);\n",
       "        embed_document(root);\n",
       "      } else if (document.readyState == \"complete\") {\n",
       "        attempts++;\n",
       "        if (attempts > 200) {\n",
       "          clearInterval(timer);\n",
       "          console.log(\"Bokeh: ERROR: Unable to run BokehJS code because BokehJS library is missing\");\n",
       "        }\n",
       "      }\n",
       "    }, 25, root)\n",
       "  }\n",
       "})(window);</script>"
      ],
      "text/plain": [
       "Column\n",
       "    [0] Column()\n",
       "    [1] Row\n",
       "        [0] HoloViews(NdOverlay, name='interactive49100')"
      ]
     },
     "execution_count": 149,
     "metadata": {
      "application/vnd.holoviews_exec.v0+json": {
       "id": "14768"
      }
     },
     "output_type": "execute_result"
    }
   ],
   "source": [
    "pn.interact(top_most_expensive_neighbourhoods)"
   ]
  },
  {
   "cell_type": "markdown",
   "metadata": {},
   "source": [
    "## Panel Dashboard\n",
    "\n",
    "In this section, you will combine all of the plots into a single dashboard view using Panel. Be creative with your dashboard design!"
   ]
  },
  {
   "cell_type": "code",
   "execution_count": 73,
   "metadata": {},
   "outputs": [],
   "source": [
    "# Create a Title for the Dashboard\n",
    "# YOUR CODE HERE!\n",
    "\n",
    "# Define a welcome text\n",
    "# YOUR CODE HERE!\n",
    "\n",
    "# Create a tab layout for the dashboard\n",
    "# YOUR CODE HERE!\n",
    "\n",
    "\n",
    "# Create the main dashboard\n",
    "# YOUR CODE HERE!"
   ]
  },
  {
   "cell_type": "code",
   "execution_count": 73,
   "metadata": {},
   "outputs": [],
   "source": [
    "\n",
    "\n",
    "def top_most_expensive_neighbourhoods(\n",
    "    \n",
    "rich_of_the_rich_top_10 = richest_neighbourhoods_sorted_top_10.hvplot(yformatter=\"%.0f\", width=1500,height=600, rot=60, \n",
    "                                                           title='Top 10 Most Expensive Neighbourhoods In Toronto',\n",
    "                                                           ylabel='Price',\n",
    "                                                          xlabel='Price', fontscale=.75, line_width=5, color='red')\n",
    "):\n",
    "    return rich_of_the_rich_top_10\n",
    "\n",
    "    \"\"\"Top 10 most expensive neighbourhoods.\"\"\"\n",
    "    \n",
    "\n",
    "\n",
    "\n",
    "\n",
    "\n",
    "\n",
    "\n",
    "\n",
    "\n",
    "\n",
    "\n",
    "\n",
    "\n",
    "\n",
    "\n",
    "\n",
    "\n",
    "\n",
    "\n"
   ]
  },
  {
   "cell_type": "markdown",
   "metadata": {},
   "source": [
    "## Serve the Panel Dashboard"
   ]
  },
  {
   "cell_type": "code",
   "execution_count": 74,
   "metadata": {},
   "outputs": [
    {
     "ename": "NameError",
     "evalue": "name 'dashboard' is not defined",
     "output_type": "error",
     "traceback": [
      "\u001b[1;31m---------------------------------------------------------------------------\u001b[0m",
      "\u001b[1;31mNameError\u001b[0m                                 Traceback (most recent call last)",
      "\u001b[1;32m~\\AppData\\Local\\Temp/ipykernel_10560/2090372765.py\u001b[0m in \u001b[0;36m<module>\u001b[1;34m\u001b[0m\n\u001b[1;32m----> 1\u001b[1;33m \u001b[0mdashboard\u001b[0m\u001b[1;33m.\u001b[0m\u001b[0mservable\u001b[0m\u001b[1;33m(\u001b[0m\u001b[1;33m)\u001b[0m\u001b[1;33m\u001b[0m\u001b[1;33m\u001b[0m\u001b[0m\n\u001b[0m",
      "\u001b[1;31mNameError\u001b[0m: name 'dashboard' is not defined"
     ]
    }
   ],
   "source": [
    "dashboard.servable()"
   ]
  },
  {
   "cell_type": "markdown",
   "metadata": {},
   "source": [
    "# Debugging\n",
    "\n",
    "Note: Some of the Plotly express plots may not render in the notebook through the panel functions.\n",
    "\n",
    "However, you can test each plot by uncommenting the following code"
   ]
  },
  {
   "cell_type": "code",
   "execution_count": 39,
   "metadata": {},
   "outputs": [],
   "source": [
    "# neighbourhood_map().show()"
   ]
  },
  {
   "cell_type": "code",
   "execution_count": 40,
   "metadata": {},
   "outputs": [],
   "source": [
    "# create_bar_chart(data, title, xlabel, ylabel, color)\n",
    "\n",
    "# # Bar chart for 2001\n",
    "# create_bar_chart(df_dwelling_units.loc[2001], \"Dwelling Types in Toronto in 2001\", \"2001\", \"Dwelling Type Units\", \"red\")\n",
    "\n",
    "# # Bar chart for 2006\n",
    "# create_bar_chart(df_dwelling_units.loc[2006], \"Dwelling Types in Toronto in 2006\", \"2006\", \"Dwelling Type Units\", \"blue\")\n",
    "\n",
    "# # Bar chart for 2011\n",
    "# create_bar_chart(df_dwelling_units.loc[2011], \"Dwelling Types in Toronto in 2011\", \"2011\", \"Dwelling Type Units\", \"orange\")\n",
    "\n",
    "# # Bar chart for 2016\n",
    "# create_bar_chart(df_dwelling_units.loc[2016], \"Dwelling Types in Toronto in 2016\", \"2016\", \"Dwelling Type Units\", \"magenta\")"
   ]
  },
  {
   "cell_type": "code",
   "execution_count": null,
   "metadata": {},
   "outputs": [],
   "source": [
    "# create_line_chart(data, title, xlabel, ylabel, color)\n",
    "\n",
    "# # Line chart for owned dwellings\n",
    "# create_line_chart(df_avg_costs[\"shelter_costs_owned\"], \"Average Monthly Shelter Cost for Owned Dwellings in Toronto\", \"Year\", \"Avg Monthly Shelter Costs\", \"blue\")\n",
    "\n",
    "# # Line chart for rented dwellings\n",
    "# create_line_chart(df_avg_costs[\"shelter_costs_rented\"], \"Average Monthly Shelter Cost for Rented Dwellings in Toronto\", \"Year\", \"Avg Monthly Shelter Costs\", \"orange\")"
   ]
  },
  {
   "cell_type": "code",
   "execution_count": null,
   "metadata": {},
   "outputs": [],
   "source": [
    "# average_house_value()"
   ]
  },
  {
   "cell_type": "code",
   "execution_count": null,
   "metadata": {},
   "outputs": [],
   "source": [
    "# average_value_by_neighbourhood()"
   ]
  },
  {
   "cell_type": "code",
   "execution_count": null,
   "metadata": {},
   "outputs": [],
   "source": [
    "# number_dwelling_types()"
   ]
  },
  {
   "cell_type": "code",
   "execution_count": null,
   "metadata": {},
   "outputs": [],
   "source": [
    "# average_house_value_snapshot()"
   ]
  },
  {
   "cell_type": "code",
   "execution_count": null,
   "metadata": {},
   "outputs": [],
   "source": [
    "# top_most_expensive_neighbourhoods()"
   ]
  },
  {
   "cell_type": "code",
   "execution_count": null,
   "metadata": {},
   "outputs": [],
   "source": [
    "# sunburts_cost_analysis()"
   ]
  }
 ],
 "metadata": {
  "file_extension": ".py",
  "kernelspec": {
   "display_name": "Python [conda env:pyvizenv] *",
   "language": "python",
   "name": "conda-env-pyvizenv-py"
  },
  "language_info": {
   "codemirror_mode": {
    "name": "ipython",
    "version": 3
   },
   "file_extension": ".py",
   "mimetype": "text/x-python",
   "name": "python",
   "nbconvert_exporter": "python",
   "pygments_lexer": "ipython3",
   "version": "3.7.11"
  },
  "mimetype": "text/x-python",
  "name": "python",
  "npconvert_exporter": "python",
  "pygments_lexer": "ipython3",
  "version": 3
 },
 "nbformat": 4,
 "nbformat_minor": 4
}
